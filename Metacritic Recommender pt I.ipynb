{
 "cells": [
  {
   "cell_type": "code",
   "execution_count": 1,
   "metadata": {
    "collapsed": true
   },
   "outputs": [],
   "source": [
    "import numpy as np\n",
    "import pandas as pd\n",
    "\n",
    "from scipy import sparse\n",
    "from sklearn.neighbors import NearestNeighbors\n",
    "from sklearn.metrics.pairwise import euclidean_distances\n",
    "\n",
    "from sklearn.model_selection import train_test_split\n",
    "\n",
    "import matplotlib.pyplot as plt\n",
    "%matplotlib inline"
   ]
  },
  {
   "cell_type": "code",
   "execution_count": 2,
   "metadata": {
    "collapsed": true
   },
   "outputs": [],
   "source": [
    "df = pd.read_csv('metacriticfortuning.csv', index_col='Unnamed: 0')"
   ]
  },
  {
   "cell_type": "code",
   "execution_count": 35,
   "metadata": {},
   "outputs": [
    {
     "data": {
      "text/plain": [
       "array(['GamingXP', 'LEVEL (Czech Republic)', 'PC Master (Greece)', ...,\n",
       "       'GuilhermeLeme13', 'Andrea', 'skulltulainahat'], dtype=object)"
      ]
     },
     "execution_count": 35,
     "metadata": {},
     "output_type": "execute_result"
    }
   ],
   "source": [
    "df['reviewer_name'].unique()"
   ]
  },
  {
   "cell_type": "code",
   "execution_count": 4,
   "metadata": {},
   "outputs": [
    {
     "data": {
      "text/plain": [
       "2.592250295767884"
      ]
     },
     "execution_count": 4,
     "metadata": {},
     "output_type": "execute_result"
    }
   ],
   "source": [
    "#Old Dataset has an average of 2.59 reviews per person...\n",
    "np.mean(df.reviewer_id.value_counts())"
   ]
  },
  {
   "cell_type": "code",
   "execution_count": 5,
   "metadata": {},
   "outputs": [
    {
     "data": {
      "text/plain": [
       "221303"
      ]
     },
     "execution_count": 5,
     "metadata": {},
     "output_type": "execute_result"
    }
   ],
   "source": [
    "#Old Dataset has 221303 reviews...\n",
    "len(df)"
   ]
  },
  {
   "cell_type": "code",
   "execution_count": 6,
   "metadata": {
    "scrolled": true
   },
   "outputs": [
    {
     "name": "stdout",
     "output_type": "stream",
     "text": [
      "37       2446\n",
      "34       2417\n",
      "4        2308\n",
      "30       1365\n",
      "87       1130\n",
      "36       1109\n",
      "1        1027\n",
      "61       1025\n",
      "40        965\n",
      "188       954\n",
      "158       864\n",
      "59        856\n",
      "62        855\n",
      "41        844\n",
      "196       817\n",
      "82        806\n",
      "33        805\n",
      "354       803\n",
      "189       793\n",
      "159       786\n",
      "57        779\n",
      "148       754\n",
      "79        747\n",
      "142       719\n",
      "81        709\n",
      "547       705\n",
      "38        687\n",
      "270       654\n",
      "63        635\n",
      "167       632\n",
      "         ... \n",
      "12618       1\n",
      "27894       1\n",
      "332         1\n",
      "4430        1\n",
      "59729       1\n",
      "45274       1\n",
      "63827       1\n",
      "49492       1\n",
      "51541       1\n",
      "53590       1\n",
      "41304       1\n",
      "43353       1\n",
      "18757       1\n",
      "28994       1\n",
      "24896       1\n",
      "71919       1\n",
      "69870       1\n",
      "67821       1\n",
      "65772       1\n",
      "80107       1\n",
      "78058       1\n",
      "76009       1\n",
      "73960       1\n",
      "84197       1\n",
      "82148       1\n",
      "39135       1\n",
      "35037       1\n",
      "32988       1\n",
      "47323       1\n",
      "2047        1\n",
      "Name: reviewer_id, Length: 85371, dtype: int64\n"
     ]
    }
   ],
   "source": [
    "#Old Dataset has 85371 reviewers...\n",
    "revcount = df.reviewer_id.value_counts()\n",
    "print revcount"
   ]
  },
  {
   "cell_type": "code",
   "execution_count": 7,
   "metadata": {
    "collapsed": true
   },
   "outputs": [],
   "source": [
    "# I'm making a bad_df consisting of all the reviewers with less than two reviews.\n",
    "bad_df = df.groupby('reviewer_id').filter(lambda x: len(x) < 2)"
   ]
  },
  {
   "cell_type": "code",
   "execution_count": 8,
   "metadata": {},
   "outputs": [
    {
     "data": {
      "text/html": [
       "<div>\n",
       "<style>\n",
       "    .dataframe thead tr:only-child th {\n",
       "        text-align: right;\n",
       "    }\n",
       "\n",
       "    .dataframe thead th {\n",
       "        text-align: left;\n",
       "    }\n",
       "\n",
       "    .dataframe tbody tr th {\n",
       "        vertical-align: top;\n",
       "    }\n",
       "</style>\n",
       "<table border=\"1\" class=\"dataframe\">\n",
       "  <thead>\n",
       "    <tr style=\"text-align: right;\">\n",
       "      <th></th>\n",
       "      <th>is_critic</th>\n",
       "      <th>reviewer_name</th>\n",
       "      <th>reviewer_score</th>\n",
       "      <th>url</th>\n",
       "      <th>title</th>\n",
       "      <th>norm_score</th>\n",
       "      <th>genre</th>\n",
       "      <th>reviewer_id</th>\n",
       "    </tr>\n",
       "  </thead>\n",
       "  <tbody>\n",
       "    <tr>\n",
       "      <th>4451</th>\n",
       "      <td>0</td>\n",
       "      <td>theWrath</td>\n",
       "      <td>0</td>\n",
       "      <td>007-legends</td>\n",
       "      <td>007 Legends (PC)</td>\n",
       "      <td>0</td>\n",
       "      <td>Action, Shooter, First-Person, Modern, Arcade</td>\n",
       "      <td>5</td>\n",
       "    </tr>\n",
       "    <tr>\n",
       "      <th>4526</th>\n",
       "      <td>0</td>\n",
       "      <td>MSUpilot</td>\n",
       "      <td>0</td>\n",
       "      <td>007-legends</td>\n",
       "      <td>007 Legends (PC)</td>\n",
       "      <td>0</td>\n",
       "      <td>Action, Shooter, First-Person, Modern, Arcade</td>\n",
       "      <td>11</td>\n",
       "    </tr>\n",
       "    <tr>\n",
       "      <th>4534</th>\n",
       "      <td>0</td>\n",
       "      <td>portek20</td>\n",
       "      <td>10</td>\n",
       "      <td>007-legends</td>\n",
       "      <td>007 Legends (PC)</td>\n",
       "      <td>10</td>\n",
       "      <td>Action, Shooter, First-Person, Modern, Arcade</td>\n",
       "      <td>14</td>\n",
       "    </tr>\n",
       "    <tr>\n",
       "      <th>4691</th>\n",
       "      <td>0</td>\n",
       "      <td>DiabloZiri</td>\n",
       "      <td>3</td>\n",
       "      <td>007-legends</td>\n",
       "      <td>007 Legends (PC)</td>\n",
       "      <td>3</td>\n",
       "      <td>Action, Shooter, First-Person, Modern, Arcade</td>\n",
       "      <td>26</td>\n",
       "    </tr>\n",
       "    <tr>\n",
       "      <th>17520</th>\n",
       "      <td>0</td>\n",
       "      <td>hahahahaha</td>\n",
       "      <td>8</td>\n",
       "      <td>007-nightfire</td>\n",
       "      <td>007: NightFire (PC)</td>\n",
       "      <td>8</td>\n",
       "      <td>Action, Shooter, First-Person, Modern, Arcade</td>\n",
       "      <td>46</td>\n",
       "    </tr>\n",
       "  </tbody>\n",
       "</table>\n",
       "</div>"
      ],
      "text/plain": [
       "       is_critic reviewer_name  reviewer_score            url  \\\n",
       "4451           0      theWrath               0    007-legends   \n",
       "4526           0      MSUpilot               0    007-legends   \n",
       "4534           0      portek20              10    007-legends   \n",
       "4691           0    DiabloZiri               3    007-legends   \n",
       "17520          0    hahahahaha               8  007-nightfire   \n",
       "\n",
       "                     title  norm_score  \\\n",
       "4451      007 Legends (PC)           0   \n",
       "4526      007 Legends (PC)           0   \n",
       "4534      007 Legends (PC)          10   \n",
       "4691      007 Legends (PC)           3   \n",
       "17520  007: NightFire (PC)           8   \n",
       "\n",
       "                                               genre  reviewer_id  \n",
       "4451   Action, Shooter, First-Person, Modern, Arcade            5  \n",
       "4526   Action, Shooter, First-Person, Modern, Arcade           11  \n",
       "4534   Action, Shooter, First-Person, Modern, Arcade           14  \n",
       "4691   Action, Shooter, First-Person, Modern, Arcade           26  \n",
       "17520  Action, Shooter, First-Person, Modern, Arcade           46  "
      ]
     },
     "execution_count": 8,
     "metadata": {},
     "output_type": "execute_result"
    }
   ],
   "source": [
    "bad_df.head()"
   ]
  },
  {
   "cell_type": "markdown",
   "metadata": {},
   "source": [
    "## Let's drop everyone who's reviewd less than 5 games..."
   ]
  },
  {
   "cell_type": "code",
   "execution_count": 9,
   "metadata": {
    "collapsed": true
   },
   "outputs": [],
   "source": [
    "df = df.groupby('reviewer_id').filter(lambda x: len(x) >= 5)"
   ]
  },
  {
   "cell_type": "code",
   "execution_count": 10,
   "metadata": {
    "scrolled": true
   },
   "outputs": [
    {
     "name": "stdout",
     "output_type": "stream",
     "text": [
      "average reviews per person:\n",
      "24.8106847573\n",
      "\n",
      "length of dataframe:\n",
      "117032\n",
      "\n",
      "top reviewers:\n",
      "37       2446\n",
      "34       2417\n",
      "4        2308\n",
      "30       1365\n",
      "87       1130\n",
      "36       1109\n",
      "1        1027\n",
      "61       1025\n",
      "40        965\n",
      "188       954\n",
      "158       864\n",
      "59        856\n",
      "62        855\n",
      "41        844\n",
      "196       817\n",
      "82        806\n",
      "33        805\n",
      "354       803\n",
      "189       793\n",
      "159       786\n",
      "57        779\n",
      "148       754\n",
      "79        747\n",
      "142       719\n",
      "81        709\n",
      "547       705\n",
      "38        687\n",
      "270       654\n",
      "63        635\n",
      "167       632\n",
      "         ... \n",
      "25846       5\n",
      "2659        5\n",
      "27183       5\n",
      "23081       5\n",
      "4640        5\n",
      "43511       5\n",
      "29184       5\n",
      "3259        5\n",
      "38815       5\n",
      "11528       5\n",
      "9086        5\n",
      "15101       5\n",
      "11007       5\n",
      "12709       5\n",
      "23878       5\n",
      "6496        5\n",
      "15754       5\n",
      "20596       5\n",
      "22824       5\n",
      "22632       5\n",
      "22407       5\n",
      "31733       5\n",
      "43062       5\n",
      "25590       5\n",
      "5711        5\n",
      "6048        5\n",
      "20331       5\n",
      "50938       5\n",
      "12007       5\n",
      "45389       5\n",
      "Name: reviewer_id, Length: 4717, dtype: int64\n"
     ]
    }
   ],
   "source": [
    "#New Dataset has an average of 2.59 reviews per person...\n",
    "print \"average reviews per person:\"\n",
    "print np.mean(df.reviewer_id.value_counts())\n",
    "print\n",
    "#New Dataset has 221303 reviews...\n",
    "print \"length of dataframe:\"\n",
    "print len(df)\n",
    "print\n",
    "#New Dataset has 85371 reviewers...\n",
    "print \"top reviewers:\"\n",
    "print df.reviewer_id.value_counts()"
   ]
  },
  {
   "cell_type": "code",
   "execution_count": 11,
   "metadata": {},
   "outputs": [
    {
     "data": {
      "text/html": [
       "<div>\n",
       "<style>\n",
       "    .dataframe thead tr:only-child th {\n",
       "        text-align: right;\n",
       "    }\n",
       "\n",
       "    .dataframe thead th {\n",
       "        text-align: left;\n",
       "    }\n",
       "\n",
       "    .dataframe tbody tr th {\n",
       "        vertical-align: top;\n",
       "    }\n",
       "</style>\n",
       "<table border=\"1\" class=\"dataframe\">\n",
       "  <thead>\n",
       "    <tr style=\"text-align: right;\">\n",
       "      <th></th>\n",
       "      <th>is_critic</th>\n",
       "      <th>reviewer_name</th>\n",
       "      <th>reviewer_score</th>\n",
       "      <th>url</th>\n",
       "      <th>title</th>\n",
       "      <th>norm_score</th>\n",
       "      <th>genre</th>\n",
       "      <th>reviewer_id</th>\n",
       "    </tr>\n",
       "  </thead>\n",
       "  <tbody>\n",
       "    <tr>\n",
       "      <th>0</th>\n",
       "      <td>1</td>\n",
       "      <td>GamingXP</td>\n",
       "      <td>35</td>\n",
       "      <td>007-legends</td>\n",
       "      <td>007 Legends (PC)</td>\n",
       "      <td>4</td>\n",
       "      <td>Action, Shooter, First-Person, Modern, Arcade</td>\n",
       "      <td>0</td>\n",
       "    </tr>\n",
       "    <tr>\n",
       "      <th>1</th>\n",
       "      <td>1</td>\n",
       "      <td>GamingXP</td>\n",
       "      <td>35</td>\n",
       "      <td>007-legends</td>\n",
       "      <td>007 Legends (PC)</td>\n",
       "      <td>4</td>\n",
       "      <td>Action, Shooter, First-Person, Modern, Arcade</td>\n",
       "      <td>0</td>\n",
       "    </tr>\n",
       "    <tr>\n",
       "      <th>2</th>\n",
       "      <td>1</td>\n",
       "      <td>GamingXP</td>\n",
       "      <td>35</td>\n",
       "      <td>007-legends</td>\n",
       "      <td>007 Legends (PC)</td>\n",
       "      <td>4</td>\n",
       "      <td>Action, Shooter, First-Person, Modern, Arcade</td>\n",
       "      <td>0</td>\n",
       "    </tr>\n",
       "    <tr>\n",
       "      <th>3</th>\n",
       "      <td>1</td>\n",
       "      <td>GamingXP</td>\n",
       "      <td>81</td>\n",
       "      <td>15-days</td>\n",
       "      <td>15 Days (PC)</td>\n",
       "      <td>8</td>\n",
       "      <td>Adventure, General, Point-and-Click</td>\n",
       "      <td>0</td>\n",
       "    </tr>\n",
       "    <tr>\n",
       "      <th>4</th>\n",
       "      <td>1</td>\n",
       "      <td>GamingXP</td>\n",
       "      <td>81</td>\n",
       "      <td>15-days</td>\n",
       "      <td>15 Days (PC)</td>\n",
       "      <td>8</td>\n",
       "      <td>Adventure, General, Point-and-Click</td>\n",
       "      <td>0</td>\n",
       "    </tr>\n",
       "  </tbody>\n",
       "</table>\n",
       "</div>"
      ],
      "text/plain": [
       "   is_critic reviewer_name  reviewer_score          url             title  \\\n",
       "0          1      GamingXP              35  007-legends  007 Legends (PC)   \n",
       "1          1      GamingXP              35  007-legends  007 Legends (PC)   \n",
       "2          1      GamingXP              35  007-legends  007 Legends (PC)   \n",
       "3          1      GamingXP              81      15-days      15 Days (PC)   \n",
       "4          1      GamingXP              81      15-days      15 Days (PC)   \n",
       "\n",
       "   norm_score                                          genre  reviewer_id  \n",
       "0           4  Action, Shooter, First-Person, Modern, Arcade            0  \n",
       "1           4  Action, Shooter, First-Person, Modern, Arcade            0  \n",
       "2           4  Action, Shooter, First-Person, Modern, Arcade            0  \n",
       "3           8            Adventure, General, Point-and-Click            0  \n",
       "4           8            Adventure, General, Point-and-Click            0  "
      ]
     },
     "execution_count": 11,
     "metadata": {},
     "output_type": "execute_result"
    }
   ],
   "source": [
    "df.head()"
   ]
  },
  {
   "cell_type": "markdown",
   "metadata": {},
   "source": [
    "## After trimming off the reviewers.."
   ]
  },
  {
   "cell_type": "code",
   "execution_count": 12,
   "metadata": {
    "scrolled": false
   },
   "outputs": [
    {
     "data": {
      "text/plain": [
       "0      3055\n",
       "1      1480\n",
       "2      1872\n",
       "3      2821\n",
       "4      4663\n",
       "5      7095\n",
       "6     11520\n",
       "7     19450\n",
       "8     28973\n",
       "9     23403\n",
       "10    12700\n",
       "Name: norm_score, dtype: int64"
      ]
     },
     "execution_count": 12,
     "metadata": {},
     "output_type": "execute_result"
    }
   ],
   "source": [
    "df.norm_score.value_counts(sort=False)"
   ]
  },
  {
   "cell_type": "code",
   "execution_count": 13,
   "metadata": {},
   "outputs": [
    {
     "data": {
      "text/plain": [
       "<matplotlib.text.Text at 0x11a18cc90>"
      ]
     },
     "execution_count": 13,
     "metadata": {},
     "output_type": "execute_result"
    },
    {
     "data": {
      "image/png": "[encoded data removed]",
      "text/plain": [
       "<matplotlib.figure.Figure at 0x11ea40dd0>"
      ]
     },
     "metadata": {},
     "output_type": "display_data"
    }
   ],
   "source": [
    "plt.hist(df.norm_score, bins=11)\n",
    "plt.title(\"Users with 5+ reviews\")\n",
    "plt.xlabel(\"Score\")\n",
    "plt.ylabel(\"# of Reviews\")"
   ]
  },
  {
   "cell_type": "markdown",
   "metadata": {},
   "source": [
    "## Reviewers that were trimmed off"
   ]
  },
  {
   "cell_type": "code",
   "execution_count": 14,
   "metadata": {
    "scrolled": true
   },
   "outputs": [
    {
     "data": {
      "text/plain": [
       "0     11976\n",
       "1      3554\n",
       "2      2455\n",
       "3      2420\n",
       "4      2098\n",
       "5      2201\n",
       "6      1954\n",
       "7      2605\n",
       "8      4879\n",
       "9      8979\n",
       "10    21700\n",
       "Name: norm_score, dtype: int64"
      ]
     },
     "execution_count": 14,
     "metadata": {},
     "output_type": "execute_result"
    }
   ],
   "source": [
    "bad_df.norm_score.value_counts(sort=False)"
   ]
  },
  {
   "cell_type": "code",
   "execution_count": 15,
   "metadata": {
    "scrolled": true
   },
   "outputs": [
    {
     "data": {
      "text/plain": [
       "<matplotlib.text.Text at 0x11d632dd0>"
      ]
     },
     "execution_count": 15,
     "metadata": {},
     "output_type": "execute_result"
    },
    {
     "data": {
      "image/png": "[encoded data removed]",
      "text/plain": [
       "<matplotlib.figure.Figure at 0x11e9f2450>"
      ]
     },
     "metadata": {},
     "output_type": "display_data"
    }
   ],
   "source": [
    "plt.hist(bad_df.norm_score, bins=11);\n",
    "plt.title(\"Users with 1 review\")\n",
    "plt.xlabel(\"Score\")\n",
    "plt.ylabel(\"# of Reviews\")"
   ]
  },
  {
   "cell_type": "markdown",
   "metadata": {
    "collapsed": true
   },
   "source": [
    "# Setting up a pivot table"
   ]
  },
  {
   "cell_type": "code",
   "execution_count": 16,
   "metadata": {},
   "outputs": [
    {
     "data": {
      "text/plain": [
       "(4717, 4457)"
      ]
     },
     "execution_count": 16,
     "metadata": {},
     "output_type": "execute_result"
    }
   ],
   "source": [
    "pivot = df.pivot_table(index='reviewer_id', columns='title', values='norm_score')\n",
    "pivot.shape"
   ]
  },
  {
   "cell_type": "code",
   "execution_count": 17,
   "metadata": {},
   "outputs": [
    {
     "data": {
      "text/plain": [
       "(4717, 4457)"
      ]
     },
     "execution_count": 17,
     "metadata": {},
     "output_type": "execute_result"
    }
   ],
   "source": [
    "pivot.fillna(0).values\n",
    "pivot.shape"
   ]
  },
  {
   "cell_type": "code",
   "execution_count": 18,
   "metadata": {},
   "outputs": [
    {
     "data": {
      "text/html": [
       "<div>\n",
       "<style>\n",
       "    .dataframe thead tr:only-child th {\n",
       "        text-align: right;\n",
       "    }\n",
       "\n",
       "    .dataframe thead th {\n",
       "        text-align: left;\n",
       "    }\n",
       "\n",
       "    .dataframe tbody tr th {\n",
       "        vertical-align: top;\n",
       "    }\n",
       "</style>\n",
       "<table border=\"1\" class=\"dataframe\">\n",
       "  <thead>\n",
       "    <tr style=\"text-align: right;\">\n",
       "      <th>title</th>\n",
       "      <th>007 Legends (PC)</th>\n",
       "      <th>007: NightFire (PC)</th>\n",
       "      <th>007: Quantum of Solace (PC)</th>\n",
       "      <th>0RBITALIS (PC)</th>\n",
       "      <th>10 Second Ninja (PC)</th>\n",
       "      <th>10,000,000 (PC)</th>\n",
       "      <th>1001 Spikes (PC)</th>\n",
       "      <th>12 is Better Than 6 (PC)</th>\n",
       "      <th>140 (PC)</th>\n",
       "      <th>15 Days (PC)</th>\n",
       "      <th>...</th>\n",
       "      <th>Zoo Tycoon: Marine Mania (PC)</th>\n",
       "      <th>Zuma's Revenge! (PC)</th>\n",
       "      <th>continue?9876543210 (PC)</th>\n",
       "      <th>iRacing (PC)</th>\n",
       "      <th>imprint-X (PC)</th>\n",
       "      <th>inMomentum (PC)</th>\n",
       "      <th>kill.switch (PC)</th>\n",
       "      <th>nail'd (PC)</th>\n",
       "      <th>rymdkapsel (PC)</th>\n",
       "      <th>theHunter: Call of the Wild (PC)</th>\n",
       "    </tr>\n",
       "    <tr>\n",
       "      <th>reviewer_id</th>\n",
       "      <th></th>\n",
       "      <th></th>\n",
       "      <th></th>\n",
       "      <th></th>\n",
       "      <th></th>\n",
       "      <th></th>\n",
       "      <th></th>\n",
       "      <th></th>\n",
       "      <th></th>\n",
       "      <th></th>\n",
       "      <th></th>\n",
       "      <th></th>\n",
       "      <th></th>\n",
       "      <th></th>\n",
       "      <th></th>\n",
       "      <th></th>\n",
       "      <th></th>\n",
       "      <th></th>\n",
       "      <th></th>\n",
       "      <th></th>\n",
       "      <th></th>\n",
       "    </tr>\n",
       "  </thead>\n",
       "  <tbody>\n",
       "    <tr>\n",
       "      <th>0</th>\n",
       "      <td>4.0</td>\n",
       "      <td>NaN</td>\n",
       "      <td>NaN</td>\n",
       "      <td>NaN</td>\n",
       "      <td>NaN</td>\n",
       "      <td>NaN</td>\n",
       "      <td>NaN</td>\n",
       "      <td>NaN</td>\n",
       "      <td>NaN</td>\n",
       "      <td>8.0</td>\n",
       "      <td>...</td>\n",
       "      <td>NaN</td>\n",
       "      <td>6.0</td>\n",
       "      <td>NaN</td>\n",
       "      <td>NaN</td>\n",
       "      <td>NaN</td>\n",
       "      <td>NaN</td>\n",
       "      <td>NaN</td>\n",
       "      <td>7.0</td>\n",
       "      <td>NaN</td>\n",
       "      <td>NaN</td>\n",
       "    </tr>\n",
       "    <tr>\n",
       "      <th>1</th>\n",
       "      <td>3.0</td>\n",
       "      <td>NaN</td>\n",
       "      <td>6.0</td>\n",
       "      <td>NaN</td>\n",
       "      <td>NaN</td>\n",
       "      <td>NaN</td>\n",
       "      <td>NaN</td>\n",
       "      <td>NaN</td>\n",
       "      <td>NaN</td>\n",
       "      <td>6.0</td>\n",
       "      <td>...</td>\n",
       "      <td>NaN</td>\n",
       "      <td>NaN</td>\n",
       "      <td>NaN</td>\n",
       "      <td>NaN</td>\n",
       "      <td>NaN</td>\n",
       "      <td>5.0</td>\n",
       "      <td>NaN</td>\n",
       "      <td>6.0</td>\n",
       "      <td>8.0</td>\n",
       "      <td>NaN</td>\n",
       "    </tr>\n",
       "    <tr>\n",
       "      <th>2</th>\n",
       "      <td>3.0</td>\n",
       "      <td>NaN</td>\n",
       "      <td>NaN</td>\n",
       "      <td>NaN</td>\n",
       "      <td>NaN</td>\n",
       "      <td>NaN</td>\n",
       "      <td>NaN</td>\n",
       "      <td>NaN</td>\n",
       "      <td>NaN</td>\n",
       "      <td>NaN</td>\n",
       "      <td>...</td>\n",
       "      <td>NaN</td>\n",
       "      <td>NaN</td>\n",
       "      <td>NaN</td>\n",
       "      <td>NaN</td>\n",
       "      <td>NaN</td>\n",
       "      <td>NaN</td>\n",
       "      <td>NaN</td>\n",
       "      <td>NaN</td>\n",
       "      <td>NaN</td>\n",
       "      <td>NaN</td>\n",
       "    </tr>\n",
       "    <tr>\n",
       "      <th>3</th>\n",
       "      <td>3.0</td>\n",
       "      <td>NaN</td>\n",
       "      <td>NaN</td>\n",
       "      <td>NaN</td>\n",
       "      <td>NaN</td>\n",
       "      <td>5.0</td>\n",
       "      <td>NaN</td>\n",
       "      <td>NaN</td>\n",
       "      <td>NaN</td>\n",
       "      <td>NaN</td>\n",
       "      <td>...</td>\n",
       "      <td>NaN</td>\n",
       "      <td>NaN</td>\n",
       "      <td>NaN</td>\n",
       "      <td>NaN</td>\n",
       "      <td>NaN</td>\n",
       "      <td>NaN</td>\n",
       "      <td>NaN</td>\n",
       "      <td>NaN</td>\n",
       "      <td>NaN</td>\n",
       "      <td>NaN</td>\n",
       "    </tr>\n",
       "    <tr>\n",
       "      <th>4</th>\n",
       "      <td>2.0</td>\n",
       "      <td>6.0</td>\n",
       "      <td>NaN</td>\n",
       "      <td>NaN</td>\n",
       "      <td>NaN</td>\n",
       "      <td>NaN</td>\n",
       "      <td>NaN</td>\n",
       "      <td>NaN</td>\n",
       "      <td>NaN</td>\n",
       "      <td>NaN</td>\n",
       "      <td>...</td>\n",
       "      <td>NaN</td>\n",
       "      <td>6.0</td>\n",
       "      <td>NaN</td>\n",
       "      <td>NaN</td>\n",
       "      <td>NaN</td>\n",
       "      <td>NaN</td>\n",
       "      <td>7.0</td>\n",
       "      <td>8.0</td>\n",
       "      <td>NaN</td>\n",
       "      <td>6.0</td>\n",
       "    </tr>\n",
       "  </tbody>\n",
       "</table>\n",
       "<p>5 rows × 4457 columns</p>\n",
       "</div>"
      ],
      "text/plain": [
       "title        007 Legends (PC)  007: NightFire (PC)  \\\n",
       "reviewer_id                                          \n",
       "0                         4.0                  NaN   \n",
       "1                         3.0                  NaN   \n",
       "2                         3.0                  NaN   \n",
       "3                         3.0                  NaN   \n",
       "4                         2.0                  6.0   \n",
       "\n",
       "title        007: Quantum of Solace (PC)  0RBITALIS (PC)  \\\n",
       "reviewer_id                                                \n",
       "0                                    NaN             NaN   \n",
       "1                                    6.0             NaN   \n",
       "2                                    NaN             NaN   \n",
       "3                                    NaN             NaN   \n",
       "4                                    NaN             NaN   \n",
       "\n",
       "title        10 Second Ninja (PC)  10,000,000 (PC)  1001 Spikes (PC)  \\\n",
       "reviewer_id                                                            \n",
       "0                             NaN              NaN               NaN   \n",
       "1                             NaN              NaN               NaN   \n",
       "2                             NaN              NaN               NaN   \n",
       "3                             NaN              5.0               NaN   \n",
       "4                             NaN              NaN               NaN   \n",
       "\n",
       "title        12 is Better Than 6 (PC)  140 (PC)  15 Days (PC)  \\\n",
       "reviewer_id                                                     \n",
       "0                                 NaN       NaN           8.0   \n",
       "1                                 NaN       NaN           6.0   \n",
       "2                                 NaN       NaN           NaN   \n",
       "3                                 NaN       NaN           NaN   \n",
       "4                                 NaN       NaN           NaN   \n",
       "\n",
       "title                      ...                 Zoo Tycoon: Marine Mania (PC)  \\\n",
       "reviewer_id                ...                                                 \n",
       "0                          ...                                           NaN   \n",
       "1                          ...                                           NaN   \n",
       "2                          ...                                           NaN   \n",
       "3                          ...                                           NaN   \n",
       "4                          ...                                           NaN   \n",
       "\n",
       "title        Zuma's Revenge! (PC)  continue?9876543210 (PC)  iRacing (PC)  \\\n",
       "reviewer_id                                                                 \n",
       "0                             6.0                       NaN           NaN   \n",
       "1                             NaN                       NaN           NaN   \n",
       "2                             NaN                       NaN           NaN   \n",
       "3                             NaN                       NaN           NaN   \n",
       "4                             6.0                       NaN           NaN   \n",
       "\n",
       "title        imprint-X (PC)  inMomentum (PC)  kill.switch (PC)  nail'd (PC)  \\\n",
       "reviewer_id                                                                   \n",
       "0                       NaN              NaN               NaN          7.0   \n",
       "1                       NaN              5.0               NaN          6.0   \n",
       "2                       NaN              NaN               NaN          NaN   \n",
       "3                       NaN              NaN               NaN          NaN   \n",
       "4                       NaN              NaN               7.0          8.0   \n",
       "\n",
       "title        rymdkapsel (PC)  theHunter: Call of the Wild (PC)  \n",
       "reviewer_id                                                     \n",
       "0                        NaN                               NaN  \n",
       "1                        8.0                               NaN  \n",
       "2                        NaN                               NaN  \n",
       "3                        NaN                               NaN  \n",
       "4                        NaN                               6.0  \n",
       "\n",
       "[5 rows x 4457 columns]"
      ]
     },
     "execution_count": 18,
     "metadata": {},
     "output_type": "execute_result"
    }
   ],
   "source": [
    "pivot.head()"
   ]
  },
  {
   "cell_type": "code",
   "execution_count": 19,
   "metadata": {
    "scrolled": true
   },
   "outputs": [
    {
     "name": "stderr",
     "output_type": "stream",
     "text": [
      "/Users/fen/anaconda2/lib/python2.7/site-packages/sklearn/utils/validation.py:395: DeprecationWarning: Passing 1d arrays as data is deprecated in 0.17 and will raise ValueError in 0.19. Reshape your data either using X.reshape(-1, 1) if your data has a single feature or X.reshape(1, -1) if it contains a single sample.\n",
      "  DeprecationWarning)\n",
      "/Users/fen/anaconda2/lib/python2.7/site-packages/sklearn/utils/validation.py:395: DeprecationWarning: Passing 1d arrays as data is deprecated in 0.17 and will raise ValueError in 0.19. Reshape your data either using X.reshape(-1, 1) if your data has a single feature or X.reshape(1, -1) if it contains a single sample.\n",
      "  DeprecationWarning)\n"
     ]
    },
    {
     "data": {
      "text/plain": [
       "array([[ 151.46616784]])"
      ]
     },
     "execution_count": 19,
     "metadata": {},
     "output_type": "execute_result"
    }
   ],
   "source": [
    "euclidean_distances(pivot.iloc[0].fillna(0), pivot.iloc[5].fillna(0))"
   ]
  },
  {
   "cell_type": "code",
   "execution_count": 20,
   "metadata": {
    "scrolled": true
   },
   "outputs": [
    {
     "name": "stdout",
     "output_type": "stream",
     "text": [
      "GamingXP\n",
      "\n",
      "title\n",
      "007 Legends (PC)               3.0\n",
      "007: NightFire (PC)            NaN\n",
      "007: Quantum of Solace (PC)    NaN\n",
      "0RBITALIS (PC)                 NaN\n",
      "10 Second Ninja (PC)           NaN\n",
      "10,000,000 (PC)                NaN\n",
      "Name: 2, dtype: float64\n"
     ]
    }
   ],
   "source": [
    "A = 2\n",
    "print df.reviewer_name[A]\n",
    "print\n",
    "print pivot.iloc[A][:6]"
   ]
  },
  {
   "cell_type": "code",
   "execution_count": 21,
   "metadata": {
    "collapsed": true
   },
   "outputs": [],
   "source": [
    "pivotsparse = sparse.csc_matrix(pivot.fillna(0).values)"
   ]
  },
  {
   "cell_type": "code",
   "execution_count": 22,
   "metadata": {},
   "outputs": [
    {
     "data": {
      "text/plain": [
       "(4717, 4457)"
      ]
     },
     "execution_count": 22,
     "metadata": {},
     "output_type": "execute_result"
    }
   ],
   "source": [
    "pivot.fillna(0).shape"
   ]
  },
  {
   "cell_type": "code",
   "execution_count": 23,
   "metadata": {
    "scrolled": false
   },
   "outputs": [
    {
     "name": "stdout",
     "output_type": "stream",
     "text": [
      "  (0, 111)\t7.0\n",
      "  (0, 166)\t2.0\n",
      "  (0, 376)\t5.0\n",
      "  (0, 718)\t7.0\n",
      "  (0, 1480)\t8.0\n",
      "  (0, 3046)\t9.0\n",
      "  (0, 3543)\t7.0\n",
      "  (0, 3644)\t8.0\n",
      "  (0, 3772)\t8.0\n",
      "  (0, 3882)\t7.0\n",
      "  (0, 4330)\t7.0\n",
      "title\n",
      "Alan Wake's American Nightmare (PC)    7.0\n",
      "Amnesia: A Machine for Pigs (PC)       2.0\n",
      "Battlefield 3 (PC)                     5.0\n",
      "Clive Barker's Jericho (PC)            7.0\n",
      "Far Cry 3 (PC)                         8.0\n",
      "Quantum Conundrum (PC)                 9.0\n",
      "Starcraft II: Wings of Liberty (PC)    7.0\n",
      "Syndicate (2012) (PC)                  8.0\n",
      "The Elder Scrolls V: Skyrim (PC)       8.0\n",
      "The Secret World (PC)                  7.0\n",
      "Wolfenstein: The New Order (PC)        7.0\n",
      "Name: 2085, dtype: float64\n"
     ]
    }
   ],
   "source": [
    "print pivotsparse[800] #Scipy Sparse\n",
    "print pivot.iloc[800].dropna()"
   ]
  },
  {
   "cell_type": "code",
   "execution_count": 27,
   "metadata": {},
   "outputs": [
    {
     "name": "stdout",
     "output_type": "stream",
     "text": [
      "[[  0.          15.74801575  16.09347694  16.76305461  16.76305461]]\n",
      "--------------------\n",
      "[[ 960 3914  963 4264  735]]\n"
     ]
    }
   ],
   "source": [
    "# I put the pivotsparse in NearestNeighbors and checked the for the closest neighbors around user_id 800.\n",
    "X = pivotsparse\n",
    "nbrs = NearestNeighbors(n_neighbors=5).fit(X)\n",
    "distances, indices = nbrs.kneighbors(pivotsparse[960])\n",
    "print distances\n",
    "print \"-\"*20\n",
    "print indices"
   ]
  },
  {
   "cell_type": "code",
   "execution_count": 29,
   "metadata": {},
   "outputs": [
    {
     "name": "stdout",
     "output_type": "stream",
     "text": [
      "title\n",
      "Aliens vs. Predator (PC)                8.0\n",
      "Big Rigs: Over the Road Racing (PC)     0.0\n",
      "Left 4 Dead (PC)                       10.0\n",
      "Left 4 Dead 2 (PC)                     10.0\n",
      "Star Trek Online (PC)                   1.0\n",
      "Wolfenstein (PC)                        4.0\n",
      "Name: 2670, dtype: float64\n",
      "****************************************\n",
      "title\n",
      "Dead by Daylight (PC)             10.0\n",
      "Friday the 13th: The Game (PC)     6.0\n",
      "Grand Theft Auto V (PC)            2.0\n",
      "Left 4 Dead (PC)                   9.0\n",
      "Left 4 Dead 2 (PC)                 5.0\n",
      "Tactical Intervention (PC)         1.0\n",
      "Name: 25787, dtype: float64\n",
      "----------------------------------------\n",
      "title\n",
      "Aliens vs. Predator (PC)                8.0\n",
      "Call of Duty: Modern Warfare 2 (PC)     5.0\n",
      "Empire: Total War (PC)                  6.0\n",
      "Left 4 Dead (PC)                       10.0\n",
      "Tropico 3 (PC)                          9.0\n",
      "Name: 2683, dtype: float64\n",
      "----------------------------------------\n",
      "title\n",
      "Dota 2 (PC)                                  0.0\n",
      "FTL: Faster Than Light (PC)                  0.0\n",
      "Might & Magic: Duel of Champions (PC)        0.0\n",
      "War Thunder (PC)                             0.0\n",
      "World of Warcraft: Mists of Pandaria (PC)    0.0\n",
      "Name: 34640, dtype: float64\n",
      "----------------------------------------\n",
      "title\n",
      "Alan Wake (PC)                         0.0\n",
      "Alan Wake's American Nightmare (PC)    0.0\n",
      "Alien: Isolation (PC)                  0.0\n",
      "Company of Heroes 2 (PC)               0.0\n",
      "Diablo III (PC)                        0.0\n",
      "Name: 1978, dtype: float64\n"
     ]
    }
   ],
   "source": [
    "# Users similar to 960 (I will later accept a user input that will be fed into the DF)\n",
    "print pivot.iloc[960].dropna()\n",
    "print \"*\"*40\n",
    "#suggestions from other users...\n",
    "print pivot.iloc[3914].dropna()\n",
    "print \"-\"*40\n",
    "print pivot.iloc[963].dropna()\n",
    "print \"-\"*40\n",
    "print pivot.iloc[4264].dropna()\n",
    "print \"-\"*40\n",
    "print pivot.iloc[735].dropna()\n",
    "\n",
    "#Need to find a way to normalize the scores and penalize lower scores."
   ]
  },
  {
   "cell_type": "code",
   "execution_count": 26,
   "metadata": {},
   "outputs": [],
   "source": [
    "# Dead by Daylight is a good suggestion\n",
    "# Tropico 3 (dunno about this?)\n",
    "# last 2 reviewers are useless..."
   ]
  },
  {
   "cell_type": "markdown",
   "metadata": {
    "collapsed": true
   },
   "source": [
    "## Need to do more cleaning and adjusting...\n",
    "I may split paths here just in case I run into a dead end, but I will try to drop reviewers with an average review score of less than 4. I will aslo consider averaging the reviewer scores for each user and using that to weigh against some of the 0's. My Alternative path will consist of keeping more reviewers (bringing back users that have at least 3 reviews) and getting rid of scores that are less than 7."
   ]
  },
  {
   "cell_type": "code",
   "execution_count": null,
   "metadata": {
    "collapsed": true
   },
   "outputs": [],
   "source": []
  }
 ],
 "metadata": {
  "kernelspec": {
   "display_name": "Python 2",
   "language": "python",
   "name": "python2"
  },
  "language_info": {
   "codemirror_mode": {
    "name": "ipython",
    "version": 2
   },
   "file_extension": ".py",
   "mimetype": "text/x-python",
   "name": "python",
   "nbconvert_exporter": "python",
   "pygments_lexer": "ipython2",
   "version": "2.7.13"
  }
 },
 "nbformat": 4,
 "nbformat_minor": 2
}
