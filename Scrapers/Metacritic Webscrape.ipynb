{
 "cells": [
  {
   "cell_type": "code",
   "execution_count": 2,
   "metadata": {
    "collapsed": true
   },
   "outputs": [],
   "source": [
    "import numpy as np\n",
    "import pandas as pd\n",
    "import re\n",
    "import string\n",
    "\n",
    "import requests\n",
    "from bs4 import BeautifulSoup"
   ]
  },
  {
   "cell_type": "code",
   "execution_count": null,
   "metadata": {
    "collapsed": true
   },
   "outputs": [],
   "source": [
    "#import time\n",
    "\n",
    "#print \"Start : %s\" % time.ctime()\n",
    "#time.sleep( 5 )\n",
    "#print \"End : %s\" % time.ctime()"
   ]
  },
  {
   "cell_type": "code",
   "execution_count": 2,
   "metadata": {},
   "outputs": [
    {
     "name": "stdout",
     "output_type": "stream",
     "text": [
      "200\n"
     ]
    }
   ],
   "source": [
    "#H4X\n",
    "\n",
    "url = 'http://www.metacritic.com/browse/games/title/pc'\n",
    "headers = {'User-Agent': 'Mozilla/5.0 (Macintosh; Intel Mac OS X 10_10_1) AppleWebKit/537.36 (KHTML, like Gecko) Chrome/39.0.2171.95 Safari/537.36'}\n",
    "\n",
    "response = requests.get(url, headers=headers)\n",
    "print(response.status_code)"
   ]
  },
  {
   "cell_type": "code",
   "execution_count": 3,
   "metadata": {
    "collapsed": true
   },
   "outputs": [],
   "source": [
    "soup = BeautifulSoup(response.content, 'lxml')"
   ]
  },
  {
   "cell_type": "code",
   "execution_count": 4,
   "metadata": {
    "collapsed": true,
    "scrolled": true
   },
   "outputs": [],
   "source": [
    "# CREATE A LIST OF PAGES AND SUBPAGES\n",
    "pages = list('#' + string.ascii_lowercase)\n",
    "subpages = []"
   ]
  },
  {
   "cell_type": "code",
   "execution_count": 5,
   "metadata": {},
   "outputs": [
    {
     "name": "stdout",
     "output_type": "stream",
     "text": [
      "http://www.metacritic.com/browse/games/title/pc/#\n",
      "http://www.metacritic.com/browse/games/title/pc/a\n",
      "http://www.metacritic.com/browse/games/title/pc/b\n",
      "http://www.metacritic.com/browse/games/title/pc/c\n",
      "http://www.metacritic.com/browse/games/title/pc/d\n",
      "http://www.metacritic.com/browse/games/title/pc/e\n",
      "http://www.metacritic.com/browse/games/title/pc/f\n",
      "http://www.metacritic.com/browse/games/title/pc/g\n",
      "http://www.metacritic.com/browse/games/title/pc/h\n",
      "http://www.metacritic.com/browse/games/title/pc/i\n",
      "http://www.metacritic.com/browse/games/title/pc/j\n",
      "http://www.metacritic.com/browse/games/title/pc/k\n",
      "http://www.metacritic.com/browse/games/title/pc/l\n",
      "http://www.metacritic.com/browse/games/title/pc/m\n",
      "http://www.metacritic.com/browse/games/title/pc/n\n",
      "http://www.metacritic.com/browse/games/title/pc/o\n",
      "http://www.metacritic.com/browse/games/title/pc/p\n",
      "http://www.metacritic.com/browse/games/title/pc/q\n",
      "http://www.metacritic.com/browse/games/title/pc/r\n",
      "http://www.metacritic.com/browse/games/title/pc/s\n",
      "http://www.metacritic.com/browse/games/title/pc/t\n",
      "http://www.metacritic.com/browse/games/title/pc/u\n",
      "http://www.metacritic.com/browse/games/title/pc/v\n",
      "http://www.metacritic.com/browse/games/title/pc/w\n",
      "http://www.metacritic.com/browse/games/title/pc/x\n",
      "http://www.metacritic.com/browse/games/title/pc/y\n",
      "http://www.metacritic.com/browse/games/title/pc/z\n"
     ]
    }
   ],
   "source": [
    "#SCRAPE A LIST OF SUBPAGES\n",
    "for p in pages:\n",
    "    url = 'http://www.metacritic.com/browse/games/title/pc/'\n",
    "    response = requests.get(url + p, headers=headers)\n",
    "    soup = BeautifulSoup(response.content, 'lxml')\n",
    "    #CHECK IF PAGES HAVE SUBPAGES\n",
    "    if soup.find(('li'), {'class':'page last_page'}) == None:\n",
    "        subpages.append('')\n",
    "    else:\n",
    "        subpages.append(str(soup.find(('li'), {'class':'page last_page'}).find('a').text))\n",
    "    print url + p"
   ]
  },
  {
   "cell_type": "code",
   "execution_count": 6,
   "metadata": {},
   "outputs": [
    {
     "name": "stdout",
     "output_type": "stream",
     "text": [
      "27\n",
      "27\n"
     ]
    }
   ],
   "source": [
    "print len(subpages)\n",
    "print len (pages)"
   ]
  },
  {
   "cell_type": "code",
   "execution_count": 7,
   "metadata": {
    "collapsed": true
   },
   "outputs": [],
   "source": [
    "articles = dict(zip(pages, subpages))"
   ]
  },
  {
   "cell_type": "code",
   "execution_count": 8,
   "metadata": {},
   "outputs": [
    {
     "data": {
      "text/plain": [
       "[0, 1, 2]"
      ]
     },
     "execution_count": 8,
     "metadata": {},
     "output_type": "execute_result"
    }
   ],
   "source": [
    "range(int(articles['#']))"
   ]
  },
  {
   "cell_type": "code",
   "execution_count": 9,
   "metadata": {},
   "outputs": [
    {
     "name": "stdout",
     "output_type": "stream",
     "text": [
      "{'#': '3', 'a': '17', 'c': '17', 'b': '15', 'e': '9', 'd': '18', 'g': '9', 'f': '12', 'i': '6', 'h': '10', 'k': '4', 'j': '3', 'm': '16', 'l': '9', 'o': '5', 'n': '7', 'q': '2', 'p': '13', 's': '29', 'r': '12', 'u': '3', 't': '27', 'w': '9', 'v': '5', 'y': '2', 'x': '', 'z': '3'}\n"
     ]
    }
   ],
   "source": [
    "print articles"
   ]
  },
  {
   "cell_type": "code",
   "execution_count": 10,
   "metadata": {
    "collapsed": true
   },
   "outputs": [],
   "source": [
    "articles.keys();"
   ]
  },
  {
   "cell_type": "code",
   "execution_count": 11,
   "metadata": {
    "collapsed": true
   },
   "outputs": [],
   "source": [
    "testarticles = {'v': '5', 'y': '2', 'x': '', 'z': '3'}"
   ]
  },
  {
   "cell_type": "code",
   "execution_count": 12,
   "metadata": {},
   "outputs": [
    {
     "data": {
      "text/plain": [
       "{'v': '5', 'x': '', 'y': '2', 'z': '3'}"
      ]
     },
     "execution_count": 12,
     "metadata": {},
     "output_type": "execute_result"
    }
   ],
   "source": [
    "testarticles"
   ]
  },
  {
   "cell_type": "code",
   "execution_count": 4,
   "metadata": {},
   "outputs": [],
   "source": [
    "#TEST AREA 1\n",
    "\n",
    "url = 'http://www.metacritic.com/browse/games/title/pc/x?page=0'\n",
    "headers = {'User-Agent': 'Mozilla/5.0 (Macintosh; Intel Mac OS X 10_10_1) AppleWebKit/537.36 (KHTML, like Gecko) Chrome/39.0.2171.95 Safari/537.36'}\n",
    "\n",
    "response = requests.get(url, headers=headers)\n",
    "soup = BeautifulSoup(response.content, 'lxml')"
   ]
  },
  {
   "cell_type": "code",
   "execution_count": 9,
   "metadata": {},
   "outputs": [
    {
     "name": "stdout",
     "output_type": "stream",
     "text": [
      "'x-rebirth',\n",
      "'x-rebirth-vr-edition',\n",
      "'x-blades',\n",
      "'x-change',\n",
      "'x-change-2',\n",
      "'x-change-3',\n",
      "'x-com-apocalypse',\n",
      "'x-com-collectors-edition',\n",
      "'x-com-enforcer',\n",
      "'x-com-first-alien-invasion',\n",
      "'x-com-interceptor',\n",
      "'x-com-terror-from-the-deep',\n",
      "'x-men-legends-ii-rise-of-apocalypse',\n",
      "'x-men-origins-wolverine',\n",
      "'x-men-children-of-the-atom',\n",
      "'x-men-the-official-game',\n",
      "'x-men-the-ravages-of-apocalypse',\n",
      "'x-morph-defense',\n",
      "'x-note',\n",
      "'x-plane',\n",
      "'x-plane-8',\n",
      "'x-superbox-bundle',\n",
      "'x-tension',\n",
      "'x-wing-collectors-series',\n",
      "'x-wing-vs-tie-fighter-balance-of-power',\n",
      "'x2-the-threat',\n",
      "'x2-wolverines-revenge',\n",
      "'x3-gold',\n",
      "'x3-albion-prelude',\n",
      "'x3-reunion',\n",
      "'x3-terran-conflict',\n",
      "'x-beyond-the-frontier',\n",
      "'xanadu-next',\n",
      "'xango-tango',\n",
      "'xbird',\n",
      "'xblaze-code-embryo',\n",
      "'xblaze-lost-memories',\n",
      "'xcar-experimental-racing',\n",
      "'xcavalypse',\n",
      "'xcom-2',\n",
      "'xcom-2---alien-hunters',\n",
      "'xcom-2-shens-last-gift',\n",
      "'xcom-2-war-of-the-chosen',\n",
      "'xcom-enemy-unknown',\n",
      "'xcom-enemy-unknown---second-wave',\n",
      "'xcom-enemy-unknown---slingshot',\n",
      "'xcom-enemy-unknown---the-complete-edition',\n",
      "'xcom-enemy-within',\n",
      "'xcvb',\n",
      "'xemo-robot-simulation',\n",
      "'xenobloom',\n",
      "'xenocide',\n",
      "'xenon-valkyrie',\n",
      "'xenonauts',\n",
      "'xenophage-alien-bloodsport',\n",
      "'xenoraid',\n",
      "'xenoraptor',\n",
      "'xenoshyft',\n",
      "'xenoslaive-overdrive',\n",
      "'xenus-2-white-gold',\n",
      "'xenus-ii-white-gold',\n",
      "'xeodrifter',\n",
      "'xiii',\n",
      "'xiii-century-blood-of-europe',\n",
      "'xiii-century-death-or-glory',\n",
      "'xiii-century-gold-edition',\n",
      "'xiii-lost-identity',\n",
      "'xiizeal',\n",
      "'xing-chess',\n",
      "'xlarn',\n",
      "'xlr',\n",
      "'xmas-bonus',\n",
      "'xmas-shooting---scramble!!',\n",
      "'xmas-zombie-rampage',\n",
      "'xminutes-wings',\n",
      "'xmodule',\n",
      "'xnemesis-sandbox',\n",
      "'xo-planets',\n",
      "'xoel-empire',\n",
      "'xonotic',\n",
      "'xorced-sashiros-laedrum',\n",
      "'xotic',\n",
      "'xotic-pipe-works-expansion-pack',\n",
      "'xotic-pipe-works-expansion-pack',\n",
      "'xotic-temple-crypt-expansion-pack',\n",
      "'xotic-warp-field-expansion-pack',\n",
      "'xpand-rally',\n",
      "'xpand-rally-xtreme',\n",
      "'xs',\n",
      "'xsyon',\n",
      "'xtraction',\n",
      "'xtreme-air-racing',\n"
     ]
    }
   ],
   "source": [
    "#TEST AREA 2\n",
    "for row in soup.find(('ol'), {'class':'list_products list_product_condensed'}).find_all(('div'), {'class':'product_wrap'}):\n",
    "    #Get the url\n",
    "    html = row.find(('div'), {'class':'basic_stat product_title'})\n",
    "    #x = re.search(r'\\/pc\\/+((\\w+|\\W+)[^\\\"\\>]+)', str(html))\n",
    "    x = re.search(r'\\/pc\\/+((\\w*|\\W*)[^\\\"\\>]+)', str(html))\n",
    "    print \"'\"+x.group(1)+\"',\""
   ]
  },
  {
   "cell_type": "code",
   "execution_count": 97,
   "metadata": {
    "scrolled": true
   },
   "outputs": [
    {
     "name": "stdout",
     "output_type": "stream",
     "text": [
      "Collecting from: # subpage: 0\n",
      "Collecting from: # subpage: 1\n",
      "Collecting from: # subpage: 2\n",
      "Collecting from: a subpage: 0\n",
      "Collecting from: a subpage: 1\n",
      "Collecting from: a subpage: 2\n",
      "Collecting from: a subpage: 3\n",
      "Collecting from: a subpage: 4\n",
      "Collecting from: a subpage: 5\n",
      "Collecting from: a subpage: 6\n",
      "Collecting from: a subpage: 7\n",
      "Collecting from: a subpage: 8\n",
      "Collecting from: a subpage: 9\n",
      "Collecting from: a subpage: 10\n",
      "Collecting from: a subpage: 11\n",
      "Collecting from: a subpage: 12\n",
      "Collecting from: a subpage: 13\n",
      "Collecting from: a subpage: 14\n",
      "Collecting from: a subpage: 15\n",
      "Collecting from: a subpage: 16\n",
      "Collecting from: c subpage: 0\n",
      "Collecting from: c subpage: 1\n",
      "Collecting from: c subpage: 2\n",
      "Collecting from: c subpage: 3\n",
      "Collecting from: c subpage: 4\n",
      "Collecting from: c subpage: 5\n",
      "Collecting from: c subpage: 6\n",
      "Collecting from: c subpage: 7\n",
      "Collecting from: c subpage: 8\n",
      "Collecting from: c subpage: 9\n",
      "Collecting from: c subpage: 10\n",
      "Collecting from: c subpage: 11\n",
      "Collecting from: c subpage: 12\n",
      "Collecting from: c subpage: 13\n",
      "Collecting from: c subpage: 14\n",
      "Collecting from: c subpage: 15\n",
      "Collecting from: c subpage: 16\n",
      "Collecting from: b subpage: 0\n",
      "Collecting from: b subpage: 1\n",
      "Collecting from: b subpage: 2\n",
      "Collecting from: b subpage: 3\n",
      "Collecting from: b subpage: 4\n",
      "Collecting from: b subpage: 5\n",
      "Collecting from: b subpage: 6\n",
      "Collecting from: b subpage: 7\n",
      "Collecting from: b subpage: 8\n",
      "Collecting from: b subpage: 9\n",
      "Collecting from: b subpage: 10\n",
      "Collecting from: b subpage: 11\n",
      "Collecting from: b subpage: 12\n",
      "Collecting from: b subpage: 13\n",
      "Collecting from: b subpage: 14\n",
      "Collecting from: e subpage: 0\n",
      "Collecting from: e subpage: 1\n",
      "Collecting from: e subpage: 2\n",
      "Collecting from: e subpage: 3\n",
      "Collecting from: e subpage: 4\n",
      "Collecting from: e subpage: 5\n",
      "Collecting from: e subpage: 6\n",
      "Collecting from: e subpage: 7\n",
      "Collecting from: e subpage: 8\n",
      "Collecting from: d subpage: 0\n",
      "Collecting from: d subpage: 1\n",
      "Collecting from: d subpage: 2\n",
      "Collecting from: d subpage: 3\n",
      "Collecting from: d subpage: 4\n",
      "Collecting from: d subpage: 5\n",
      "Collecting from: d subpage: 6\n",
      "Collecting from: d subpage: 7\n",
      "Collecting from: d subpage: 8\n",
      "Collecting from: d subpage: 9\n",
      "Collecting from: d subpage: 10\n",
      "Collecting from: d subpage: 11\n",
      "Collecting from: d subpage: 12\n",
      "Collecting from: d subpage: 13\n",
      "Collecting from: d subpage: 14\n",
      "Collecting from: d subpage: 15\n",
      "Collecting from: d subpage: 16\n",
      "Collecting from: d subpage: 17\n",
      "Collecting from: g subpage: 0\n",
      "Collecting from: g subpage: 1\n",
      "Collecting from: g subpage: 2\n",
      "Collecting from: g subpage: 3\n",
      "Collecting from: g subpage: 4\n",
      "Collecting from: g subpage: 5\n",
      "Collecting from: g subpage: 6\n",
      "Collecting from: g subpage: 7\n",
      "Collecting from: g subpage: 8\n",
      "Collecting from: f subpage: 0\n",
      "Collecting from: f subpage: 1\n",
      "Collecting from: f subpage: 2\n",
      "Collecting from: f subpage: 3\n",
      "Collecting from: f subpage: 4\n",
      "Collecting from: f subpage: 5\n",
      "Collecting from: f subpage: 6\n",
      "Collecting from: f subpage: 7\n",
      "Collecting from: f subpage: 8\n",
      "Collecting from: f subpage: 9\n",
      "Collecting from: f subpage: 10\n",
      "Collecting from: f subpage: 11\n",
      "Collecting from: i subpage: 0\n",
      "Collecting from: i subpage: 1\n",
      "Collecting from: i subpage: 2\n",
      "Collecting from: i subpage: 3\n",
      "Collecting from: i subpage: 4\n",
      "Collecting from: i subpage: 5\n",
      "Collecting from: h subpage: 0\n",
      "Collecting from: h subpage: 1\n",
      "Collecting from: h subpage: 2\n",
      "Collecting from: h subpage: 3\n",
      "Collecting from: h subpage: 4\n",
      "Collecting from: h subpage: 5\n",
      "Collecting from: h subpage: 6\n",
      "Collecting from: h subpage: 7\n",
      "Collecting from: h subpage: 8\n",
      "Collecting from: h subpage: 9\n",
      "Collecting from: k subpage: 0\n",
      "Collecting from: k subpage: 1\n",
      "Collecting from: k subpage: 2\n",
      "Collecting from: k subpage: 3\n",
      "Collecting from: j subpage: 0\n",
      "Collecting from: j subpage: 1\n",
      "Collecting from: j subpage: 2\n",
      "Collecting from: m subpage: 0\n",
      "Collecting from: m subpage: 1\n",
      "Collecting from: m subpage: 2\n",
      "Collecting from: m subpage: 3\n",
      "Collecting from: m subpage: 4\n",
      "Collecting from: m subpage: 5\n",
      "Collecting from: m subpage: 6\n",
      "Collecting from: m subpage: 7\n",
      "Collecting from: m subpage: 8\n",
      "Collecting from: m subpage: 9\n",
      "Collecting from: m subpage: 10\n",
      "Collecting from: m subpage: 11\n",
      "Collecting from: m subpage: 12\n",
      "Collecting from: m subpage: 13\n",
      "Collecting from: m subpage: 14\n",
      "Collecting from: m subpage: 15\n",
      "Collecting from: l subpage: 0\n",
      "Collecting from: l subpage: 1\n",
      "Collecting from: l subpage: 2\n",
      "Collecting from: l subpage: 3\n",
      "Collecting from: l subpage: 4\n",
      "Collecting from: l subpage: 5\n",
      "Collecting from: l subpage: 6\n",
      "Collecting from: l subpage: 7\n",
      "Collecting from: l subpage: 8\n",
      "Collecting from: o subpage: 0\n",
      "Collecting from: o subpage: 1\n",
      "Collecting from: o subpage: 2\n",
      "Collecting from: o subpage: 3\n",
      "Collecting from: o subpage: 4\n",
      "Collecting from: n subpage: 0\n",
      "Collecting from: n subpage: 1\n",
      "Collecting from: n subpage: 2\n",
      "Collecting from: n subpage: 3\n",
      "Collecting from: n subpage: 4\n",
      "Collecting from: n subpage: 5\n",
      "Collecting from: n subpage: 6\n",
      "Collecting from: q subpage: 0\n",
      "Collecting from: q subpage: 1\n",
      "Collecting from: p subpage: 0\n",
      "Collecting from: p subpage: 1\n",
      "Collecting from: p subpage: 2\n",
      "Collecting from: p subpage: 3\n",
      "Collecting from: p subpage: 4\n",
      "Collecting from: p subpage: 5\n",
      "Collecting from: p subpage: 6\n",
      "Collecting from: p subpage: 7\n",
      "Collecting from: p subpage: 8\n",
      "Collecting from: p subpage: 9\n",
      "Collecting from: p subpage: 10\n",
      "Collecting from: p subpage: 11\n",
      "Collecting from: p subpage: 12\n",
      "Collecting from: s subpage: 0\n",
      "Collecting from: s subpage: 1\n",
      "Collecting from: s subpage: 2\n",
      "Collecting from: s subpage: 3\n",
      "Collecting from: s subpage: 4\n",
      "Collecting from: s subpage: 5\n",
      "Collecting from: s subpage: 6\n",
      "Collecting from: s subpage: 7\n",
      "Collecting from: s subpage: 8\n",
      "Collecting from: s subpage: 9\n",
      "Collecting from: s subpage: 10\n",
      "Collecting from: s subpage: 11\n",
      "Collecting from: s subpage: 12\n",
      "Collecting from: s subpage: 13\n",
      "Collecting from: s subpage: 14\n",
      "Collecting from: s subpage: 15\n",
      "Collecting from: s subpage: 16\n",
      "Collecting from: s subpage: 17\n",
      "Collecting from: s subpage: 18\n",
      "Collecting from: s subpage: 19\n",
      "Collecting from: s subpage: 20\n",
      "Collecting from: s subpage: 21\n",
      "Collecting from: s subpage: 22\n",
      "Collecting from: s subpage: 23\n",
      "Collecting from: s subpage: 24\n",
      "Collecting from: s subpage: 25\n",
      "Collecting from: s subpage: 26\n",
      "Collecting from: s subpage: 27\n",
      "Collecting from: s subpage: 28\n",
      "Collecting from: r subpage: 0\n",
      "Collecting from: r subpage: 1\n",
      "Collecting from: r subpage: 2\n",
      "Collecting from: r subpage: 3\n",
      "Collecting from: r subpage: 4\n",
      "Collecting from: r subpage: 5\n",
      "Collecting from: r subpage: 6\n",
      "Collecting from: r subpage: 7\n",
      "Collecting from: r subpage: 8\n",
      "Collecting from: r subpage: 9\n",
      "Collecting from: r subpage: 10\n",
      "Collecting from: r subpage: 11\n",
      "Collecting from: u subpage: 0\n",
      "Collecting from: u subpage: 1\n",
      "Collecting from: u subpage: 2\n",
      "Collecting from: t subpage: 0\n",
      "Collecting from: t subpage: 1\n",
      "Collecting from: t subpage: 2\n",
      "Collecting from: t subpage: 3\n",
      "Collecting from: t subpage: 4\n",
      "Collecting from: t subpage: 5\n",
      "Collecting from: t subpage: 6\n",
      "Collecting from: t subpage: 7\n",
      "Collecting from: t subpage: 8\n",
      "Collecting from: t subpage: 9\n",
      "Collecting from: t subpage: 10\n",
      "Collecting from: t subpage: 11\n",
      "Collecting from: t subpage: 12\n",
      "Collecting from: t subpage: 13\n",
      "Collecting from: t subpage: 14\n",
      "Collecting from: t subpage: 15\n",
      "Collecting from: t subpage: 16\n",
      "Collecting from: t subpage: 17\n",
      "Collecting from: t subpage: 18\n",
      "Collecting from: t subpage: 19\n",
      "Collecting from: t subpage: 20\n",
      "Collecting from: t subpage: 21\n",
      "Collecting from: t subpage: 22\n",
      "Collecting from: t subpage: 23\n",
      "Collecting from: t subpage: 24\n",
      "Collecting from: t subpage: 25\n",
      "Collecting from: t subpage: 26\n",
      "Collecting from: w subpage: 0\n",
      "Collecting from: w subpage: 1\n",
      "Collecting from: w subpage: 2\n",
      "Collecting from: w subpage: 3\n",
      "Collecting from: w subpage: 4\n",
      "Collecting from: w subpage: 5\n",
      "Collecting from: w subpage: 6\n",
      "Collecting from: w subpage: 7\n",
      "Collecting from: w subpage: 8\n",
      "Collecting from: v subpage: 0\n",
      "Collecting from: v subpage: 1\n",
      "Collecting from: v subpage: 2\n",
      "Collecting from: v subpage: 3\n",
      "Collecting from: v subpage: 4\n",
      "Collecting from: y subpage: 0\n",
      "Collecting from: y subpage: 1\n",
      "Collecting from: x subpage: 0\n",
      "Collecting from: z subpage: 0\n",
      "Collecting from: z subpage: 1\n",
      "Collecting from: z subpage: 2\n"
     ]
    }
   ],
   "source": [
    "#Scrape Pages\n",
    "metaList = []\n",
    "for i in articles:\n",
    "    \n",
    "    if articles[i] == '':\n",
    "        url = 'http://www.metacritic.com/browse/games/title/pc/'\n",
    "        response = requests.get(url + str(i) + '?page=' + '0', headers=headers)\n",
    "        soup = BeautifulSoup(response.content, 'lxml')\n",
    "        \n",
    "        #Status Check\n",
    "        print('Collecting from: '+ str(i) +' subpage: '+ '0')\n",
    "        \n",
    "        #Scrape\n",
    "        \n",
    "        for row in soup.find(('ol'), {'class':'list_products list_product_condensed'}).find_all(('div'), {'class':'product_wrap'}):\n",
    "            game = {}\n",
    "            #Get the Title\n",
    "            title = row.find(('div'), {'class':'basic_stat product_title'}).text.strip()\n",
    "            fixtitle = re.sub('\\s+',' ', title)\n",
    "            game['title'] = fixtitle\n",
    "\n",
    "            #Get the Score\n",
    "            score = row.find(('div'), {'class':'basic_stat product_score brief_metascore'}).text.strip()\n",
    "            game['title_score'] = score\n",
    "\n",
    "            #Add game to list\n",
    "            metaList.append(game)\n",
    "            \n",
    "############### EXCEPTION FOR NO SUBPAGES ####################\n",
    "\n",
    "    else:\n",
    "        #Scrape Subpages\n",
    "        for s in range(int(articles[i])):\n",
    "            url = 'http://www.metacritic.com/browse/games/title/pc/'\n",
    "            response = requests.get(url + str(i) + '?page=' + str(s), headers=headers)\n",
    "            soup = BeautifulSoup(response.content, 'lxml')\n",
    "\n",
    "            #Status Check\n",
    "            print('Collecting from: '+ str(i) +' subpage: '+ str(s))\n",
    "\n",
    "            #Scrape\n",
    "\n",
    "            for row in soup.find(('ol'), {'class':'list_products list_product_condensed'}).find_all(('div'), {'class':'product_wrap'}):\n",
    "                game = {}\n",
    "                \n",
    "                #Get the Title\n",
    "                title = row.find(('div'), {'class':'basic_stat product_title'}).text.strip()\n",
    "                fixtitle = re.sub('\\s+',' ', title)\n",
    "                game['title'] = fixtitle\n",
    "\n",
    "                #Get the Score\n",
    "                score = row.find(('div'), {'class':'basic_stat product_score brief_metascore'}).text.strip()\n",
    "                game['title_score'] = score\n",
    "                \n",
    "                    #Get the url\n",
    "                html = row.find(('div'), {'class':'basic_stat product_title'})\n",
    "                x = re.search(r'\\/pc\\/+((\\w*|\\W*)[^\\\"\\>]+)', str(html))\n",
    "                game['url'] = x.group(1)\n",
    "\n",
    "                #Add game to list\n",
    "                metaList.append(game)"
   ]
  },
  {
   "cell_type": "code",
   "execution_count": 98,
   "metadata": {},
   "outputs": [
    {
     "data": {
      "text/plain": [
       "25336"
      ]
     },
     "execution_count": 98,
     "metadata": {},
     "output_type": "execute_result"
    }
   ],
   "source": [
    "len(metaList)"
   ]
  },
  {
   "cell_type": "code",
   "execution_count": 99,
   "metadata": {
    "collapsed": true
   },
   "outputs": [],
   "source": [
    "metagames = pd.DataFrame(metaList)"
   ]
  },
  {
   "cell_type": "code",
   "execution_count": 100,
   "metadata": {},
   "outputs": [
    {
     "data": {
      "text/html": [
       "<div>\n",
       "<style>\n",
       "    .dataframe thead tr:only-child th {\n",
       "        text-align: right;\n",
       "    }\n",
       "\n",
       "    .dataframe thead th {\n",
       "        text-align: left;\n",
       "    }\n",
       "\n",
       "    .dataframe tbody tr th {\n",
       "        vertical-align: top;\n",
       "    }\n",
       "</style>\n",
       "<table border=\"1\" class=\"dataframe\">\n",
       "  <thead>\n",
       "    <tr style=\"text-align: right;\">\n",
       "      <th></th>\n",
       "      <th>title</th>\n",
       "      <th>title_score</th>\n",
       "      <th>url</th>\n",
       "    </tr>\n",
       "  </thead>\n",
       "  <tbody>\n",
       "    <tr>\n",
       "      <th>0</th>\n",
       "      <td>! That Bastard Is Trying To Steal Our Gold ! (PC)</td>\n",
       "      <td>tbd</td>\n",
       "      <td>!-that-bastard-is-trying-to-steal-our-gold-!</td>\n",
       "    </tr>\n",
       "    <tr>\n",
       "      <th>1</th>\n",
       "      <td>!nsane (PC)</td>\n",
       "      <td>tbd</td>\n",
       "      <td>!nsane</td>\n",
       "    </tr>\n",
       "    <tr>\n",
       "      <th>2</th>\n",
       "      <td>\"Glow Ball\" - The billiard puzzle game (PC)</td>\n",
       "      <td>tbd</td>\n",
       "      <td>glow-ball---the-billiard-puzzle-game</td>\n",
       "    </tr>\n",
       "    <tr>\n",
       "      <th>3</th>\n",
       "      <td>\"You have a choice. Make it.\" (PC)</td>\n",
       "      <td>tbd</td>\n",
       "      <td>you-have-a-choice-make-it</td>\n",
       "    </tr>\n",
       "    <tr>\n",
       "      <th>4</th>\n",
       "      <td>#KILLALLZOMBIES (PC)</td>\n",
       "      <td>tbd</td>\n",
       "      <td>killallzombies</td>\n",
       "    </tr>\n",
       "  </tbody>\n",
       "</table>\n",
       "</div>"
      ],
      "text/plain": [
       "                                               title title_score  \\\n",
       "0  ! That Bastard Is Trying To Steal Our Gold ! (PC)         tbd   \n",
       "1                                        !nsane (PC)         tbd   \n",
       "2        \"Glow Ball\" - The billiard puzzle game (PC)         tbd   \n",
       "3                 \"You have a choice. Make it.\" (PC)         tbd   \n",
       "4                               #KILLALLZOMBIES (PC)         tbd   \n",
       "\n",
       "                                            url  \n",
       "0  !-that-bastard-is-trying-to-steal-our-gold-!  \n",
       "1                                        !nsane  \n",
       "2          glow-ball---the-billiard-puzzle-game  \n",
       "3                     you-have-a-choice-make-it  \n",
       "4                                killallzombies  "
      ]
     },
     "execution_count": 100,
     "metadata": {},
     "output_type": "execute_result"
    }
   ],
   "source": [
    "metagames.head()"
   ]
  },
  {
   "cell_type": "code",
   "execution_count": 101,
   "metadata": {
    "collapsed": true
   },
   "outputs": [],
   "source": [
    "metagames.to_csv('metagames_score.csv')"
   ]
  }
 ],
 "metadata": {
  "kernelspec": {
   "display_name": "Python 2",
   "language": "python",
   "name": "python2"
  },
  "language_info": {
   "codemirror_mode": {
    "name": "ipython",
    "version": 2
   },
   "file_extension": ".py",
   "mimetype": "text/x-python",
   "name": "python",
   "nbconvert_exporter": "python",
   "pygments_lexer": "ipython2",
   "version": "2.7.13"
  }
 },
 "nbformat": 4,
 "nbformat_minor": 2
}
