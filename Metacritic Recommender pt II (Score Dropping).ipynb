{
 "cells": [
  {
   "cell_type": "markdown",
   "metadata": {},
   "source": [
    "# Starting Over\n",
    "I'm going to experiment with filtering out low review scores while keeping users with at least 3+ reviews. This will filter out most of the noise that we don't want in our dataset."
   ]
  },
  {
   "cell_type": "code",
   "execution_count": 33,
   "metadata": {
    "collapsed": true
   },
   "outputs": [],
   "source": [
    "import numpy as np\n",
    "import pandas as pd\n",
    "\n",
    "from scipy import sparse\n",
    "from sklearn.neighbors import NearestNeighbors\n",
    "from sklearn.metrics.pairwise import euclidean_distances\n",
    "\n",
    "from sklearn.model_selection import train_test_split\n",
    "\n",
    "import matplotlib.pyplot as plt\n",
    "%matplotlib inline"
   ]
  },
  {
   "cell_type": "code",
   "execution_count": 34,
   "metadata": {
    "collapsed": true
   },
   "outputs": [],
   "source": [
    "df = pd.read_csv('metacriticfortuning.csv', index_col='Unnamed: 0')"
   ]
  },
  {
   "cell_type": "code",
   "execution_count": 35,
   "metadata": {},
   "outputs": [
    {
     "data": {
      "text/html": [
       "<div>\n",
       "<style>\n",
       "    .dataframe thead tr:only-child th {\n",
       "        text-align: right;\n",
       "    }\n",
       "\n",
       "    .dataframe thead th {\n",
       "        text-align: left;\n",
       "    }\n",
       "\n",
       "    .dataframe tbody tr th {\n",
       "        vertical-align: top;\n",
       "    }\n",
       "</style>\n",
       "<table border=\"1\" class=\"dataframe\">\n",
       "  <thead>\n",
       "    <tr style=\"text-align: right;\">\n",
       "      <th></th>\n",
       "      <th>is_critic</th>\n",
       "      <th>reviewer_name</th>\n",
       "      <th>reviewer_score</th>\n",
       "      <th>url</th>\n",
       "      <th>title</th>\n",
       "      <th>norm_score</th>\n",
       "      <th>genre</th>\n",
       "      <th>reviewer_id</th>\n",
       "    </tr>\n",
       "  </thead>\n",
       "  <tbody>\n",
       "    <tr>\n",
       "      <th>0</th>\n",
       "      <td>1</td>\n",
       "      <td>GamingXP</td>\n",
       "      <td>35</td>\n",
       "      <td>007-legends</td>\n",
       "      <td>007 Legends (PC)</td>\n",
       "      <td>4</td>\n",
       "      <td>Action, Shooter, First-Person, Modern, Arcade</td>\n",
       "      <td>0</td>\n",
       "    </tr>\n",
       "    <tr>\n",
       "      <th>1</th>\n",
       "      <td>1</td>\n",
       "      <td>GamingXP</td>\n",
       "      <td>35</td>\n",
       "      <td>007-legends</td>\n",
       "      <td>007 Legends (PC)</td>\n",
       "      <td>4</td>\n",
       "      <td>Action, Shooter, First-Person, Modern, Arcade</td>\n",
       "      <td>0</td>\n",
       "    </tr>\n",
       "    <tr>\n",
       "      <th>2</th>\n",
       "      <td>1</td>\n",
       "      <td>GamingXP</td>\n",
       "      <td>35</td>\n",
       "      <td>007-legends</td>\n",
       "      <td>007 Legends (PC)</td>\n",
       "      <td>4</td>\n",
       "      <td>Action, Shooter, First-Person, Modern, Arcade</td>\n",
       "      <td>0</td>\n",
       "    </tr>\n",
       "    <tr>\n",
       "      <th>3</th>\n",
       "      <td>1</td>\n",
       "      <td>GamingXP</td>\n",
       "      <td>81</td>\n",
       "      <td>15-days</td>\n",
       "      <td>15 Days (PC)</td>\n",
       "      <td>8</td>\n",
       "      <td>Adventure, General, Point-and-Click</td>\n",
       "      <td>0</td>\n",
       "    </tr>\n",
       "    <tr>\n",
       "      <th>4</th>\n",
       "      <td>1</td>\n",
       "      <td>GamingXP</td>\n",
       "      <td>81</td>\n",
       "      <td>15-days</td>\n",
       "      <td>15 Days (PC)</td>\n",
       "      <td>8</td>\n",
       "      <td>Adventure, General, Point-and-Click</td>\n",
       "      <td>0</td>\n",
       "    </tr>\n",
       "  </tbody>\n",
       "</table>\n",
       "</div>"
      ],
      "text/plain": [
       "   is_critic reviewer_name  reviewer_score          url             title  \\\n",
       "0          1      GamingXP              35  007-legends  007 Legends (PC)   \n",
       "1          1      GamingXP              35  007-legends  007 Legends (PC)   \n",
       "2          1      GamingXP              35  007-legends  007 Legends (PC)   \n",
       "3          1      GamingXP              81      15-days      15 Days (PC)   \n",
       "4          1      GamingXP              81      15-days      15 Days (PC)   \n",
       "\n",
       "   norm_score                                          genre  reviewer_id  \n",
       "0           4  Action, Shooter, First-Person, Modern, Arcade            0  \n",
       "1           4  Action, Shooter, First-Person, Modern, Arcade            0  \n",
       "2           4  Action, Shooter, First-Person, Modern, Arcade            0  \n",
       "3           8            Adventure, General, Point-and-Click            0  \n",
       "4           8            Adventure, General, Point-and-Click            0  "
      ]
     },
     "execution_count": 35,
     "metadata": {},
     "output_type": "execute_result"
    }
   ],
   "source": [
    "df.head()"
   ]
  },
  {
   "cell_type": "code",
   "execution_count": 36,
   "metadata": {},
   "outputs": [
    {
     "data": {
      "text/plain": [
       "(221303, 8)"
      ]
     },
     "execution_count": 36,
     "metadata": {},
     "output_type": "execute_result"
    }
   ],
   "source": [
    "df.shape"
   ]
  },
  {
   "cell_type": "markdown",
   "metadata": {},
   "source": [
    "## First we keep only the reviews with a score greater than 5"
   ]
  },
  {
   "cell_type": "code",
   "execution_count": 37,
   "metadata": {
    "collapsed": true
   },
   "outputs": [],
   "source": [
    "df = df[df['norm_score'].values > 5] ###### THIS WAS SET TO 4"
   ]
  },
  {
   "cell_type": "code",
   "execution_count": 38,
   "metadata": {},
   "outputs": [
    {
     "data": {
      "text/plain": [
       "(163428, 8)"
      ]
     },
     "execution_count": 38,
     "metadata": {},
     "output_type": "execute_result"
    }
   ],
   "source": [
    "df.shape # We've lost quite a few bad reviews... let's see how this works."
   ]
  },
  {
   "cell_type": "markdown",
   "metadata": {},
   "source": [
    "## We also want to keep only the users with 4 or more reviews..."
   ]
  },
  {
   "cell_type": "code",
   "execution_count": 39,
   "metadata": {
    "collapsed": true
   },
   "outputs": [],
   "source": [
    "df = df.groupby('reviewer_id').filter(lambda x: len(x) > 3)"
   ]
  },
  {
   "cell_type": "code",
   "execution_count": 40,
   "metadata": {
    "scrolled": true
   },
   "outputs": [
    {
     "name": "stdout",
     "output_type": "stream",
     "text": [
      "average reviews per person:\n",
      "21.6808606006\n",
      "\n",
      "length of dataframe:\n",
      "96740\n",
      "\n",
      "top reviewers:\n",
      "34       2147\n",
      "37       2001\n",
      "4        1938\n",
      "30       1308\n",
      "87       1066\n",
      "61        966\n",
      "36        943\n",
      "1         838\n",
      "196       803\n",
      "188       785\n",
      "158       767\n",
      "33        755\n",
      "59        742\n",
      "189       742\n",
      "79        719\n",
      "148       716\n",
      "159       708\n",
      "41        704\n",
      "354       704\n",
      "62        692\n",
      "142       690\n",
      "82        649\n",
      "38        645\n",
      "57        637\n",
      "40        634\n",
      "81        613\n",
      "63        609\n",
      "270       600\n",
      "167       579\n",
      "547       570\n",
      "         ... \n",
      "16148       4\n",
      "1939        4\n",
      "22833       4\n",
      "39232       4\n",
      "9558        4\n",
      "23606       4\n",
      "11735       4\n",
      "4521        4\n",
      "15610       4\n",
      "10606       4\n",
      "16021       4\n",
      "1746        4\n",
      "11991       4\n",
      "5904        4\n",
      "18266       4\n",
      "30556       4\n",
      "38784       4\n",
      "42886       4\n",
      "41279       4\n",
      "26918       4\n",
      "20443       4\n",
      "52452       4\n",
      "18458       4\n",
      "47172       4\n",
      "8279        4\n",
      "12525       4\n",
      "7294        4\n",
      "211         4\n",
      "18594       4\n",
      "18072       4\n",
      "Name: reviewer_id, Length: 4462, dtype: int64\n"
     ]
    }
   ],
   "source": [
    "#New Dataset has an average of 2.59 reviews per person...\n",
    "print \"average reviews per person:\"\n",
    "print np.mean(df.reviewer_id.value_counts())\n",
    "print\n",
    "#New Dataset has 221303 reviews...\n",
    "print \"length of dataframe:\"\n",
    "print len(df)\n",
    "print\n",
    "#New Dataset has 85371 reviewers...\n",
    "print \"top reviewers:\"\n",
    "print df.reviewer_id.value_counts()"
   ]
  },
  {
   "cell_type": "code",
   "execution_count": 41,
   "metadata": {},
   "outputs": [
    {
     "data": {
      "text/html": [
       "<div>\n",
       "<style>\n",
       "    .dataframe thead tr:only-child th {\n",
       "        text-align: right;\n",
       "    }\n",
       "\n",
       "    .dataframe thead th {\n",
       "        text-align: left;\n",
       "    }\n",
       "\n",
       "    .dataframe tbody tr th {\n",
       "        vertical-align: top;\n",
       "    }\n",
       "</style>\n",
       "<table border=\"1\" class=\"dataframe\">\n",
       "  <thead>\n",
       "    <tr style=\"text-align: right;\">\n",
       "      <th></th>\n",
       "      <th>is_critic</th>\n",
       "      <th>reviewer_name</th>\n",
       "      <th>reviewer_score</th>\n",
       "      <th>url</th>\n",
       "      <th>title</th>\n",
       "      <th>norm_score</th>\n",
       "      <th>genre</th>\n",
       "      <th>reviewer_id</th>\n",
       "    </tr>\n",
       "  </thead>\n",
       "  <tbody>\n",
       "    <tr>\n",
       "      <th>3</th>\n",
       "      <td>1</td>\n",
       "      <td>GamingXP</td>\n",
       "      <td>81</td>\n",
       "      <td>15-days</td>\n",
       "      <td>15 Days (PC)</td>\n",
       "      <td>8</td>\n",
       "      <td>Adventure, General, Point-and-Click</td>\n",
       "      <td>0</td>\n",
       "    </tr>\n",
       "    <tr>\n",
       "      <th>4</th>\n",
       "      <td>1</td>\n",
       "      <td>GamingXP</td>\n",
       "      <td>81</td>\n",
       "      <td>15-days</td>\n",
       "      <td>15 Days (PC)</td>\n",
       "      <td>8</td>\n",
       "      <td>Adventure, General, Point-and-Click</td>\n",
       "      <td>0</td>\n",
       "    </tr>\n",
       "    <tr>\n",
       "      <th>5</th>\n",
       "      <td>1</td>\n",
       "      <td>GamingXP</td>\n",
       "      <td>81</td>\n",
       "      <td>15-days</td>\n",
       "      <td>15 Days (PC)</td>\n",
       "      <td>8</td>\n",
       "      <td>Adventure, General, Point-and-Click</td>\n",
       "      <td>0</td>\n",
       "    </tr>\n",
       "    <tr>\n",
       "      <th>6</th>\n",
       "      <td>1</td>\n",
       "      <td>GamingXP</td>\n",
       "      <td>72</td>\n",
       "      <td>a-game-of-thrones-genesis</td>\n",
       "      <td>A Game of Thrones: Genesis (PC)</td>\n",
       "      <td>7</td>\n",
       "      <td>Strategy, Real-Time, General, Historic, Fantas...</td>\n",
       "      <td>0</td>\n",
       "    </tr>\n",
       "    <tr>\n",
       "      <th>7</th>\n",
       "      <td>1</td>\n",
       "      <td>GamingXP</td>\n",
       "      <td>85</td>\n",
       "      <td>a-new-beginning-final-cut</td>\n",
       "      <td>A New Beginning: Final Cut (PC)</td>\n",
       "      <td>9</td>\n",
       "      <td>Adventure, General, General</td>\n",
       "      <td>0</td>\n",
       "    </tr>\n",
       "  </tbody>\n",
       "</table>\n",
       "</div>"
      ],
      "text/plain": [
       "   is_critic reviewer_name  reviewer_score                        url  \\\n",
       "3          1      GamingXP              81                    15-days   \n",
       "4          1      GamingXP              81                    15-days   \n",
       "5          1      GamingXP              81                    15-days   \n",
       "6          1      GamingXP              72  a-game-of-thrones-genesis   \n",
       "7          1      GamingXP              85  a-new-beginning-final-cut   \n",
       "\n",
       "                             title  norm_score  \\\n",
       "3                     15 Days (PC)           8   \n",
       "4                     15 Days (PC)           8   \n",
       "5                     15 Days (PC)           8   \n",
       "6  A Game of Thrones: Genesis (PC)           7   \n",
       "7  A New Beginning: Final Cut (PC)           9   \n",
       "\n",
       "                                               genre  reviewer_id  \n",
       "3                Adventure, General, Point-and-Click            0  \n",
       "4                Adventure, General, Point-and-Click            0  \n",
       "5                Adventure, General, Point-and-Click            0  \n",
       "6  Strategy, Real-Time, General, Historic, Fantas...            0  \n",
       "7                        Adventure, General, General            0  "
      ]
     },
     "execution_count": 41,
     "metadata": {},
     "output_type": "execute_result"
    }
   ],
   "source": [
    "df.head()"
   ]
  },
  {
   "cell_type": "markdown",
   "metadata": {},
   "source": [
    "## Need to fix the index and reviewer_id since they are now missing values...\n",
    "When we dropped some reviews and reviewrs we need to re-index the dataframe."
   ]
  },
  {
   "cell_type": "code",
   "execution_count": 42,
   "metadata": {
    "collapsed": true
   },
   "outputs": [],
   "source": [
    "df = df.reset_index()\n",
    "df = df.drop(['index'], axis=1)"
   ]
  },
  {
   "cell_type": "code",
   "execution_count": 43,
   "metadata": {
    "scrolled": true
   },
   "outputs": [
    {
     "data": {
      "text/html": [
       "<div>\n",
       "<style>\n",
       "    .dataframe thead tr:only-child th {\n",
       "        text-align: right;\n",
       "    }\n",
       "\n",
       "    .dataframe thead th {\n",
       "        text-align: left;\n",
       "    }\n",
       "\n",
       "    .dataframe tbody tr th {\n",
       "        vertical-align: top;\n",
       "    }\n",
       "</style>\n",
       "<table border=\"1\" class=\"dataframe\">\n",
       "  <thead>\n",
       "    <tr style=\"text-align: right;\">\n",
       "      <th></th>\n",
       "      <th>is_critic</th>\n",
       "      <th>reviewer_name</th>\n",
       "      <th>reviewer_score</th>\n",
       "      <th>url</th>\n",
       "      <th>title</th>\n",
       "      <th>norm_score</th>\n",
       "      <th>genre</th>\n",
       "      <th>reviewer_id</th>\n",
       "    </tr>\n",
       "  </thead>\n",
       "  <tbody>\n",
       "    <tr>\n",
       "      <th>0</th>\n",
       "      <td>1</td>\n",
       "      <td>GamingXP</td>\n",
       "      <td>81</td>\n",
       "      <td>15-days</td>\n",
       "      <td>15 Days (PC)</td>\n",
       "      <td>8</td>\n",
       "      <td>Adventure, General, Point-and-Click</td>\n",
       "      <td>0</td>\n",
       "    </tr>\n",
       "    <tr>\n",
       "      <th>1</th>\n",
       "      <td>1</td>\n",
       "      <td>GamingXP</td>\n",
       "      <td>81</td>\n",
       "      <td>15-days</td>\n",
       "      <td>15 Days (PC)</td>\n",
       "      <td>8</td>\n",
       "      <td>Adventure, General, Point-and-Click</td>\n",
       "      <td>0</td>\n",
       "    </tr>\n",
       "    <tr>\n",
       "      <th>2</th>\n",
       "      <td>1</td>\n",
       "      <td>GamingXP</td>\n",
       "      <td>81</td>\n",
       "      <td>15-days</td>\n",
       "      <td>15 Days (PC)</td>\n",
       "      <td>8</td>\n",
       "      <td>Adventure, General, Point-and-Click</td>\n",
       "      <td>0</td>\n",
       "    </tr>\n",
       "    <tr>\n",
       "      <th>3</th>\n",
       "      <td>1</td>\n",
       "      <td>GamingXP</td>\n",
       "      <td>72</td>\n",
       "      <td>a-game-of-thrones-genesis</td>\n",
       "      <td>A Game of Thrones: Genesis (PC)</td>\n",
       "      <td>7</td>\n",
       "      <td>Strategy, Real-Time, General, Historic, Fantas...</td>\n",
       "      <td>0</td>\n",
       "    </tr>\n",
       "    <tr>\n",
       "      <th>4</th>\n",
       "      <td>1</td>\n",
       "      <td>GamingXP</td>\n",
       "      <td>85</td>\n",
       "      <td>a-new-beginning-final-cut</td>\n",
       "      <td>A New Beginning: Final Cut (PC)</td>\n",
       "      <td>9</td>\n",
       "      <td>Adventure, General, General</td>\n",
       "      <td>0</td>\n",
       "    </tr>\n",
       "  </tbody>\n",
       "</table>\n",
       "</div>"
      ],
      "text/plain": [
       "   is_critic reviewer_name  reviewer_score                        url  \\\n",
       "0          1      GamingXP              81                    15-days   \n",
       "1          1      GamingXP              81                    15-days   \n",
       "2          1      GamingXP              81                    15-days   \n",
       "3          1      GamingXP              72  a-game-of-thrones-genesis   \n",
       "4          1      GamingXP              85  a-new-beginning-final-cut   \n",
       "\n",
       "                             title  norm_score  \\\n",
       "0                     15 Days (PC)           8   \n",
       "1                     15 Days (PC)           8   \n",
       "2                     15 Days (PC)           8   \n",
       "3  A Game of Thrones: Genesis (PC)           7   \n",
       "4  A New Beginning: Final Cut (PC)           9   \n",
       "\n",
       "                                               genre  reviewer_id  \n",
       "0                Adventure, General, Point-and-Click            0  \n",
       "1                Adventure, General, Point-and-Click            0  \n",
       "2                Adventure, General, Point-and-Click            0  \n",
       "3  Strategy, Real-Time, General, Historic, Fantas...            0  \n",
       "4                        Adventure, General, General            0  "
      ]
     },
     "execution_count": 43,
     "metadata": {},
     "output_type": "execute_result"
    }
   ],
   "source": [
    "df.head() #Our dataframe is looking nice and orderly again..."
   ]
  },
  {
   "cell_type": "code",
   "execution_count": 44,
   "metadata": {
    "collapsed": true
   },
   "outputs": [],
   "source": [
    "#Build a df to make a new reviewer_id so we don't have any empty spaces...\n",
    "revName = pd.DataFrame(df['reviewer_name'].unique())\n",
    "\n",
    "revName.columns = ['reviewer_name']\n",
    "revName['reviewer_id_fixt'] = range(len(revName))"
   ]
  },
  {
   "cell_type": "code",
   "execution_count": 45,
   "metadata": {},
   "outputs": [
    {
     "data": {
      "text/html": [
       "<div>\n",
       "<style>\n",
       "    .dataframe thead tr:only-child th {\n",
       "        text-align: right;\n",
       "    }\n",
       "\n",
       "    .dataframe thead th {\n",
       "        text-align: left;\n",
       "    }\n",
       "\n",
       "    .dataframe tbody tr th {\n",
       "        vertical-align: top;\n",
       "    }\n",
       "</style>\n",
       "<table border=\"1\" class=\"dataframe\">\n",
       "  <thead>\n",
       "    <tr style=\"text-align: right;\">\n",
       "      <th></th>\n",
       "      <th>reviewer_name</th>\n",
       "      <th>reviewer_id_fixt</th>\n",
       "    </tr>\n",
       "  </thead>\n",
       "  <tbody>\n",
       "    <tr>\n",
       "      <th>0</th>\n",
       "      <td>GamingXP</td>\n",
       "      <td>0</td>\n",
       "    </tr>\n",
       "    <tr>\n",
       "      <th>1</th>\n",
       "      <td>LEVEL (Czech Republic)</td>\n",
       "      <td>1</td>\n",
       "    </tr>\n",
       "    <tr>\n",
       "      <th>2</th>\n",
       "      <td>PC Master (Greece)</td>\n",
       "      <td>2</td>\n",
       "    </tr>\n",
       "    <tr>\n",
       "      <th>3</th>\n",
       "      <td>Riot Pixels</td>\n",
       "      <td>3</td>\n",
       "    </tr>\n",
       "    <tr>\n",
       "      <th>4</th>\n",
       "      <td>PC Gamer</td>\n",
       "      <td>4</td>\n",
       "    </tr>\n",
       "  </tbody>\n",
       "</table>\n",
       "</div>"
      ],
      "text/plain": [
       "            reviewer_name  reviewer_id_fixt\n",
       "0                GamingXP                 0\n",
       "1  LEVEL (Czech Republic)                 1\n",
       "2      PC Master (Greece)                 2\n",
       "3             Riot Pixels                 3\n",
       "4                PC Gamer                 4"
      ]
     },
     "execution_count": 45,
     "metadata": {},
     "output_type": "execute_result"
    }
   ],
   "source": [
    "revName.head()"
   ]
  },
  {
   "cell_type": "code",
   "execution_count": 46,
   "metadata": {},
   "outputs": [
    {
     "data": {
      "text/html": [
       "<div>\n",
       "<style>\n",
       "    .dataframe thead tr:only-child th {\n",
       "        text-align: right;\n",
       "    }\n",
       "\n",
       "    .dataframe thead th {\n",
       "        text-align: left;\n",
       "    }\n",
       "\n",
       "    .dataframe tbody tr th {\n",
       "        vertical-align: top;\n",
       "    }\n",
       "</style>\n",
       "<table border=\"1\" class=\"dataframe\">\n",
       "  <thead>\n",
       "    <tr style=\"text-align: right;\">\n",
       "      <th></th>\n",
       "      <th>reviewer_name</th>\n",
       "      <th>reviewer_id_fixt</th>\n",
       "    </tr>\n",
       "  </thead>\n",
       "  <tbody>\n",
       "    <tr>\n",
       "      <th>4457</th>\n",
       "      <td>BrunoAD</td>\n",
       "      <td>4457</td>\n",
       "    </tr>\n",
       "    <tr>\n",
       "      <th>4458</th>\n",
       "      <td>GuilhermeLeme13</td>\n",
       "      <td>4458</td>\n",
       "    </tr>\n",
       "    <tr>\n",
       "      <th>4459</th>\n",
       "      <td>Andrea</td>\n",
       "      <td>4459</td>\n",
       "    </tr>\n",
       "    <tr>\n",
       "      <th>4460</th>\n",
       "      <td>mose</td>\n",
       "      <td>4460</td>\n",
       "    </tr>\n",
       "    <tr>\n",
       "      <th>4461</th>\n",
       "      <td>Dallaswithad</td>\n",
       "      <td>4461</td>\n",
       "    </tr>\n",
       "  </tbody>\n",
       "</table>\n",
       "</div>"
      ],
      "text/plain": [
       "        reviewer_name  reviewer_id_fixt\n",
       "4457          BrunoAD              4457\n",
       "4458  GuilhermeLeme13              4458\n",
       "4459           Andrea              4459\n",
       "4460             mose              4460\n",
       "4461     Dallaswithad              4461"
      ]
     },
     "execution_count": 46,
     "metadata": {},
     "output_type": "execute_result"
    }
   ],
   "source": [
    "revName.tail()"
   ]
  },
  {
   "cell_type": "code",
   "execution_count": 47,
   "metadata": {
    "collapsed": true
   },
   "outputs": [],
   "source": [
    "# Merge the new list to the DF, drop and rename the old reviewer id column.\n",
    "df = pd.merge(df, revName, on='reviewer_name')\n",
    "df = df.drop(['reviewer_id'], axis=1)\n",
    "df = df.rename(columns={'reviewer_id_fixt': 'reviewer_id'})"
   ]
  },
  {
   "cell_type": "code",
   "execution_count": 48,
   "metadata": {
    "scrolled": true
   },
   "outputs": [
    {
     "data": {
      "text/html": [
       "<div>\n",
       "<style>\n",
       "    .dataframe thead tr:only-child th {\n",
       "        text-align: right;\n",
       "    }\n",
       "\n",
       "    .dataframe thead th {\n",
       "        text-align: left;\n",
       "    }\n",
       "\n",
       "    .dataframe tbody tr th {\n",
       "        vertical-align: top;\n",
       "    }\n",
       "</style>\n",
       "<table border=\"1\" class=\"dataframe\">\n",
       "  <thead>\n",
       "    <tr style=\"text-align: right;\">\n",
       "      <th></th>\n",
       "      <th>is_critic</th>\n",
       "      <th>reviewer_name</th>\n",
       "      <th>reviewer_score</th>\n",
       "      <th>url</th>\n",
       "      <th>title</th>\n",
       "      <th>norm_score</th>\n",
       "      <th>genre</th>\n",
       "      <th>reviewer_id</th>\n",
       "    </tr>\n",
       "  </thead>\n",
       "  <tbody>\n",
       "    <tr>\n",
       "      <th>0</th>\n",
       "      <td>1</td>\n",
       "      <td>GamingXP</td>\n",
       "      <td>81</td>\n",
       "      <td>15-days</td>\n",
       "      <td>15 Days (PC)</td>\n",
       "      <td>8</td>\n",
       "      <td>Adventure, General, Point-and-Click</td>\n",
       "      <td>0</td>\n",
       "    </tr>\n",
       "    <tr>\n",
       "      <th>1</th>\n",
       "      <td>1</td>\n",
       "      <td>GamingXP</td>\n",
       "      <td>81</td>\n",
       "      <td>15-days</td>\n",
       "      <td>15 Days (PC)</td>\n",
       "      <td>8</td>\n",
       "      <td>Adventure, General, Point-and-Click</td>\n",
       "      <td>0</td>\n",
       "    </tr>\n",
       "    <tr>\n",
       "      <th>2</th>\n",
       "      <td>1</td>\n",
       "      <td>GamingXP</td>\n",
       "      <td>81</td>\n",
       "      <td>15-days</td>\n",
       "      <td>15 Days (PC)</td>\n",
       "      <td>8</td>\n",
       "      <td>Adventure, General, Point-and-Click</td>\n",
       "      <td>0</td>\n",
       "    </tr>\n",
       "  </tbody>\n",
       "</table>\n",
       "</div>"
      ],
      "text/plain": [
       "   is_critic reviewer_name  reviewer_score      url         title  norm_score  \\\n",
       "0          1      GamingXP              81  15-days  15 Days (PC)           8   \n",
       "1          1      GamingXP              81  15-days  15 Days (PC)           8   \n",
       "2          1      GamingXP              81  15-days  15 Days (PC)           8   \n",
       "\n",
       "                                 genre  reviewer_id  \n",
       "0  Adventure, General, Point-and-Click            0  \n",
       "1  Adventure, General, Point-and-Click            0  \n",
       "2  Adventure, General, Point-and-Click            0  "
      ]
     },
     "execution_count": 48,
     "metadata": {},
     "output_type": "execute_result"
    }
   ],
   "source": [
    "# I'm sure there is a more effecient way to do this, but I got the desired results without an issue.\n",
    "df.head(3)"
   ]
  },
  {
   "cell_type": "markdown",
   "metadata": {},
   "source": [
    "## After trimming off the reviewers.."
   ]
  },
  {
   "cell_type": "code",
   "execution_count": 49,
   "metadata": {
    "scrolled": false
   },
   "outputs": [
    {
     "data": {
      "text/plain": [
       "6     11462\n",
       "7     19468\n",
       "8     29088\n",
       "9     23678\n",
       "10    13044\n",
       "Name: norm_score, dtype: int64"
      ]
     },
     "execution_count": 49,
     "metadata": {},
     "output_type": "execute_result"
    }
   ],
   "source": [
    "df.norm_score.value_counts(sort=False)"
   ]
  },
  {
   "cell_type": "code",
   "execution_count": 50,
   "metadata": {},
   "outputs": [
    {
     "data": {
      "text/plain": [
       "<matplotlib.text.Text at 0x11be67790>"
      ]
     },
     "execution_count": 50,
     "metadata": {},
     "output_type": "execute_result"
    },
    {
     "data": {
      "image/png": "[encoded data removed]",
      "text/plain": [
       "<matplotlib.figure.Figure at 0x11cd93e90>"
      ]
     },
     "metadata": {},
     "output_type": "display_data"
    }
   ],
   "source": [
    "plt.hist(df.norm_score, bins=5)\n",
    "plt.title(\"Filtered User Review Distribution\")\n",
    "plt.xlabel(\"Score\")\n",
    "plt.ylabel(\"# of Reviews\")"
   ]
  },
  {
   "cell_type": "markdown",
   "metadata": {
    "collapsed": true
   },
   "source": [
    "# Setting up a pivot table"
   ]
  },
  {
   "cell_type": "code",
   "execution_count": 51,
   "metadata": {},
   "outputs": [
    {
     "data": {
      "text/plain": [
       "(4462, 4411)"
      ]
     },
     "execution_count": 51,
     "metadata": {},
     "output_type": "execute_result"
    }
   ],
   "source": [
    "pivot = df.pivot_table(index='reviewer_id', columns='title', values='norm_score')\n",
    "pivot.shape"
   ]
  },
  {
   "cell_type": "code",
   "execution_count": 52,
   "metadata": {},
   "outputs": [
    {
     "data": {
      "text/plain": [
       "(4462, 4411)"
      ]
     },
     "execution_count": 52,
     "metadata": {},
     "output_type": "execute_result"
    }
   ],
   "source": [
    "pivot.fillna(0).values\n",
    "pivot.shape"
   ]
  },
  {
   "cell_type": "code",
   "execution_count": 53,
   "metadata": {
    "scrolled": true
   },
   "outputs": [
    {
     "data": {
      "text/html": [
       "<div>\n",
       "<style>\n",
       "    .dataframe thead tr:only-child th {\n",
       "        text-align: right;\n",
       "    }\n",
       "\n",
       "    .dataframe thead th {\n",
       "        text-align: left;\n",
       "    }\n",
       "\n",
       "    .dataframe tbody tr th {\n",
       "        vertical-align: top;\n",
       "    }\n",
       "</style>\n",
       "<table border=\"1\" class=\"dataframe\">\n",
       "  <thead>\n",
       "    <tr style=\"text-align: right;\">\n",
       "      <th>title</th>\n",
       "      <th>007 Legends (PC)</th>\n",
       "      <th>007: NightFire (PC)</th>\n",
       "      <th>007: Quantum of Solace (PC)</th>\n",
       "      <th>0RBITALIS (PC)</th>\n",
       "      <th>10 Second Ninja (PC)</th>\n",
       "      <th>10,000,000 (PC)</th>\n",
       "      <th>1001 Spikes (PC)</th>\n",
       "      <th>12 is Better Than 6 (PC)</th>\n",
       "      <th>140 (PC)</th>\n",
       "      <th>15 Days (PC)</th>\n",
       "      <th>...</th>\n",
       "      <th>Zoo Tycoon: Marine Mania (PC)</th>\n",
       "      <th>Zuma's Revenge! (PC)</th>\n",
       "      <th>continue?9876543210 (PC)</th>\n",
       "      <th>iRacing (PC)</th>\n",
       "      <th>imprint-X (PC)</th>\n",
       "      <th>inMomentum (PC)</th>\n",
       "      <th>kill.switch (PC)</th>\n",
       "      <th>nail'd (PC)</th>\n",
       "      <th>rymdkapsel (PC)</th>\n",
       "      <th>theHunter: Call of the Wild (PC)</th>\n",
       "    </tr>\n",
       "    <tr>\n",
       "      <th>reviewer_id</th>\n",
       "      <th></th>\n",
       "      <th></th>\n",
       "      <th></th>\n",
       "      <th></th>\n",
       "      <th></th>\n",
       "      <th></th>\n",
       "      <th></th>\n",
       "      <th></th>\n",
       "      <th></th>\n",
       "      <th></th>\n",
       "      <th></th>\n",
       "      <th></th>\n",
       "      <th></th>\n",
       "      <th></th>\n",
       "      <th></th>\n",
       "      <th></th>\n",
       "      <th></th>\n",
       "      <th></th>\n",
       "      <th></th>\n",
       "      <th></th>\n",
       "      <th></th>\n",
       "    </tr>\n",
       "  </thead>\n",
       "  <tbody>\n",
       "    <tr>\n",
       "      <th>0</th>\n",
       "      <td>NaN</td>\n",
       "      <td>NaN</td>\n",
       "      <td>NaN</td>\n",
       "      <td>NaN</td>\n",
       "      <td>NaN</td>\n",
       "      <td>NaN</td>\n",
       "      <td>NaN</td>\n",
       "      <td>NaN</td>\n",
       "      <td>NaN</td>\n",
       "      <td>8.0</td>\n",
       "      <td>...</td>\n",
       "      <td>NaN</td>\n",
       "      <td>6.0</td>\n",
       "      <td>NaN</td>\n",
       "      <td>NaN</td>\n",
       "      <td>NaN</td>\n",
       "      <td>NaN</td>\n",
       "      <td>NaN</td>\n",
       "      <td>7.0</td>\n",
       "      <td>NaN</td>\n",
       "      <td>NaN</td>\n",
       "    </tr>\n",
       "    <tr>\n",
       "      <th>1</th>\n",
       "      <td>NaN</td>\n",
       "      <td>NaN</td>\n",
       "      <td>6.0</td>\n",
       "      <td>NaN</td>\n",
       "      <td>NaN</td>\n",
       "      <td>NaN</td>\n",
       "      <td>NaN</td>\n",
       "      <td>NaN</td>\n",
       "      <td>NaN</td>\n",
       "      <td>6.0</td>\n",
       "      <td>...</td>\n",
       "      <td>NaN</td>\n",
       "      <td>NaN</td>\n",
       "      <td>NaN</td>\n",
       "      <td>NaN</td>\n",
       "      <td>NaN</td>\n",
       "      <td>NaN</td>\n",
       "      <td>NaN</td>\n",
       "      <td>6.0</td>\n",
       "      <td>8.0</td>\n",
       "      <td>NaN</td>\n",
       "    </tr>\n",
       "    <tr>\n",
       "      <th>2</th>\n",
       "      <td>NaN</td>\n",
       "      <td>NaN</td>\n",
       "      <td>NaN</td>\n",
       "      <td>NaN</td>\n",
       "      <td>NaN</td>\n",
       "      <td>NaN</td>\n",
       "      <td>NaN</td>\n",
       "      <td>NaN</td>\n",
       "      <td>NaN</td>\n",
       "      <td>NaN</td>\n",
       "      <td>...</td>\n",
       "      <td>NaN</td>\n",
       "      <td>NaN</td>\n",
       "      <td>NaN</td>\n",
       "      <td>NaN</td>\n",
       "      <td>NaN</td>\n",
       "      <td>NaN</td>\n",
       "      <td>NaN</td>\n",
       "      <td>NaN</td>\n",
       "      <td>NaN</td>\n",
       "      <td>NaN</td>\n",
       "    </tr>\n",
       "    <tr>\n",
       "      <th>3</th>\n",
       "      <td>NaN</td>\n",
       "      <td>NaN</td>\n",
       "      <td>NaN</td>\n",
       "      <td>NaN</td>\n",
       "      <td>NaN</td>\n",
       "      <td>NaN</td>\n",
       "      <td>NaN</td>\n",
       "      <td>NaN</td>\n",
       "      <td>NaN</td>\n",
       "      <td>NaN</td>\n",
       "      <td>...</td>\n",
       "      <td>NaN</td>\n",
       "      <td>NaN</td>\n",
       "      <td>NaN</td>\n",
       "      <td>NaN</td>\n",
       "      <td>NaN</td>\n",
       "      <td>NaN</td>\n",
       "      <td>NaN</td>\n",
       "      <td>NaN</td>\n",
       "      <td>NaN</td>\n",
       "      <td>NaN</td>\n",
       "    </tr>\n",
       "    <tr>\n",
       "      <th>4</th>\n",
       "      <td>NaN</td>\n",
       "      <td>6.0</td>\n",
       "      <td>NaN</td>\n",
       "      <td>NaN</td>\n",
       "      <td>NaN</td>\n",
       "      <td>NaN</td>\n",
       "      <td>NaN</td>\n",
       "      <td>NaN</td>\n",
       "      <td>NaN</td>\n",
       "      <td>NaN</td>\n",
       "      <td>...</td>\n",
       "      <td>NaN</td>\n",
       "      <td>6.0</td>\n",
       "      <td>NaN</td>\n",
       "      <td>NaN</td>\n",
       "      <td>NaN</td>\n",
       "      <td>NaN</td>\n",
       "      <td>7.0</td>\n",
       "      <td>8.0</td>\n",
       "      <td>NaN</td>\n",
       "      <td>6.0</td>\n",
       "    </tr>\n",
       "  </tbody>\n",
       "</table>\n",
       "<p>5 rows × 4411 columns</p>\n",
       "</div>"
      ],
      "text/plain": [
       "title        007 Legends (PC)  007: NightFire (PC)  \\\n",
       "reviewer_id                                          \n",
       "0                         NaN                  NaN   \n",
       "1                         NaN                  NaN   \n",
       "2                         NaN                  NaN   \n",
       "3                         NaN                  NaN   \n",
       "4                         NaN                  6.0   \n",
       "\n",
       "title        007: Quantum of Solace (PC)  0RBITALIS (PC)  \\\n",
       "reviewer_id                                                \n",
       "0                                    NaN             NaN   \n",
       "1                                    6.0             NaN   \n",
       "2                                    NaN             NaN   \n",
       "3                                    NaN             NaN   \n",
       "4                                    NaN             NaN   \n",
       "\n",
       "title        10 Second Ninja (PC)  10,000,000 (PC)  1001 Spikes (PC)  \\\n",
       "reviewer_id                                                            \n",
       "0                             NaN              NaN               NaN   \n",
       "1                             NaN              NaN               NaN   \n",
       "2                             NaN              NaN               NaN   \n",
       "3                             NaN              NaN               NaN   \n",
       "4                             NaN              NaN               NaN   \n",
       "\n",
       "title        12 is Better Than 6 (PC)  140 (PC)  15 Days (PC)  \\\n",
       "reviewer_id                                                     \n",
       "0                                 NaN       NaN           8.0   \n",
       "1                                 NaN       NaN           6.0   \n",
       "2                                 NaN       NaN           NaN   \n",
       "3                                 NaN       NaN           NaN   \n",
       "4                                 NaN       NaN           NaN   \n",
       "\n",
       "title                      ...                 Zoo Tycoon: Marine Mania (PC)  \\\n",
       "reviewer_id                ...                                                 \n",
       "0                          ...                                           NaN   \n",
       "1                          ...                                           NaN   \n",
       "2                          ...                                           NaN   \n",
       "3                          ...                                           NaN   \n",
       "4                          ...                                           NaN   \n",
       "\n",
       "title        Zuma's Revenge! (PC)  continue?9876543210 (PC)  iRacing (PC)  \\\n",
       "reviewer_id                                                                 \n",
       "0                             6.0                       NaN           NaN   \n",
       "1                             NaN                       NaN           NaN   \n",
       "2                             NaN                       NaN           NaN   \n",
       "3                             NaN                       NaN           NaN   \n",
       "4                             6.0                       NaN           NaN   \n",
       "\n",
       "title        imprint-X (PC)  inMomentum (PC)  kill.switch (PC)  nail'd (PC)  \\\n",
       "reviewer_id                                                                   \n",
       "0                       NaN              NaN               NaN          7.0   \n",
       "1                       NaN              NaN               NaN          6.0   \n",
       "2                       NaN              NaN               NaN          NaN   \n",
       "3                       NaN              NaN               NaN          NaN   \n",
       "4                       NaN              NaN               7.0          8.0   \n",
       "\n",
       "title        rymdkapsel (PC)  theHunter: Call of the Wild (PC)  \n",
       "reviewer_id                                                     \n",
       "0                        NaN                               NaN  \n",
       "1                        8.0                               NaN  \n",
       "2                        NaN                               NaN  \n",
       "3                        NaN                               NaN  \n",
       "4                        NaN                               6.0  \n",
       "\n",
       "[5 rows x 4411 columns]"
      ]
     },
     "execution_count": 53,
     "metadata": {},
     "output_type": "execute_result"
    }
   ],
   "source": [
    "pivot.head()"
   ]
  },
  {
   "cell_type": "code",
   "execution_count": 83,
   "metadata": {
    "scrolled": false
   },
   "outputs": [
    {
     "name": "stdout",
     "output_type": "stream",
     "text": [
      "['PStakhiv']\n",
      "\n",
      "title\n",
      "BioShock Infinite (PC)                             9.0\n",
      "Dead Space 3 (PC)                                  7.0\n",
      "Deus Ex: Human Revolution (PC)                    10.0\n",
      "Dishonored (PC)                                    8.0\n",
      "Dragon Age: Origins (PC)                           9.0\n",
      "Far Cry 3 (PC)                                     9.0\n",
      "Kingdoms of Amalur: Reckoning (PC)                 7.0\n",
      "Mass Effect (PC)                                   9.0\n",
      "Mass Effect 2 (PC)                                10.0\n",
      "Mass Effect 2: Lair of the Shadow Broker (PC)      9.0\n",
      "Mass Effect 3 (PC)                                 8.0\n",
      "Mass Effect 3: Citadel (PC)                        7.0\n",
      "Metro: Last Light (PC)                             9.0\n",
      "Portal (PC)                                        9.0\n",
      "Pro Evolution Soccer 2014 (PC)                     8.0\n",
      "Remember Me (PC)                                   6.0\n",
      "The Elder Scrolls IV: Oblivion (PC)                8.0\n",
      "The Elder Scrolls V: Skyrim (PC)                   9.0\n",
      "The Walking Dead: A Telltale Games Series (PC)     8.0\n",
      "Thief (PC)                                         8.0\n",
      "Name: 3296, dtype: float64\n"
     ]
    }
   ],
   "source": [
    "A = 3296 #The reviewer id that we want...\n",
    "print df['reviewer_name'].where(df['reviewer_id'] == A).value_counts().index.values # get the name of \"A\" (hacky)\n",
    "print\n",
    "print pivot.iloc[A].dropna() #These are all reviews from reviewer_id \"A\""
   ]
  },
  {
   "cell_type": "markdown",
   "metadata": {},
   "source": [
    "# ----------------------------------------------------------------------------------------"
   ]
  },
  {
   "cell_type": "code",
   "execution_count": 55,
   "metadata": {
    "collapsed": true
   },
   "outputs": [],
   "source": [
    "pivotsparse = sparse.csc_matrix(pivot.fillna(0).values)"
   ]
  },
  {
   "cell_type": "code",
   "execution_count": 56,
   "metadata": {},
   "outputs": [
    {
     "data": {
      "text/plain": [
       "(4462, 4411)"
      ]
     },
     "execution_count": 56,
     "metadata": {},
     "output_type": "execute_result"
    }
   ],
   "source": [
    "pivot.fillna(0).shape"
   ]
  },
  {
   "cell_type": "code",
   "execution_count": 57,
   "metadata": {
    "scrolled": true
   },
   "outputs": [
    {
     "name": "stdout",
     "output_type": "stream",
     "text": [
      "  (0, 111)\t6.0\n",
      "  (0, 148)\t7.0\n",
      "  (0, 437)\t7.0\n",
      "  (0, 506)\t7.0\n",
      "  (0, 601)\t6.0\n",
      "  (0, 1076)\t8.0\n",
      "  (0, 1215)\t8.0\n",
      "  (0, 1457)\t9.0\n",
      "  (0, 1460)\t6.0\n",
      "  (0, 1461)\t7.0\n",
      "  (0, 1689)\t7.0\n",
      "  (0, 1836)\t7.0\n",
      "  (0, 2101)\t6.0\n",
      "  (0, 2183)\t9.0\n",
      "  (0, 2222)\t8.0\n",
      "  (0, 2223)\t9.0\n",
      "  (0, 2224)\t8.0\n",
      "  (0, 2225)\t6.0\n",
      "  (0, 2313)\t8.0\n",
      "  (0, 2445)\t9.0\n",
      "  (0, 2497)\t7.0\n",
      "  (0, 2539)\t6.0\n",
      "  (0, 2540)\t6.0\n",
      "  (0, 2542)\t6.0\n",
      "  (0, 2808)\t10.0\n",
      "  (0, 2810)\t7.0\n",
      "  (0, 2939)\t6.0\n",
      "  (0, 3947)\t8.0\n",
      "  (0, 4169)\t9.0\n",
      "title\n",
      "Alan Wake's American Nightmare (PC)                      6.0\n",
      "Alpha Protocol (PC)                                      7.0\n",
      "BioShock Infinite: Burial at Sea - Episode One (PC)      7.0\n",
      "Blues and Bullets - Episode 1: The End of Peace (PC)     7.0\n",
      "Call of Duty: World at War (PC)                          6.0\n",
      "Dishonored (PC)                                          8.0\n",
      "Dying Light (PC)                                         8.0\n",
      "Fallout: New Vegas (PC)                                  9.0\n",
      "Fallout: New Vegas - Lonesome Road (PC)                  6.0\n",
      "Fallout: New Vegas - Old World Blues (PC)                7.0\n",
      "Gone Home (PC)                                           7.0\n",
      "Her Story (PC)                                           7.0\n",
      "Kingdoms of Amalur: Reckoning (PC)                       6.0\n",
      "Left 4 Dead 2 (PC)                                       9.0\n",
      "Life is Strange: Episode 2 - Out of Time (PC)            8.0\n",
      "Life is Strange: Episode 3 - Chaos Theory (PC)           9.0\n",
      "Life is Strange: Episode 4 - Dark Room (PC)              8.0\n",
      "Life is Strange: Episode 5 - Polarized (PC)              6.0\n",
      "Mafia II (PC)                                            8.0\n",
      "Metal Gear Solid V: The Phantom Pain (PC)                9.0\n",
      "Mirror's Edge (PC)                                       7.0\n",
      "Mount & Blade (PC)                                       6.0\n",
      "Mount & Blade: Warband (PC)                              6.0\n",
      "Mount & Blade: With Fire & Sword (PC)                    6.0\n",
      "Overwatch (PC)                                          10.0\n",
      "Oxenfree (PC)                                            7.0\n",
      "Postal 2 (PC)                                            6.0\n",
      "The Wolf Among Us (PC)                                   8.0\n",
      "Vampire: The Masquerade - Bloodlines (PC)                9.0\n",
      "Name: 800, dtype: float64\n"
     ]
    }
   ],
   "source": [
    "print pivotsparse[800] #Scipy Sparse\n",
    "print pivot.iloc[800].dropna()"
   ]
  },
  {
   "cell_type": "markdown",
   "metadata": {},
   "source": [
    "## Finding the User for tuning..."
   ]
  },
  {
   "cell_type": "code",
   "execution_count": 76,
   "metadata": {},
   "outputs": [
    {
     "data": {
      "text/html": [
       "<div>\n",
       "<style>\n",
       "    .dataframe thead tr:only-child th {\n",
       "        text-align: right;\n",
       "    }\n",
       "\n",
       "    .dataframe thead th {\n",
       "        text-align: left;\n",
       "    }\n",
       "\n",
       "    .dataframe tbody tr th {\n",
       "        vertical-align: top;\n",
       "    }\n",
       "</style>\n",
       "<table border=\"1\" class=\"dataframe\">\n",
       "  <thead>\n",
       "    <tr style=\"text-align: right;\">\n",
       "      <th></th>\n",
       "      <th>is_critic</th>\n",
       "      <th>reviewer_name</th>\n",
       "      <th>reviewer_score</th>\n",
       "      <th>url</th>\n",
       "      <th>title</th>\n",
       "      <th>norm_score</th>\n",
       "      <th>genre</th>\n",
       "      <th>reviewer_id</th>\n",
       "    </tr>\n",
       "  </thead>\n",
       "  <tbody>\n",
       "    <tr>\n",
       "      <th>90452</th>\n",
       "      <td>0</td>\n",
       "      <td>Triggerhappy</td>\n",
       "      <td>9</td>\n",
       "      <td>bioshock-infinite</td>\n",
       "      <td>BioShock Infinite (PC)</td>\n",
       "      <td>9</td>\n",
       "      <td>Action, Shooter, First-Person, Sci-Fi, Arcade</td>\n",
       "      <td>3289</td>\n",
       "    </tr>\n",
       "    <tr>\n",
       "      <th>90453</th>\n",
       "      <td>0</td>\n",
       "      <td>Triggerhappy</td>\n",
       "      <td>8</td>\n",
       "      <td>borderlands-2</td>\n",
       "      <td>Borderlands 2 (PC)</td>\n",
       "      <td>8</td>\n",
       "      <td>Action, Shooter, First-Person, Sci-Fi, Arcade</td>\n",
       "      <td>3289</td>\n",
       "    </tr>\n",
       "    <tr>\n",
       "      <th>90454</th>\n",
       "      <td>0</td>\n",
       "      <td>Triggerhappy</td>\n",
       "      <td>6</td>\n",
       "      <td>endless-space</td>\n",
       "      <td>Endless Space (PC)</td>\n",
       "      <td>6</td>\n",
       "      <td>Strategy, Turn-Based, General, 4X</td>\n",
       "      <td>3289</td>\n",
       "    </tr>\n",
       "    <tr>\n",
       "      <th>90455</th>\n",
       "      <td>0</td>\n",
       "      <td>Triggerhappy</td>\n",
       "      <td>10</td>\n",
       "      <td>guild-wars-2</td>\n",
       "      <td>Guild Wars 2 (PC)</td>\n",
       "      <td>10</td>\n",
       "      <td>General, Role-Playing, Massively Multiplayer O...</td>\n",
       "      <td>3289</td>\n",
       "    </tr>\n",
       "    <tr>\n",
       "      <th>90456</th>\n",
       "      <td>0</td>\n",
       "      <td>Triggerhappy</td>\n",
       "      <td>9</td>\n",
       "      <td>jade-empire-special-edition</td>\n",
       "      <td>Jade Empire: Special Edition (PC)</td>\n",
       "      <td>9</td>\n",
       "      <td>Role-Playing, Action RPG, RPG</td>\n",
       "      <td>3289</td>\n",
       "    </tr>\n",
       "    <tr>\n",
       "      <th>90457</th>\n",
       "      <td>0</td>\n",
       "      <td>Triggerhappy</td>\n",
       "      <td>6</td>\n",
       "      <td>sid-meiers-civilization-v</td>\n",
       "      <td>Sid Meier's Civilization V (PC)</td>\n",
       "      <td>6</td>\n",
       "      <td>Strategy, Turn-Based, Historic, 4X</td>\n",
       "      <td>3289</td>\n",
       "    </tr>\n",
       "    <tr>\n",
       "      <th>90458</th>\n",
       "      <td>0</td>\n",
       "      <td>Triggerhappy</td>\n",
       "      <td>6</td>\n",
       "      <td>the-elder-scrolls-v-skyrim---dawnguard</td>\n",
       "      <td>The Elder Scrolls V: Skyrim - Dawnguard (PC)</td>\n",
       "      <td>6</td>\n",
       "      <td>Role-Playing, First-Person, Western-Style</td>\n",
       "      <td>3289</td>\n",
       "    </tr>\n",
       "  </tbody>\n",
       "</table>\n",
       "</div>"
      ],
      "text/plain": [
       "       is_critic reviewer_name  reviewer_score  \\\n",
       "90452          0  Triggerhappy               9   \n",
       "90453          0  Triggerhappy               8   \n",
       "90454          0  Triggerhappy               6   \n",
       "90455          0  Triggerhappy              10   \n",
       "90456          0  Triggerhappy               9   \n",
       "90457          0  Triggerhappy               6   \n",
       "90458          0  Triggerhappy               6   \n",
       "\n",
       "                                          url  \\\n",
       "90452                       bioshock-infinite   \n",
       "90453                           borderlands-2   \n",
       "90454                           endless-space   \n",
       "90455                            guild-wars-2   \n",
       "90456             jade-empire-special-edition   \n",
       "90457               sid-meiers-civilization-v   \n",
       "90458  the-elder-scrolls-v-skyrim---dawnguard   \n",
       "\n",
       "                                              title  norm_score  \\\n",
       "90452                        BioShock Infinite (PC)           9   \n",
       "90453                            Borderlands 2 (PC)           8   \n",
       "90454                            Endless Space (PC)           6   \n",
       "90455                             Guild Wars 2 (PC)          10   \n",
       "90456             Jade Empire: Special Edition (PC)           9   \n",
       "90457               Sid Meier's Civilization V (PC)           6   \n",
       "90458  The Elder Scrolls V: Skyrim - Dawnguard (PC)           6   \n",
       "\n",
       "                                                   genre  reviewer_id  \n",
       "90452      Action, Shooter, First-Person, Sci-Fi, Arcade         3289  \n",
       "90453      Action, Shooter, First-Person, Sci-Fi, Arcade         3289  \n",
       "90454                  Strategy, Turn-Based, General, 4X         3289  \n",
       "90455  General, Role-Playing, Massively Multiplayer O...         3289  \n",
       "90456                      Role-Playing, Action RPG, RPG         3289  \n",
       "90457                 Strategy, Turn-Based, Historic, 4X         3289  \n",
       "90458          Role-Playing, First-Person, Western-Style         3289  "
      ]
     },
     "execution_count": 76,
     "metadata": {},
     "output_type": "execute_result"
    }
   ],
   "source": [
    "# gotta find the user...\n",
    "name = 'Triggerhappy'\n",
    "df[df['reviewer_name'].str.contains(name)]"
   ]
  },
  {
   "cell_type": "markdown",
   "metadata": {},
   "source": [
    "## Running the Model"
   ]
  },
  {
   "cell_type": "code",
   "execution_count": 84,
   "metadata": {},
   "outputs": [
    {
     "name": "stdout",
     "output_type": "stream",
     "text": [
      "[[  0.          33.54101966  33.85262176  34.51086785  34.53983208\n",
      "   34.55430509]]\n",
      "--------------------\n",
      "[[3296 3682 1585 3743 3729 3004]]\n"
     ]
    }
   ],
   "source": [
    "# I set my 'X' value as my pivot table of the data.\n",
    "# I am planning to feed the 'y' or user input into the dataframe to be saved among the others.\n",
    "# This is so I can collect new reviews to be fed into the model.\n",
    "\n",
    "X = pivotsparse\n",
    "nbrs = NearestNeighbors(n_neighbors=6).fit(X)\n",
    "distances, indices = nbrs.kneighbors(pivotsparse[3296]) #Input the desired user id here\n",
    "print distances\n",
    "print \"-\"*20\n",
    "print indices"
   ]
  },
  {
   "cell_type": "markdown",
   "metadata": {},
   "source": [
    "## Cleaning up the output"
   ]
  },
  {
   "cell_type": "code",
   "execution_count": 85,
   "metadata": {},
   "outputs": [
    {
     "name": "stdout",
     "output_type": "stream",
     "text": [
      "[3296 3682 1585 3743 3729 3004]\n",
      "3296\n",
      "1585\n"
     ]
    }
   ],
   "source": [
    "#indices are displayed as a list within a list\n",
    "print indices[0]\n",
    "print indices[0][0]\n",
    "print indices[0][2]"
   ]
  },
  {
   "cell_type": "code",
   "execution_count": 86,
   "metadata": {},
   "outputs": [
    {
     "name": "stdout",
     "output_type": "stream",
     "text": [
      "3296\n",
      "[3682 1585 3743 3729 3004]\n"
     ]
    }
   ],
   "source": [
    "sample_reviewer = indices[0][0]\n",
    "suggested_reviewers = indices[0][1:]\n",
    "\n",
    "print sample_reviewer\n",
    "print suggested_reviewers"
   ]
  },
  {
   "cell_type": "code",
   "execution_count": 87,
   "metadata": {
    "collapsed": true
   },
   "outputs": [],
   "source": [
    "# Make a function to filter out titles already listed in our source reviewer...\n",
    "def user_suggestions(ur, sr):\n",
    "    usrTitles = []\n",
    "    for t in pivot.iloc[ur].dropna().index:\n",
    "        usrTitles.append(t)\n",
    "    sugTitles = []\n",
    "    for rec in sr:\n",
    "        for t in pivot.iloc[rec].dropna().index:\n",
    "            sugTitles.append(t)\n",
    "\n",
    "    recommendations = [x for x in sugTitles if x not in usrTitles]\n",
    "\n",
    "    return recommendations "
   ]
  },
  {
   "cell_type": "code",
   "execution_count": 88,
   "metadata": {
    "scrolled": false
   },
   "outputs": [
    {
     "name": "stdout",
     "output_type": "stream",
     "text": [
      "Here are your Reviews:\n",
      "----------------------------------------\n",
      "title\n",
      "BioShock Infinite (PC)                             9.0\n",
      "Dead Space 3 (PC)                                  7.0\n",
      "Deus Ex: Human Revolution (PC)                    10.0\n",
      "Dishonored (PC)                                    8.0\n",
      "Dragon Age: Origins (PC)                           9.0\n",
      "Far Cry 3 (PC)                                     9.0\n",
      "Kingdoms of Amalur: Reckoning (PC)                 7.0\n",
      "Mass Effect (PC)                                   9.0\n",
      "Mass Effect 2 (PC)                                10.0\n",
      "Mass Effect 2: Lair of the Shadow Broker (PC)      9.0\n",
      "Mass Effect 3 (PC)                                 8.0\n",
      "Mass Effect 3: Citadel (PC)                        7.0\n",
      "Metro: Last Light (PC)                             9.0\n",
      "Portal (PC)                                        9.0\n",
      "Pro Evolution Soccer 2014 (PC)                     8.0\n",
      "Remember Me (PC)                                   6.0\n",
      "The Elder Scrolls IV: Oblivion (PC)                8.0\n",
      "The Elder Scrolls V: Skyrim (PC)                   9.0\n",
      "The Walking Dead: A Telltale Games Series (PC)     8.0\n",
      "Thief (PC)                                         8.0\n",
      "Name: 3296, dtype: float64\n",
      "\n",
      "****************************************\n",
      "Here are recommendations from similar reviewers...\n",
      "****************************************\n",
      "\n",
      "Orion: Dino Horde (PC)\n",
      "Metro 2033 (PC)\n",
      "Pillars of Eternity (PC)\n",
      "The Elder Scrolls III: Morrowind (PC)\n",
      "Borderlands 2 (PC)\n",
      "Path of Exile (PC)\n"
     ]
    }
   ],
   "source": [
    "print 'Here are your Reviews:'\n",
    "print \"-\"*40\n",
    "print pivot.iloc[sample_reviewer].dropna()\n",
    "print\n",
    "print \"*\"*40\n",
    "print \"Here are recommendations from similar reviewers...\"\n",
    "print \"*\"*40\n",
    "print\n",
    "for i in user_suggestions(sample_reviewer, suggested_reviewers):\n",
    "    print i"
   ]
  },
  {
   "cell_type": "code",
   "execution_count": 89,
   "metadata": {
    "collapsed": true
   },
   "outputs": [],
   "source": [
    "# We're getting better result, but let's try filtering out users by a different method..."
   ]
  }
 ],
 "metadata": {
  "kernelspec": {
   "display_name": "Python 2",
   "language": "python",
   "name": "python2"
  },
  "language_info": {
   "codemirror_mode": {
    "name": "ipython",
    "version": 2
   },
   "file_extension": ".py",
   "mimetype": "text/x-python",
   "name": "python",
   "nbconvert_exporter": "python",
   "pygments_lexer": "ipython2",
   "version": "2.7.13"
  }
 },
 "nbformat": 4,
 "nbformat_minor": 2
}
