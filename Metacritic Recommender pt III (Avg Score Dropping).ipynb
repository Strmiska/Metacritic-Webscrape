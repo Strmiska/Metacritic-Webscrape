{
 "cells": [
  {
   "cell_type": "markdown",
   "metadata": {},
   "source": [
    "# Dropping users based on average score\n",
    "This time I will try to drop users based on an average score scale. This may help rid the system of users who have an overwhelming amount of negative reviews."
   ]
  },
  {
   "cell_type": "code",
   "execution_count": 1,
   "metadata": {
    "collapsed": true
   },
   "outputs": [],
   "source": [
    "import numpy as np\n",
    "import pandas as pd\n",
    "\n",
    "from scipy import sparse\n",
    "from sklearn.neighbors import NearestNeighbors\n",
    "from sklearn.metrics.pairwise import euclidean_distances\n",
    "\n",
    "from sklearn.model_selection import train_test_split\n",
    "\n",
    "import matplotlib.pyplot as plt\n",
    "%matplotlib inline"
   ]
  },
  {
   "cell_type": "code",
   "execution_count": 2,
   "metadata": {
    "collapsed": true
   },
   "outputs": [],
   "source": [
    "df = pd.read_csv('metacriticfortuning.csv', index_col='Unnamed: 0')"
   ]
  },
  {
   "cell_type": "code",
   "execution_count": 3,
   "metadata": {},
   "outputs": [
    {
     "data": {
      "text/html": [
       "<div>\n",
       "<style>\n",
       "    .dataframe thead tr:only-child th {\n",
       "        text-align: right;\n",
       "    }\n",
       "\n",
       "    .dataframe thead th {\n",
       "        text-align: left;\n",
       "    }\n",
       "\n",
       "    .dataframe tbody tr th {\n",
       "        vertical-align: top;\n",
       "    }\n",
       "</style>\n",
       "<table border=\"1\" class=\"dataframe\">\n",
       "  <thead>\n",
       "    <tr style=\"text-align: right;\">\n",
       "      <th></th>\n",
       "      <th>is_critic</th>\n",
       "      <th>reviewer_name</th>\n",
       "      <th>reviewer_score</th>\n",
       "      <th>url</th>\n",
       "      <th>title</th>\n",
       "      <th>norm_score</th>\n",
       "      <th>genre</th>\n",
       "      <th>reviewer_id</th>\n",
       "    </tr>\n",
       "  </thead>\n",
       "  <tbody>\n",
       "    <tr>\n",
       "      <th>0</th>\n",
       "      <td>1</td>\n",
       "      <td>GamingXP</td>\n",
       "      <td>35</td>\n",
       "      <td>007-legends</td>\n",
       "      <td>007 Legends (PC)</td>\n",
       "      <td>4</td>\n",
       "      <td>Action, Shooter, First-Person, Modern, Arcade</td>\n",
       "      <td>0</td>\n",
       "    </tr>\n",
       "    <tr>\n",
       "      <th>1</th>\n",
       "      <td>1</td>\n",
       "      <td>GamingXP</td>\n",
       "      <td>35</td>\n",
       "      <td>007-legends</td>\n",
       "      <td>007 Legends (PC)</td>\n",
       "      <td>4</td>\n",
       "      <td>Action, Shooter, First-Person, Modern, Arcade</td>\n",
       "      <td>0</td>\n",
       "    </tr>\n",
       "    <tr>\n",
       "      <th>2</th>\n",
       "      <td>1</td>\n",
       "      <td>GamingXP</td>\n",
       "      <td>35</td>\n",
       "      <td>007-legends</td>\n",
       "      <td>007 Legends (PC)</td>\n",
       "      <td>4</td>\n",
       "      <td>Action, Shooter, First-Person, Modern, Arcade</td>\n",
       "      <td>0</td>\n",
       "    </tr>\n",
       "    <tr>\n",
       "      <th>3</th>\n",
       "      <td>1</td>\n",
       "      <td>GamingXP</td>\n",
       "      <td>81</td>\n",
       "      <td>15-days</td>\n",
       "      <td>15 Days (PC)</td>\n",
       "      <td>8</td>\n",
       "      <td>Adventure, General, Point-and-Click</td>\n",
       "      <td>0</td>\n",
       "    </tr>\n",
       "    <tr>\n",
       "      <th>4</th>\n",
       "      <td>1</td>\n",
       "      <td>GamingXP</td>\n",
       "      <td>81</td>\n",
       "      <td>15-days</td>\n",
       "      <td>15 Days (PC)</td>\n",
       "      <td>8</td>\n",
       "      <td>Adventure, General, Point-and-Click</td>\n",
       "      <td>0</td>\n",
       "    </tr>\n",
       "  </tbody>\n",
       "</table>\n",
       "</div>"
      ],
      "text/plain": [
       "   is_critic reviewer_name  reviewer_score          url             title  \\\n",
       "0          1      GamingXP              35  007-legends  007 Legends (PC)   \n",
       "1          1      GamingXP              35  007-legends  007 Legends (PC)   \n",
       "2          1      GamingXP              35  007-legends  007 Legends (PC)   \n",
       "3          1      GamingXP              81      15-days      15 Days (PC)   \n",
       "4          1      GamingXP              81      15-days      15 Days (PC)   \n",
       "\n",
       "   norm_score                                          genre  reviewer_id  \n",
       "0           4  Action, Shooter, First-Person, Modern, Arcade            0  \n",
       "1           4  Action, Shooter, First-Person, Modern, Arcade            0  \n",
       "2           4  Action, Shooter, First-Person, Modern, Arcade            0  \n",
       "3           8            Adventure, General, Point-and-Click            0  \n",
       "4           8            Adventure, General, Point-and-Click            0  "
      ]
     },
     "execution_count": 3,
     "metadata": {},
     "output_type": "execute_result"
    }
   ],
   "source": [
    "df.head()"
   ]
  },
  {
   "cell_type": "code",
   "execution_count": 4,
   "metadata": {},
   "outputs": [
    {
     "data": {
      "text/plain": [
       "(221303, 8)"
      ]
     },
     "execution_count": 4,
     "metadata": {},
     "output_type": "execute_result"
    }
   ],
   "source": [
    "df.shape"
   ]
  },
  {
   "cell_type": "markdown",
   "metadata": {},
   "source": [
    "## Create a column called 'Avg Score' which is the average score of the user..."
   ]
  },
  {
   "cell_type": "code",
   "execution_count": 5,
   "metadata": {
    "scrolled": true
   },
   "outputs": [],
   "source": [
    "avg_df = df.groupby(['reviewer_name']).median().reset_index()\n",
    "avg_df = avg_df.drop(['is_critic', 'reviewer_score', 'reviewer_id'], axis=1)"
   ]
  },
  {
   "cell_type": "code",
   "execution_count": 6,
   "metadata": {},
   "outputs": [],
   "source": [
    "avg_df = avg_df.rename(columns={'norm_score': 'avg_score'})"
   ]
  },
  {
   "cell_type": "code",
   "execution_count": 7,
   "metadata": {},
   "outputs": [
    {
     "data": {
      "text/html": [
       "<div>\n",
       "<style>\n",
       "    .dataframe thead tr:only-child th {\n",
       "        text-align: right;\n",
       "    }\n",
       "\n",
       "    .dataframe thead th {\n",
       "        text-align: left;\n",
       "    }\n",
       "\n",
       "    .dataframe tbody tr th {\n",
       "        vertical-align: top;\n",
       "    }\n",
       "</style>\n",
       "<table border=\"1\" class=\"dataframe\">\n",
       "  <thead>\n",
       "    <tr style=\"text-align: right;\">\n",
       "      <th></th>\n",
       "      <th>reviewer_name</th>\n",
       "      <th>avg_score</th>\n",
       "    </tr>\n",
       "  </thead>\n",
       "  <tbody>\n",
       "    <tr>\n",
       "      <th>0</th>\n",
       "      <td>\"Harv'sNoBroofMine\"Smith</td>\n",
       "      <td>1.0</td>\n",
       "    </tr>\n",
       "    <tr>\n",
       "      <th>1</th>\n",
       "      <td>$MOB$-DevilDoggSince96</td>\n",
       "      <td>10.0</td>\n",
       "    </tr>\n",
       "    <tr>\n",
       "      <th>2</th>\n",
       "      <td>'Airstrike'I</td>\n",
       "      <td>10.0</td>\n",
       "    </tr>\n",
       "    <tr>\n",
       "      <th>3</th>\n",
       "      <td>'Rockin!'</td>\n",
       "      <td>2.0</td>\n",
       "    </tr>\n",
       "    <tr>\n",
       "      <th>4</th>\n",
       "      <td>(Anonymus)</td>\n",
       "      <td>1.0</td>\n",
       "    </tr>\n",
       "  </tbody>\n",
       "</table>\n",
       "</div>"
      ],
      "text/plain": [
       "              reviewer_name  avg_score\n",
       "0  \"Harv'sNoBroofMine\"Smith        1.0\n",
       "1    $MOB$-DevilDoggSince96       10.0\n",
       "2              'Airstrike'I       10.0\n",
       "3                 'Rockin!'        2.0\n",
       "4                (Anonymus)        1.0"
      ]
     },
     "execution_count": 7,
     "metadata": {},
     "output_type": "execute_result"
    }
   ],
   "source": [
    "avg_df.head()"
   ]
  },
  {
   "cell_type": "code",
   "execution_count": 9,
   "metadata": {
    "scrolled": true
   },
   "outputs": [
    {
     "data": {
      "text/html": [
       "<div>\n",
       "<style>\n",
       "    .dataframe thead tr:only-child th {\n",
       "        text-align: right;\n",
       "    }\n",
       "\n",
       "    .dataframe thead th {\n",
       "        text-align: left;\n",
       "    }\n",
       "\n",
       "    .dataframe tbody tr th {\n",
       "        vertical-align: top;\n",
       "    }\n",
       "</style>\n",
       "<table border=\"1\" class=\"dataframe\">\n",
       "  <thead>\n",
       "    <tr style=\"text-align: right;\">\n",
       "      <th></th>\n",
       "      <th>is_critic</th>\n",
       "      <th>reviewer_name</th>\n",
       "      <th>reviewer_score</th>\n",
       "      <th>url</th>\n",
       "      <th>title</th>\n",
       "      <th>norm_score</th>\n",
       "      <th>genre</th>\n",
       "      <th>reviewer_id</th>\n",
       "      <th>avg_score</th>\n",
       "    </tr>\n",
       "  </thead>\n",
       "  <tbody>\n",
       "    <tr>\n",
       "      <th>0</th>\n",
       "      <td>1</td>\n",
       "      <td>GamingXP</td>\n",
       "      <td>35</td>\n",
       "      <td>007-legends</td>\n",
       "      <td>007 Legends (PC)</td>\n",
       "      <td>4</td>\n",
       "      <td>Action, Shooter, First-Person, Modern, Arcade</td>\n",
       "      <td>0</td>\n",
       "      <td>8.0</td>\n",
       "    </tr>\n",
       "    <tr>\n",
       "      <th>1</th>\n",
       "      <td>1</td>\n",
       "      <td>GamingXP</td>\n",
       "      <td>35</td>\n",
       "      <td>007-legends</td>\n",
       "      <td>007 Legends (PC)</td>\n",
       "      <td>4</td>\n",
       "      <td>Action, Shooter, First-Person, Modern, Arcade</td>\n",
       "      <td>0</td>\n",
       "      <td>8.0</td>\n",
       "    </tr>\n",
       "    <tr>\n",
       "      <th>2</th>\n",
       "      <td>1</td>\n",
       "      <td>GamingXP</td>\n",
       "      <td>35</td>\n",
       "      <td>007-legends</td>\n",
       "      <td>007 Legends (PC)</td>\n",
       "      <td>4</td>\n",
       "      <td>Action, Shooter, First-Person, Modern, Arcade</td>\n",
       "      <td>0</td>\n",
       "      <td>8.0</td>\n",
       "    </tr>\n",
       "    <tr>\n",
       "      <th>3</th>\n",
       "      <td>1</td>\n",
       "      <td>GamingXP</td>\n",
       "      <td>81</td>\n",
       "      <td>15-days</td>\n",
       "      <td>15 Days (PC)</td>\n",
       "      <td>8</td>\n",
       "      <td>Adventure, General, Point-and-Click</td>\n",
       "      <td>0</td>\n",
       "      <td>8.0</td>\n",
       "    </tr>\n",
       "    <tr>\n",
       "      <th>4</th>\n",
       "      <td>1</td>\n",
       "      <td>GamingXP</td>\n",
       "      <td>81</td>\n",
       "      <td>15-days</td>\n",
       "      <td>15 Days (PC)</td>\n",
       "      <td>8</td>\n",
       "      <td>Adventure, General, Point-and-Click</td>\n",
       "      <td>0</td>\n",
       "      <td>8.0</td>\n",
       "    </tr>\n",
       "  </tbody>\n",
       "</table>\n",
       "</div>"
      ],
      "text/plain": [
       "   is_critic reviewer_name  reviewer_score          url             title  \\\n",
       "0          1      GamingXP              35  007-legends  007 Legends (PC)   \n",
       "1          1      GamingXP              35  007-legends  007 Legends (PC)   \n",
       "2          1      GamingXP              35  007-legends  007 Legends (PC)   \n",
       "3          1      GamingXP              81      15-days      15 Days (PC)   \n",
       "4          1      GamingXP              81      15-days      15 Days (PC)   \n",
       "\n",
       "   norm_score                                          genre  reviewer_id  \\\n",
       "0           4  Action, Shooter, First-Person, Modern, Arcade            0   \n",
       "1           4  Action, Shooter, First-Person, Modern, Arcade            0   \n",
       "2           4  Action, Shooter, First-Person, Modern, Arcade            0   \n",
       "3           8            Adventure, General, Point-and-Click            0   \n",
       "4           8            Adventure, General, Point-and-Click            0   \n",
       "\n",
       "   avg_score  \n",
       "0        8.0  \n",
       "1        8.0  \n",
       "2        8.0  \n",
       "3        8.0  \n",
       "4        8.0  "
      ]
     },
     "execution_count": 9,
     "metadata": {},
     "output_type": "execute_result"
    }
   ],
   "source": [
    "df = pd.merge(df, avg_df, on='reviewer_name')\n",
    "df.head()"
   ]
  },
  {
   "cell_type": "markdown",
   "metadata": {},
   "source": [
    "## Now let's filter out reviewers with a median score less than 3!"
   ]
  },
  {
   "cell_type": "code",
   "execution_count": 11,
   "metadata": {
    "scrolled": true
   },
   "outputs": [],
   "source": [
    "df = df[df['avg_score'].values > 3]"
   ]
  },
  {
   "cell_type": "code",
   "execution_count": 12,
   "metadata": {},
   "outputs": [
    {
     "data": {
      "text/plain": [
       "(193085, 9)"
      ]
     },
     "execution_count": 12,
     "metadata": {},
     "output_type": "execute_result"
    }
   ],
   "source": [
    "df.shape # We didn't lose as many reviewers this time."
   ]
  },
  {
   "cell_type": "markdown",
   "metadata": {},
   "source": [
    "## We also want to keep only the users with 4 or more reviews..."
   ]
  },
  {
   "cell_type": "code",
   "execution_count": 13,
   "metadata": {
    "collapsed": true
   },
   "outputs": [],
   "source": [
    "df = df.groupby('reviewer_id').filter(lambda x: len(x) > 3)"
   ]
  },
  {
   "cell_type": "code",
   "execution_count": 74,
   "metadata": {
    "scrolled": true
   },
   "outputs": [
    {
     "name": "stdout",
     "output_type": "stream",
     "text": [
      "average reviews per person:\n",
      "19.6837412871\n",
      "\n",
      "length of dataframe:\n",
      "121429\n",
      "\n",
      "top reviewers:\n",
      "25     2446\n",
      "22     2417\n",
      "4      2308\n",
      "18     1365\n",
      "66     1130\n",
      "24     1109\n",
      "1      1027\n",
      "47     1025\n",
      "28      965\n",
      "134     954\n",
      "Name: reviewer_id, dtype: int64\n"
     ]
    }
   ],
   "source": [
    "#New Dataset has an average of 2.59 reviews per person...\n",
    "print \"average reviews per person:\"\n",
    "print np.mean(df.reviewer_id.value_counts())\n",
    "print\n",
    "#New Dataset has 221303 reviews...\n",
    "print \"length of dataframe:\"\n",
    "print len(df)\n",
    "print\n",
    "#New Dataset has 85371 reviewers...\n",
    "print \"top reviewers:\"\n",
    "print df.reviewer_id.value_counts()[:10]"
   ]
  },
  {
   "cell_type": "code",
   "execution_count": 16,
   "metadata": {
    "scrolled": false
   },
   "outputs": [
    {
     "data": {
      "text/html": [
       "<div>\n",
       "<style>\n",
       "    .dataframe thead tr:only-child th {\n",
       "        text-align: right;\n",
       "    }\n",
       "\n",
       "    .dataframe thead th {\n",
       "        text-align: left;\n",
       "    }\n",
       "\n",
       "    .dataframe tbody tr th {\n",
       "        vertical-align: top;\n",
       "    }\n",
       "</style>\n",
       "<table border=\"1\" class=\"dataframe\">\n",
       "  <thead>\n",
       "    <tr style=\"text-align: right;\">\n",
       "      <th></th>\n",
       "      <th>is_critic</th>\n",
       "      <th>reviewer_name</th>\n",
       "      <th>reviewer_score</th>\n",
       "      <th>url</th>\n",
       "      <th>title</th>\n",
       "      <th>norm_score</th>\n",
       "      <th>genre</th>\n",
       "      <th>reviewer_id</th>\n",
       "      <th>avg_score</th>\n",
       "    </tr>\n",
       "  </thead>\n",
       "  <tbody>\n",
       "    <tr>\n",
       "      <th>0</th>\n",
       "      <td>1</td>\n",
       "      <td>GamingXP</td>\n",
       "      <td>35</td>\n",
       "      <td>007-legends</td>\n",
       "      <td>007 Legends (PC)</td>\n",
       "      <td>4</td>\n",
       "      <td>Action, Shooter, First-Person, Modern, Arcade</td>\n",
       "      <td>0</td>\n",
       "      <td>8.0</td>\n",
       "    </tr>\n",
       "    <tr>\n",
       "      <th>1</th>\n",
       "      <td>1</td>\n",
       "      <td>GamingXP</td>\n",
       "      <td>35</td>\n",
       "      <td>007-legends</td>\n",
       "      <td>007 Legends (PC)</td>\n",
       "      <td>4</td>\n",
       "      <td>Action, Shooter, First-Person, Modern, Arcade</td>\n",
       "      <td>0</td>\n",
       "      <td>8.0</td>\n",
       "    </tr>\n",
       "    <tr>\n",
       "      <th>2</th>\n",
       "      <td>1</td>\n",
       "      <td>GamingXP</td>\n",
       "      <td>35</td>\n",
       "      <td>007-legends</td>\n",
       "      <td>007 Legends (PC)</td>\n",
       "      <td>4</td>\n",
       "      <td>Action, Shooter, First-Person, Modern, Arcade</td>\n",
       "      <td>0</td>\n",
       "      <td>8.0</td>\n",
       "    </tr>\n",
       "    <tr>\n",
       "      <th>3</th>\n",
       "      <td>1</td>\n",
       "      <td>GamingXP</td>\n",
       "      <td>81</td>\n",
       "      <td>15-days</td>\n",
       "      <td>15 Days (PC)</td>\n",
       "      <td>8</td>\n",
       "      <td>Adventure, General, Point-and-Click</td>\n",
       "      <td>0</td>\n",
       "      <td>8.0</td>\n",
       "    </tr>\n",
       "    <tr>\n",
       "      <th>4</th>\n",
       "      <td>1</td>\n",
       "      <td>GamingXP</td>\n",
       "      <td>81</td>\n",
       "      <td>15-days</td>\n",
       "      <td>15 Days (PC)</td>\n",
       "      <td>8</td>\n",
       "      <td>Adventure, General, Point-and-Click</td>\n",
       "      <td>0</td>\n",
       "      <td>8.0</td>\n",
       "    </tr>\n",
       "  </tbody>\n",
       "</table>\n",
       "</div>"
      ],
      "text/plain": [
       "   is_critic reviewer_name  reviewer_score          url             title  \\\n",
       "0          1      GamingXP              35  007-legends  007 Legends (PC)   \n",
       "1          1      GamingXP              35  007-legends  007 Legends (PC)   \n",
       "2          1      GamingXP              35  007-legends  007 Legends (PC)   \n",
       "3          1      GamingXP              81      15-days      15 Days (PC)   \n",
       "4          1      GamingXP              81      15-days      15 Days (PC)   \n",
       "\n",
       "   norm_score                                          genre  reviewer_id  \\\n",
       "0           4  Action, Shooter, First-Person, Modern, Arcade            0   \n",
       "1           4  Action, Shooter, First-Person, Modern, Arcade            0   \n",
       "2           4  Action, Shooter, First-Person, Modern, Arcade            0   \n",
       "3           8            Adventure, General, Point-and-Click            0   \n",
       "4           8            Adventure, General, Point-and-Click            0   \n",
       "\n",
       "   avg_score  \n",
       "0        8.0  \n",
       "1        8.0  \n",
       "2        8.0  \n",
       "3        8.0  \n",
       "4        8.0  "
      ]
     },
     "execution_count": 16,
     "metadata": {},
     "output_type": "execute_result"
    }
   ],
   "source": [
    "df.head()"
   ]
  },
  {
   "cell_type": "markdown",
   "metadata": {},
   "source": [
    "## Need to fix the index and reviewer_id since they are now missing values...\n",
    "When we dropped some reviews and reviewrs we need to re-index the dataframe."
   ]
  },
  {
   "cell_type": "code",
   "execution_count": 17,
   "metadata": {
    "collapsed": true
   },
   "outputs": [],
   "source": [
    "df = df.reset_index()\n",
    "df = df.drop(['index'], axis=1)"
   ]
  },
  {
   "cell_type": "code",
   "execution_count": 18,
   "metadata": {
    "scrolled": true
   },
   "outputs": [
    {
     "data": {
      "text/html": [
       "<div>\n",
       "<style>\n",
       "    .dataframe thead tr:only-child th {\n",
       "        text-align: right;\n",
       "    }\n",
       "\n",
       "    .dataframe thead th {\n",
       "        text-align: left;\n",
       "    }\n",
       "\n",
       "    .dataframe tbody tr th {\n",
       "        vertical-align: top;\n",
       "    }\n",
       "</style>\n",
       "<table border=\"1\" class=\"dataframe\">\n",
       "  <thead>\n",
       "    <tr style=\"text-align: right;\">\n",
       "      <th></th>\n",
       "      <th>is_critic</th>\n",
       "      <th>reviewer_name</th>\n",
       "      <th>reviewer_score</th>\n",
       "      <th>url</th>\n",
       "      <th>title</th>\n",
       "      <th>norm_score</th>\n",
       "      <th>genre</th>\n",
       "      <th>reviewer_id</th>\n",
       "      <th>avg_score</th>\n",
       "    </tr>\n",
       "  </thead>\n",
       "  <tbody>\n",
       "    <tr>\n",
       "      <th>0</th>\n",
       "      <td>1</td>\n",
       "      <td>GamingXP</td>\n",
       "      <td>35</td>\n",
       "      <td>007-legends</td>\n",
       "      <td>007 Legends (PC)</td>\n",
       "      <td>4</td>\n",
       "      <td>Action, Shooter, First-Person, Modern, Arcade</td>\n",
       "      <td>0</td>\n",
       "      <td>8.0</td>\n",
       "    </tr>\n",
       "    <tr>\n",
       "      <th>1</th>\n",
       "      <td>1</td>\n",
       "      <td>GamingXP</td>\n",
       "      <td>35</td>\n",
       "      <td>007-legends</td>\n",
       "      <td>007 Legends (PC)</td>\n",
       "      <td>4</td>\n",
       "      <td>Action, Shooter, First-Person, Modern, Arcade</td>\n",
       "      <td>0</td>\n",
       "      <td>8.0</td>\n",
       "    </tr>\n",
       "    <tr>\n",
       "      <th>2</th>\n",
       "      <td>1</td>\n",
       "      <td>GamingXP</td>\n",
       "      <td>35</td>\n",
       "      <td>007-legends</td>\n",
       "      <td>007 Legends (PC)</td>\n",
       "      <td>4</td>\n",
       "      <td>Action, Shooter, First-Person, Modern, Arcade</td>\n",
       "      <td>0</td>\n",
       "      <td>8.0</td>\n",
       "    </tr>\n",
       "    <tr>\n",
       "      <th>3</th>\n",
       "      <td>1</td>\n",
       "      <td>GamingXP</td>\n",
       "      <td>81</td>\n",
       "      <td>15-days</td>\n",
       "      <td>15 Days (PC)</td>\n",
       "      <td>8</td>\n",
       "      <td>Adventure, General, Point-and-Click</td>\n",
       "      <td>0</td>\n",
       "      <td>8.0</td>\n",
       "    </tr>\n",
       "    <tr>\n",
       "      <th>4</th>\n",
       "      <td>1</td>\n",
       "      <td>GamingXP</td>\n",
       "      <td>81</td>\n",
       "      <td>15-days</td>\n",
       "      <td>15 Days (PC)</td>\n",
       "      <td>8</td>\n",
       "      <td>Adventure, General, Point-and-Click</td>\n",
       "      <td>0</td>\n",
       "      <td>8.0</td>\n",
       "    </tr>\n",
       "  </tbody>\n",
       "</table>\n",
       "</div>"
      ],
      "text/plain": [
       "   is_critic reviewer_name  reviewer_score          url             title  \\\n",
       "0          1      GamingXP              35  007-legends  007 Legends (PC)   \n",
       "1          1      GamingXP              35  007-legends  007 Legends (PC)   \n",
       "2          1      GamingXP              35  007-legends  007 Legends (PC)   \n",
       "3          1      GamingXP              81      15-days      15 Days (PC)   \n",
       "4          1      GamingXP              81      15-days      15 Days (PC)   \n",
       "\n",
       "   norm_score                                          genre  reviewer_id  \\\n",
       "0           4  Action, Shooter, First-Person, Modern, Arcade            0   \n",
       "1           4  Action, Shooter, First-Person, Modern, Arcade            0   \n",
       "2           4  Action, Shooter, First-Person, Modern, Arcade            0   \n",
       "3           8            Adventure, General, Point-and-Click            0   \n",
       "4           8            Adventure, General, Point-and-Click            0   \n",
       "\n",
       "   avg_score  \n",
       "0        8.0  \n",
       "1        8.0  \n",
       "2        8.0  \n",
       "3        8.0  \n",
       "4        8.0  "
      ]
     },
     "execution_count": 18,
     "metadata": {},
     "output_type": "execute_result"
    }
   ],
   "source": [
    "df.head() #Our dataframe is looking nice and orderly again..."
   ]
  },
  {
   "cell_type": "code",
   "execution_count": 19,
   "metadata": {
    "collapsed": true
   },
   "outputs": [],
   "source": [
    "#Build a df to make a new reviewer_id so we don't have any empty spaces...\n",
    "revName = pd.DataFrame(df['reviewer_name'].unique())\n",
    "\n",
    "revName.columns = ['reviewer_name']\n",
    "revName['reviewer_id_fixt'] = range(len(revName))"
   ]
  },
  {
   "cell_type": "code",
   "execution_count": 20,
   "metadata": {},
   "outputs": [
    {
     "data": {
      "text/html": [
       "<div>\n",
       "<style>\n",
       "    .dataframe thead tr:only-child th {\n",
       "        text-align: right;\n",
       "    }\n",
       "\n",
       "    .dataframe thead th {\n",
       "        text-align: left;\n",
       "    }\n",
       "\n",
       "    .dataframe tbody tr th {\n",
       "        vertical-align: top;\n",
       "    }\n",
       "</style>\n",
       "<table border=\"1\" class=\"dataframe\">\n",
       "  <thead>\n",
       "    <tr style=\"text-align: right;\">\n",
       "      <th></th>\n",
       "      <th>reviewer_name</th>\n",
       "      <th>reviewer_id_fixt</th>\n",
       "    </tr>\n",
       "  </thead>\n",
       "  <tbody>\n",
       "    <tr>\n",
       "      <th>0</th>\n",
       "      <td>GamingXP</td>\n",
       "      <td>0</td>\n",
       "    </tr>\n",
       "    <tr>\n",
       "      <th>1</th>\n",
       "      <td>LEVEL (Czech Republic)</td>\n",
       "      <td>1</td>\n",
       "    </tr>\n",
       "    <tr>\n",
       "      <th>2</th>\n",
       "      <td>PC Master (Greece)</td>\n",
       "      <td>2</td>\n",
       "    </tr>\n",
       "    <tr>\n",
       "      <th>3</th>\n",
       "      <td>Riot Pixels</td>\n",
       "      <td>3</td>\n",
       "    </tr>\n",
       "    <tr>\n",
       "      <th>4</th>\n",
       "      <td>PC Gamer</td>\n",
       "      <td>4</td>\n",
       "    </tr>\n",
       "  </tbody>\n",
       "</table>\n",
       "</div>"
      ],
      "text/plain": [
       "            reviewer_name  reviewer_id_fixt\n",
       "0                GamingXP                 0\n",
       "1  LEVEL (Czech Republic)                 1\n",
       "2      PC Master (Greece)                 2\n",
       "3             Riot Pixels                 3\n",
       "4                PC Gamer                 4"
      ]
     },
     "execution_count": 20,
     "metadata": {},
     "output_type": "execute_result"
    }
   ],
   "source": [
    "revName.head()"
   ]
  },
  {
   "cell_type": "code",
   "execution_count": 21,
   "metadata": {},
   "outputs": [
    {
     "data": {
      "text/html": [
       "<div>\n",
       "<style>\n",
       "    .dataframe thead tr:only-child th {\n",
       "        text-align: right;\n",
       "    }\n",
       "\n",
       "    .dataframe thead th {\n",
       "        text-align: left;\n",
       "    }\n",
       "\n",
       "    .dataframe tbody tr th {\n",
       "        vertical-align: top;\n",
       "    }\n",
       "</style>\n",
       "<table border=\"1\" class=\"dataframe\">\n",
       "  <thead>\n",
       "    <tr style=\"text-align: right;\">\n",
       "      <th></th>\n",
       "      <th>reviewer_name</th>\n",
       "      <th>reviewer_id_fixt</th>\n",
       "    </tr>\n",
       "  </thead>\n",
       "  <tbody>\n",
       "    <tr>\n",
       "      <th>6164</th>\n",
       "      <td>GuilhermeLeme13</td>\n",
       "      <td>6164</td>\n",
       "    </tr>\n",
       "    <tr>\n",
       "      <th>6165</th>\n",
       "      <td>Andrea</td>\n",
       "      <td>6165</td>\n",
       "    </tr>\n",
       "    <tr>\n",
       "      <th>6166</th>\n",
       "      <td>skulltulainahat</td>\n",
       "      <td>6166</td>\n",
       "    </tr>\n",
       "    <tr>\n",
       "      <th>6167</th>\n",
       "      <td>mose</td>\n",
       "      <td>6167</td>\n",
       "    </tr>\n",
       "    <tr>\n",
       "      <th>6168</th>\n",
       "      <td>Dallaswithad</td>\n",
       "      <td>6168</td>\n",
       "    </tr>\n",
       "  </tbody>\n",
       "</table>\n",
       "</div>"
      ],
      "text/plain": [
       "        reviewer_name  reviewer_id_fixt\n",
       "6164  GuilhermeLeme13              6164\n",
       "6165           Andrea              6165\n",
       "6166  skulltulainahat              6166\n",
       "6167             mose              6167\n",
       "6168     Dallaswithad              6168"
      ]
     },
     "execution_count": 21,
     "metadata": {},
     "output_type": "execute_result"
    }
   ],
   "source": [
    "revName.tail()"
   ]
  },
  {
   "cell_type": "code",
   "execution_count": 22,
   "metadata": {
    "collapsed": true
   },
   "outputs": [],
   "source": [
    "# Merge the new list to the DF, drop and rename the old reviewer id column.\n",
    "df = pd.merge(df, revName, on='reviewer_name')\n",
    "df = df.drop(['reviewer_id'], axis=1)\n",
    "df = df.rename(columns={'reviewer_id_fixt': 'reviewer_id'})"
   ]
  },
  {
   "cell_type": "code",
   "execution_count": 23,
   "metadata": {
    "scrolled": true
   },
   "outputs": [
    {
     "data": {
      "text/html": [
       "<div>\n",
       "<style>\n",
       "    .dataframe thead tr:only-child th {\n",
       "        text-align: right;\n",
       "    }\n",
       "\n",
       "    .dataframe thead th {\n",
       "        text-align: left;\n",
       "    }\n",
       "\n",
       "    .dataframe tbody tr th {\n",
       "        vertical-align: top;\n",
       "    }\n",
       "</style>\n",
       "<table border=\"1\" class=\"dataframe\">\n",
       "  <thead>\n",
       "    <tr style=\"text-align: right;\">\n",
       "      <th></th>\n",
       "      <th>is_critic</th>\n",
       "      <th>reviewer_name</th>\n",
       "      <th>reviewer_score</th>\n",
       "      <th>url</th>\n",
       "      <th>title</th>\n",
       "      <th>norm_score</th>\n",
       "      <th>genre</th>\n",
       "      <th>avg_score</th>\n",
       "      <th>reviewer_id</th>\n",
       "    </tr>\n",
       "  </thead>\n",
       "  <tbody>\n",
       "    <tr>\n",
       "      <th>0</th>\n",
       "      <td>1</td>\n",
       "      <td>GamingXP</td>\n",
       "      <td>35</td>\n",
       "      <td>007-legends</td>\n",
       "      <td>007 Legends (PC)</td>\n",
       "      <td>4</td>\n",
       "      <td>Action, Shooter, First-Person, Modern, Arcade</td>\n",
       "      <td>8.0</td>\n",
       "      <td>0</td>\n",
       "    </tr>\n",
       "    <tr>\n",
       "      <th>1</th>\n",
       "      <td>1</td>\n",
       "      <td>GamingXP</td>\n",
       "      <td>35</td>\n",
       "      <td>007-legends</td>\n",
       "      <td>007 Legends (PC)</td>\n",
       "      <td>4</td>\n",
       "      <td>Action, Shooter, First-Person, Modern, Arcade</td>\n",
       "      <td>8.0</td>\n",
       "      <td>0</td>\n",
       "    </tr>\n",
       "    <tr>\n",
       "      <th>2</th>\n",
       "      <td>1</td>\n",
       "      <td>GamingXP</td>\n",
       "      <td>35</td>\n",
       "      <td>007-legends</td>\n",
       "      <td>007 Legends (PC)</td>\n",
       "      <td>4</td>\n",
       "      <td>Action, Shooter, First-Person, Modern, Arcade</td>\n",
       "      <td>8.0</td>\n",
       "      <td>0</td>\n",
       "    </tr>\n",
       "  </tbody>\n",
       "</table>\n",
       "</div>"
      ],
      "text/plain": [
       "   is_critic reviewer_name  reviewer_score          url             title  \\\n",
       "0          1      GamingXP              35  007-legends  007 Legends (PC)   \n",
       "1          1      GamingXP              35  007-legends  007 Legends (PC)   \n",
       "2          1      GamingXP              35  007-legends  007 Legends (PC)   \n",
       "\n",
       "   norm_score                                          genre  avg_score  \\\n",
       "0           4  Action, Shooter, First-Person, Modern, Arcade        8.0   \n",
       "1           4  Action, Shooter, First-Person, Modern, Arcade        8.0   \n",
       "2           4  Action, Shooter, First-Person, Modern, Arcade        8.0   \n",
       "\n",
       "   reviewer_id  \n",
       "0            0  \n",
       "1            0  \n",
       "2            0  "
      ]
     },
     "execution_count": 23,
     "metadata": {},
     "output_type": "execute_result"
    }
   ],
   "source": [
    "# I'm sure there is a more effecient way to do this, but I got the desired results without an issue.\n",
    "df.head(3)"
   ]
  },
  {
   "cell_type": "markdown",
   "metadata": {},
   "source": [
    "## After trimming off the reviewers.."
   ]
  },
  {
   "cell_type": "code",
   "execution_count": 24,
   "metadata": {
    "scrolled": false
   },
   "outputs": [
    {
     "data": {
      "text/plain": [
       "0      2408\n",
       "1      1307\n",
       "2      1791\n",
       "3      2811\n",
       "4      4834\n",
       "5      7388\n",
       "6     11892\n",
       "7     19981\n",
       "8     29834\n",
       "9     24678\n",
       "10    14505\n",
       "Name: norm_score, dtype: int64"
      ]
     },
     "execution_count": 24,
     "metadata": {},
     "output_type": "execute_result"
    }
   ],
   "source": [
    "df.norm_score.value_counts(sort=False)"
   ]
  },
  {
   "cell_type": "code",
   "execution_count": 25,
   "metadata": {},
   "outputs": [
    {
     "data": {
      "text/plain": [
       "<matplotlib.text.Text at 0x10e73ead0>"
      ]
     },
     "execution_count": 25,
     "metadata": {},
     "output_type": "execute_result"
    },
    {
     "data": {
      "image/png": "[encoded data removed]",
      "text/plain": [
       "<matplotlib.figure.Figure at 0x10dde3610>"
      ]
     },
     "metadata": {},
     "output_type": "display_data"
    }
   ],
   "source": [
    "plt.hist(df.norm_score, bins=5)\n",
    "plt.title(\"Filtered User Review Distribution\")\n",
    "plt.xlabel(\"Score\")\n",
    "plt.ylabel(\"# of Reviews\")"
   ]
  },
  {
   "cell_type": "markdown",
   "metadata": {
    "collapsed": true
   },
   "source": [
    "# Setting up a pivot table"
   ]
  },
  {
   "cell_type": "code",
   "execution_count": 26,
   "metadata": {},
   "outputs": [
    {
     "data": {
      "text/plain": [
       "(6169, 4457)"
      ]
     },
     "execution_count": 26,
     "metadata": {},
     "output_type": "execute_result"
    }
   ],
   "source": [
    "pivot = df.pivot_table(index='reviewer_id', columns='title', values='norm_score')\n",
    "pivot.shape"
   ]
  },
  {
   "cell_type": "code",
   "execution_count": 27,
   "metadata": {},
   "outputs": [
    {
     "data": {
      "text/plain": [
       "(6169, 4457)"
      ]
     },
     "execution_count": 27,
     "metadata": {},
     "output_type": "execute_result"
    }
   ],
   "source": [
    "pivot.fillna(0).values\n",
    "pivot.shape"
   ]
  },
  {
   "cell_type": "code",
   "execution_count": 28,
   "metadata": {
    "scrolled": true
   },
   "outputs": [
    {
     "data": {
      "text/html": [
       "<div>\n",
       "<style>\n",
       "    .dataframe thead tr:only-child th {\n",
       "        text-align: right;\n",
       "    }\n",
       "\n",
       "    .dataframe thead th {\n",
       "        text-align: left;\n",
       "    }\n",
       "\n",
       "    .dataframe tbody tr th {\n",
       "        vertical-align: top;\n",
       "    }\n",
       "</style>\n",
       "<table border=\"1\" class=\"dataframe\">\n",
       "  <thead>\n",
       "    <tr style=\"text-align: right;\">\n",
       "      <th>title</th>\n",
       "      <th>007 Legends (PC)</th>\n",
       "      <th>007: NightFire (PC)</th>\n",
       "      <th>007: Quantum of Solace (PC)</th>\n",
       "      <th>0RBITALIS (PC)</th>\n",
       "      <th>10 Second Ninja (PC)</th>\n",
       "      <th>10,000,000 (PC)</th>\n",
       "      <th>1001 Spikes (PC)</th>\n",
       "      <th>12 is Better Than 6 (PC)</th>\n",
       "      <th>140 (PC)</th>\n",
       "      <th>15 Days (PC)</th>\n",
       "      <th>...</th>\n",
       "      <th>Zoo Tycoon: Marine Mania (PC)</th>\n",
       "      <th>Zuma's Revenge! (PC)</th>\n",
       "      <th>continue?9876543210 (PC)</th>\n",
       "      <th>iRacing (PC)</th>\n",
       "      <th>imprint-X (PC)</th>\n",
       "      <th>inMomentum (PC)</th>\n",
       "      <th>kill.switch (PC)</th>\n",
       "      <th>nail'd (PC)</th>\n",
       "      <th>rymdkapsel (PC)</th>\n",
       "      <th>theHunter: Call of the Wild (PC)</th>\n",
       "    </tr>\n",
       "    <tr>\n",
       "      <th>reviewer_id</th>\n",
       "      <th></th>\n",
       "      <th></th>\n",
       "      <th></th>\n",
       "      <th></th>\n",
       "      <th></th>\n",
       "      <th></th>\n",
       "      <th></th>\n",
       "      <th></th>\n",
       "      <th></th>\n",
       "      <th></th>\n",
       "      <th></th>\n",
       "      <th></th>\n",
       "      <th></th>\n",
       "      <th></th>\n",
       "      <th></th>\n",
       "      <th></th>\n",
       "      <th></th>\n",
       "      <th></th>\n",
       "      <th></th>\n",
       "      <th></th>\n",
       "      <th></th>\n",
       "    </tr>\n",
       "  </thead>\n",
       "  <tbody>\n",
       "    <tr>\n",
       "      <th>0</th>\n",
       "      <td>4.0</td>\n",
       "      <td>NaN</td>\n",
       "      <td>NaN</td>\n",
       "      <td>NaN</td>\n",
       "      <td>NaN</td>\n",
       "      <td>NaN</td>\n",
       "      <td>NaN</td>\n",
       "      <td>NaN</td>\n",
       "      <td>NaN</td>\n",
       "      <td>8.0</td>\n",
       "      <td>...</td>\n",
       "      <td>NaN</td>\n",
       "      <td>6.0</td>\n",
       "      <td>NaN</td>\n",
       "      <td>NaN</td>\n",
       "      <td>NaN</td>\n",
       "      <td>NaN</td>\n",
       "      <td>NaN</td>\n",
       "      <td>7.0</td>\n",
       "      <td>NaN</td>\n",
       "      <td>NaN</td>\n",
       "    </tr>\n",
       "    <tr>\n",
       "      <th>1</th>\n",
       "      <td>3.0</td>\n",
       "      <td>NaN</td>\n",
       "      <td>6.0</td>\n",
       "      <td>NaN</td>\n",
       "      <td>NaN</td>\n",
       "      <td>NaN</td>\n",
       "      <td>NaN</td>\n",
       "      <td>NaN</td>\n",
       "      <td>NaN</td>\n",
       "      <td>6.0</td>\n",
       "      <td>...</td>\n",
       "      <td>NaN</td>\n",
       "      <td>NaN</td>\n",
       "      <td>NaN</td>\n",
       "      <td>NaN</td>\n",
       "      <td>NaN</td>\n",
       "      <td>5.0</td>\n",
       "      <td>NaN</td>\n",
       "      <td>6.0</td>\n",
       "      <td>8.0</td>\n",
       "      <td>NaN</td>\n",
       "    </tr>\n",
       "    <tr>\n",
       "      <th>2</th>\n",
       "      <td>3.0</td>\n",
       "      <td>NaN</td>\n",
       "      <td>NaN</td>\n",
       "      <td>NaN</td>\n",
       "      <td>NaN</td>\n",
       "      <td>NaN</td>\n",
       "      <td>NaN</td>\n",
       "      <td>NaN</td>\n",
       "      <td>NaN</td>\n",
       "      <td>NaN</td>\n",
       "      <td>...</td>\n",
       "      <td>NaN</td>\n",
       "      <td>NaN</td>\n",
       "      <td>NaN</td>\n",
       "      <td>NaN</td>\n",
       "      <td>NaN</td>\n",
       "      <td>NaN</td>\n",
       "      <td>NaN</td>\n",
       "      <td>NaN</td>\n",
       "      <td>NaN</td>\n",
       "      <td>NaN</td>\n",
       "    </tr>\n",
       "    <tr>\n",
       "      <th>3</th>\n",
       "      <td>3.0</td>\n",
       "      <td>NaN</td>\n",
       "      <td>NaN</td>\n",
       "      <td>NaN</td>\n",
       "      <td>NaN</td>\n",
       "      <td>5.0</td>\n",
       "      <td>NaN</td>\n",
       "      <td>NaN</td>\n",
       "      <td>NaN</td>\n",
       "      <td>NaN</td>\n",
       "      <td>...</td>\n",
       "      <td>NaN</td>\n",
       "      <td>NaN</td>\n",
       "      <td>NaN</td>\n",
       "      <td>NaN</td>\n",
       "      <td>NaN</td>\n",
       "      <td>NaN</td>\n",
       "      <td>NaN</td>\n",
       "      <td>NaN</td>\n",
       "      <td>NaN</td>\n",
       "      <td>NaN</td>\n",
       "    </tr>\n",
       "    <tr>\n",
       "      <th>4</th>\n",
       "      <td>2.0</td>\n",
       "      <td>6.0</td>\n",
       "      <td>NaN</td>\n",
       "      <td>NaN</td>\n",
       "      <td>NaN</td>\n",
       "      <td>NaN</td>\n",
       "      <td>NaN</td>\n",
       "      <td>NaN</td>\n",
       "      <td>NaN</td>\n",
       "      <td>NaN</td>\n",
       "      <td>...</td>\n",
       "      <td>NaN</td>\n",
       "      <td>6.0</td>\n",
       "      <td>NaN</td>\n",
       "      <td>NaN</td>\n",
       "      <td>NaN</td>\n",
       "      <td>NaN</td>\n",
       "      <td>7.0</td>\n",
       "      <td>8.0</td>\n",
       "      <td>NaN</td>\n",
       "      <td>6.0</td>\n",
       "    </tr>\n",
       "  </tbody>\n",
       "</table>\n",
       "<p>5 rows × 4457 columns</p>\n",
       "</div>"
      ],
      "text/plain": [
       "title        007 Legends (PC)  007: NightFire (PC)  \\\n",
       "reviewer_id                                          \n",
       "0                         4.0                  NaN   \n",
       "1                         3.0                  NaN   \n",
       "2                         3.0                  NaN   \n",
       "3                         3.0                  NaN   \n",
       "4                         2.0                  6.0   \n",
       "\n",
       "title        007: Quantum of Solace (PC)  0RBITALIS (PC)  \\\n",
       "reviewer_id                                                \n",
       "0                                    NaN             NaN   \n",
       "1                                    6.0             NaN   \n",
       "2                                    NaN             NaN   \n",
       "3                                    NaN             NaN   \n",
       "4                                    NaN             NaN   \n",
       "\n",
       "title        10 Second Ninja (PC)  10,000,000 (PC)  1001 Spikes (PC)  \\\n",
       "reviewer_id                                                            \n",
       "0                             NaN              NaN               NaN   \n",
       "1                             NaN              NaN               NaN   \n",
       "2                             NaN              NaN               NaN   \n",
       "3                             NaN              5.0               NaN   \n",
       "4                             NaN              NaN               NaN   \n",
       "\n",
       "title        12 is Better Than 6 (PC)  140 (PC)  15 Days (PC)  \\\n",
       "reviewer_id                                                     \n",
       "0                                 NaN       NaN           8.0   \n",
       "1                                 NaN       NaN           6.0   \n",
       "2                                 NaN       NaN           NaN   \n",
       "3                                 NaN       NaN           NaN   \n",
       "4                                 NaN       NaN           NaN   \n",
       "\n",
       "title                      ...                 Zoo Tycoon: Marine Mania (PC)  \\\n",
       "reviewer_id                ...                                                 \n",
       "0                          ...                                           NaN   \n",
       "1                          ...                                           NaN   \n",
       "2                          ...                                           NaN   \n",
       "3                          ...                                           NaN   \n",
       "4                          ...                                           NaN   \n",
       "\n",
       "title        Zuma's Revenge! (PC)  continue?9876543210 (PC)  iRacing (PC)  \\\n",
       "reviewer_id                                                                 \n",
       "0                             6.0                       NaN           NaN   \n",
       "1                             NaN                       NaN           NaN   \n",
       "2                             NaN                       NaN           NaN   \n",
       "3                             NaN                       NaN           NaN   \n",
       "4                             6.0                       NaN           NaN   \n",
       "\n",
       "title        imprint-X (PC)  inMomentum (PC)  kill.switch (PC)  nail'd (PC)  \\\n",
       "reviewer_id                                                                   \n",
       "0                       NaN              NaN               NaN          7.0   \n",
       "1                       NaN              5.0               NaN          6.0   \n",
       "2                       NaN              NaN               NaN          NaN   \n",
       "3                       NaN              NaN               NaN          NaN   \n",
       "4                       NaN              NaN               7.0          8.0   \n",
       "\n",
       "title        rymdkapsel (PC)  theHunter: Call of the Wild (PC)  \n",
       "reviewer_id                                                     \n",
       "0                        NaN                               NaN  \n",
       "1                        8.0                               NaN  \n",
       "2                        NaN                               NaN  \n",
       "3                        NaN                               NaN  \n",
       "4                        NaN                               6.0  \n",
       "\n",
       "[5 rows x 4457 columns]"
      ]
     },
     "execution_count": 28,
     "metadata": {},
     "output_type": "execute_result"
    }
   ],
   "source": [
    "pivot.head()"
   ]
  },
  {
   "cell_type": "code",
   "execution_count": 29,
   "metadata": {
    "scrolled": false
   },
   "outputs": [
    {
     "name": "stdout",
     "output_type": "stream",
     "text": [
      "['sgy0003']\n",
      "\n",
      "title\n",
      "Battlefield 1 (PC)                                           8.0\n",
      "Battlefield Hardline (PC)                                    5.0\n",
      "Dishonored (PC)                                             10.0\n",
      "Dragon Age: Inquisition (PC)                                 8.0\n",
      "Mirror's Edge (PC)                                          10.0\n",
      "The Walking Dead: Michonne - Episode 1: In Too Deep (PC)     6.0\n",
      "Valiant Hearts: The Great War (PC)                          10.0\n",
      "Name: 3765, dtype: float64\n"
     ]
    }
   ],
   "source": [
    "A = 3765 #The reviewer id that we want...\n",
    "print df['reviewer_name'].where(df['reviewer_id'] == A).value_counts().index.values # get the name of \"A\" (hacky)\n",
    "print\n",
    "print pivot.iloc[A].dropna() #These are all reviews from reviewer_id \"A\""
   ]
  },
  {
   "cell_type": "markdown",
   "metadata": {},
   "source": [
    "# ----------------------------------------------------------------------------------------"
   ]
  },
  {
   "cell_type": "code",
   "execution_count": 30,
   "metadata": {
    "collapsed": true
   },
   "outputs": [],
   "source": [
    "pivotsparse = sparse.csc_matrix(pivot.fillna(0).values)"
   ]
  },
  {
   "cell_type": "code",
   "execution_count": 31,
   "metadata": {},
   "outputs": [
    {
     "data": {
      "text/plain": [
       "(6169, 4457)"
      ]
     },
     "execution_count": 31,
     "metadata": {},
     "output_type": "execute_result"
    }
   ],
   "source": [
    "pivot.fillna(0).shape"
   ]
  },
  {
   "cell_type": "code",
   "execution_count": 32,
   "metadata": {
    "scrolled": true
   },
   "outputs": [
    {
     "name": "stdout",
     "output_type": "stream",
     "text": [
      "  (0, 110)\t10.0\n",
      "  (0, 441)\t8.0\n",
      "  (0, 1938)\t9.0\n",
      "  (0, 2171)\t10.0\n",
      "  (0, 2861)\t10.0\n",
      "  (0, 3119)\t10.0\n",
      "  (0, 4032)\t6.0\n",
      "title\n",
      "Alan Wake (PC)                          10.0\n",
      "BioShock Infinite (PC)                   8.0\n",
      "Hunted: The Demon's Forge (PC)           9.0\n",
      "LIMBO (PC)                              10.0\n",
      "Papers, Please (PC)                     10.0\n",
      "Resident Evil 4 (PC)                    10.0\n",
      "Tiny & Big: Grandpa's Leftovers (PC)     6.0\n",
      "Name: 800, dtype: float64\n"
     ]
    }
   ],
   "source": [
    "print pivotsparse[800] #Scipy Sparse\n",
    "print pivot.iloc[800].dropna()"
   ]
  },
  {
   "cell_type": "markdown",
   "metadata": {},
   "source": [
    "## Finding the User for tuning..."
   ]
  },
  {
   "cell_type": "code",
   "execution_count": 67,
   "metadata": {
    "scrolled": true
   },
   "outputs": [
    {
     "data": {
      "text/html": [
       "<div>\n",
       "<style>\n",
       "    .dataframe thead tr:only-child th {\n",
       "        text-align: right;\n",
       "    }\n",
       "\n",
       "    .dataframe thead th {\n",
       "        text-align: left;\n",
       "    }\n",
       "\n",
       "    .dataframe tbody tr th {\n",
       "        vertical-align: top;\n",
       "    }\n",
       "</style>\n",
       "<table border=\"1\" class=\"dataframe\">\n",
       "  <thead>\n",
       "    <tr style=\"text-align: right;\">\n",
       "      <th></th>\n",
       "      <th>is_critic</th>\n",
       "      <th>reviewer_name</th>\n",
       "      <th>reviewer_score</th>\n",
       "      <th>url</th>\n",
       "      <th>title</th>\n",
       "      <th>norm_score</th>\n",
       "      <th>genre</th>\n",
       "      <th>avg_score</th>\n",
       "      <th>reviewer_id</th>\n",
       "    </tr>\n",
       "  </thead>\n",
       "  <tbody>\n",
       "    <tr>\n",
       "      <th>110661</th>\n",
       "      <td>0</td>\n",
       "      <td>PStakhiv</td>\n",
       "      <td>9</td>\n",
       "      <td>bioshock-infinite</td>\n",
       "      <td>BioShock Infinite (PC)</td>\n",
       "      <td>9</td>\n",
       "      <td>Action, Shooter, First-Person, Sci-Fi, Arcade</td>\n",
       "      <td>8.5</td>\n",
       "      <td>4240</td>\n",
       "    </tr>\n",
       "    <tr>\n",
       "      <th>110662</th>\n",
       "      <td>0</td>\n",
       "      <td>PStakhiv</td>\n",
       "      <td>7</td>\n",
       "      <td>dead-space-3</td>\n",
       "      <td>Dead Space 3 (PC)</td>\n",
       "      <td>7</td>\n",
       "      <td>Action, Action Adventure, Shooter, Linear, Thi...</td>\n",
       "      <td>8.5</td>\n",
       "      <td>4240</td>\n",
       "    </tr>\n",
       "    <tr>\n",
       "      <th>110663</th>\n",
       "      <td>0</td>\n",
       "      <td>PStakhiv</td>\n",
       "      <td>10</td>\n",
       "      <td>deus-ex-human-revolution</td>\n",
       "      <td>Deus Ex: Human Revolution (PC)</td>\n",
       "      <td>10</td>\n",
       "      <td>Action, Action Adventure, Shooter, Sci-Fi, Gen...</td>\n",
       "      <td>8.5</td>\n",
       "      <td>4240</td>\n",
       "    </tr>\n",
       "    <tr>\n",
       "      <th>110664</th>\n",
       "      <td>0</td>\n",
       "      <td>PStakhiv</td>\n",
       "      <td>8</td>\n",
       "      <td>dishonored</td>\n",
       "      <td>Dishonored (PC)</td>\n",
       "      <td>8</td>\n",
       "      <td>Action Adventure, Modern, General, Modern</td>\n",
       "      <td>8.5</td>\n",
       "      <td>4240</td>\n",
       "    </tr>\n",
       "    <tr>\n",
       "      <th>110665</th>\n",
       "      <td>0</td>\n",
       "      <td>PStakhiv</td>\n",
       "      <td>9</td>\n",
       "      <td>dragon-age-origins</td>\n",
       "      <td>Dragon Age: Origins (PC)</td>\n",
       "      <td>9</td>\n",
       "      <td>Role-Playing, PC-style RPG, Western-Style</td>\n",
       "      <td>8.5</td>\n",
       "      <td>4240</td>\n",
       "    </tr>\n",
       "    <tr>\n",
       "      <th>110666</th>\n",
       "      <td>0</td>\n",
       "      <td>PStakhiv</td>\n",
       "      <td>9</td>\n",
       "      <td>far-cry-3</td>\n",
       "      <td>Far Cry 3 (PC)</td>\n",
       "      <td>9</td>\n",
       "      <td>Action, Shooter, First-Person, Modern, Arcade</td>\n",
       "      <td>8.5</td>\n",
       "      <td>4240</td>\n",
       "    </tr>\n",
       "    <tr>\n",
       "      <th>110667</th>\n",
       "      <td>0</td>\n",
       "      <td>PStakhiv</td>\n",
       "      <td>7</td>\n",
       "      <td>kingdoms-of-amalur-reckoning</td>\n",
       "      <td>Kingdoms of Amalur: Reckoning (PC)</td>\n",
       "      <td>7</td>\n",
       "      <td>Role-Playing, PC-style RPG, Action RPG</td>\n",
       "      <td>8.5</td>\n",
       "      <td>4240</td>\n",
       "    </tr>\n",
       "    <tr>\n",
       "      <th>110668</th>\n",
       "      <td>0</td>\n",
       "      <td>PStakhiv</td>\n",
       "      <td>9</td>\n",
       "      <td>mass-effect</td>\n",
       "      <td>Mass Effect (PC)</td>\n",
       "      <td>9</td>\n",
       "      <td>Role-Playing, Action RPG, Console-style Japane...</td>\n",
       "      <td>8.5</td>\n",
       "      <td>4240</td>\n",
       "    </tr>\n",
       "    <tr>\n",
       "      <th>110669</th>\n",
       "      <td>0</td>\n",
       "      <td>PStakhiv</td>\n",
       "      <td>10</td>\n",
       "      <td>mass-effect-2</td>\n",
       "      <td>Mass Effect 2 (PC)</td>\n",
       "      <td>10</td>\n",
       "      <td>Role-Playing, Action RPG, RPG</td>\n",
       "      <td>8.5</td>\n",
       "      <td>4240</td>\n",
       "    </tr>\n",
       "    <tr>\n",
       "      <th>110670</th>\n",
       "      <td>0</td>\n",
       "      <td>PStakhiv</td>\n",
       "      <td>9</td>\n",
       "      <td>mass-effect-2-lair-of-the-shadow-broker</td>\n",
       "      <td>Mass Effect 2: Lair of the Shadow Broker (PC)</td>\n",
       "      <td>9</td>\n",
       "      <td>Role-Playing, Action RPG, RPG</td>\n",
       "      <td>8.5</td>\n",
       "      <td>4240</td>\n",
       "    </tr>\n",
       "    <tr>\n",
       "      <th>110671</th>\n",
       "      <td>0</td>\n",
       "      <td>PStakhiv</td>\n",
       "      <td>8</td>\n",
       "      <td>mass-effect-3</td>\n",
       "      <td>Mass Effect 3 (PC)</td>\n",
       "      <td>8</td>\n",
       "      <td>Role-Playing, Action RPG, RPG</td>\n",
       "      <td>8.5</td>\n",
       "      <td>4240</td>\n",
       "    </tr>\n",
       "    <tr>\n",
       "      <th>110672</th>\n",
       "      <td>0</td>\n",
       "      <td>PStakhiv</td>\n",
       "      <td>7</td>\n",
       "      <td>mass-effect-3-citadel</td>\n",
       "      <td>Mass Effect 3: Citadel (PC)</td>\n",
       "      <td>7</td>\n",
       "      <td>Role-Playing, Action RPG, RPG</td>\n",
       "      <td>8.5</td>\n",
       "      <td>4240</td>\n",
       "    </tr>\n",
       "    <tr>\n",
       "      <th>110673</th>\n",
       "      <td>0</td>\n",
       "      <td>PStakhiv</td>\n",
       "      <td>9</td>\n",
       "      <td>metro-last-light</td>\n",
       "      <td>Metro: Last Light (PC)</td>\n",
       "      <td>9</td>\n",
       "      <td>Action, Shooter, First-Person, Sci-Fi, Arcade</td>\n",
       "      <td>8.5</td>\n",
       "      <td>4240</td>\n",
       "    </tr>\n",
       "    <tr>\n",
       "      <th>110674</th>\n",
       "      <td>0</td>\n",
       "      <td>PStakhiv</td>\n",
       "      <td>9</td>\n",
       "      <td>portal</td>\n",
       "      <td>Portal (PC)</td>\n",
       "      <td>9</td>\n",
       "      <td>Action, Shooter, First-Person, Sci-Fi, Arcade</td>\n",
       "      <td>8.5</td>\n",
       "      <td>4240</td>\n",
       "    </tr>\n",
       "    <tr>\n",
       "      <th>110675</th>\n",
       "      <td>0</td>\n",
       "      <td>PStakhiv</td>\n",
       "      <td>8</td>\n",
       "      <td>pro-evolution-soccer-2014</td>\n",
       "      <td>Pro Evolution Soccer 2014 (PC)</td>\n",
       "      <td>8</td>\n",
       "      <td>Sports, Traditional, Team, Soccer, Sim, Sim</td>\n",
       "      <td>8.5</td>\n",
       "      <td>4240</td>\n",
       "    </tr>\n",
       "    <tr>\n",
       "      <th>110676</th>\n",
       "      <td>0</td>\n",
       "      <td>PStakhiv</td>\n",
       "      <td>6</td>\n",
       "      <td>remember-me</td>\n",
       "      <td>Remember Me (PC)</td>\n",
       "      <td>6</td>\n",
       "      <td>Action Adventure, Sci-Fi, General</td>\n",
       "      <td>8.5</td>\n",
       "      <td>4240</td>\n",
       "    </tr>\n",
       "    <tr>\n",
       "      <th>110677</th>\n",
       "      <td>0</td>\n",
       "      <td>PStakhiv</td>\n",
       "      <td>8</td>\n",
       "      <td>the-elder-scrolls-iv-oblivion</td>\n",
       "      <td>The Elder Scrolls IV: Oblivion (PC)</td>\n",
       "      <td>8</td>\n",
       "      <td>Role-Playing, First-Person, Western-Style</td>\n",
       "      <td>8.5</td>\n",
       "      <td>4240</td>\n",
       "    </tr>\n",
       "    <tr>\n",
       "      <th>110678</th>\n",
       "      <td>0</td>\n",
       "      <td>PStakhiv</td>\n",
       "      <td>9</td>\n",
       "      <td>the-elder-scrolls-v-skyrim</td>\n",
       "      <td>The Elder Scrolls V: Skyrim (PC)</td>\n",
       "      <td>9</td>\n",
       "      <td>Role-Playing, First-Person, Western-Style</td>\n",
       "      <td>8.5</td>\n",
       "      <td>4240</td>\n",
       "    </tr>\n",
       "    <tr>\n",
       "      <th>110679</th>\n",
       "      <td>0</td>\n",
       "      <td>PStakhiv</td>\n",
       "      <td>8</td>\n",
       "      <td>the-walking-dead-a-telltale-games-series</td>\n",
       "      <td>The Walking Dead: A Telltale Games Series (PC)</td>\n",
       "      <td>8</td>\n",
       "      <td>Compilation, Miscellaneous, Adventure, Point-a...</td>\n",
       "      <td>8.5</td>\n",
       "      <td>4240</td>\n",
       "    </tr>\n",
       "    <tr>\n",
       "      <th>110680</th>\n",
       "      <td>0</td>\n",
       "      <td>PStakhiv</td>\n",
       "      <td>8</td>\n",
       "      <td>thief</td>\n",
       "      <td>Thief (PC)</td>\n",
       "      <td>8</td>\n",
       "      <td>Fantasy, Action Adventure, General, Fantasy</td>\n",
       "      <td>8.5</td>\n",
       "      <td>4240</td>\n",
       "    </tr>\n",
       "  </tbody>\n",
       "</table>\n",
       "</div>"
      ],
      "text/plain": [
       "        is_critic reviewer_name  reviewer_score  \\\n",
       "110661          0      PStakhiv               9   \n",
       "110662          0      PStakhiv               7   \n",
       "110663          0      PStakhiv              10   \n",
       "110664          0      PStakhiv               8   \n",
       "110665          0      PStakhiv               9   \n",
       "110666          0      PStakhiv               9   \n",
       "110667          0      PStakhiv               7   \n",
       "110668          0      PStakhiv               9   \n",
       "110669          0      PStakhiv              10   \n",
       "110670          0      PStakhiv               9   \n",
       "110671          0      PStakhiv               8   \n",
       "110672          0      PStakhiv               7   \n",
       "110673          0      PStakhiv               9   \n",
       "110674          0      PStakhiv               9   \n",
       "110675          0      PStakhiv               8   \n",
       "110676          0      PStakhiv               6   \n",
       "110677          0      PStakhiv               8   \n",
       "110678          0      PStakhiv               9   \n",
       "110679          0      PStakhiv               8   \n",
       "110680          0      PStakhiv               8   \n",
       "\n",
       "                                             url  \\\n",
       "110661                         bioshock-infinite   \n",
       "110662                              dead-space-3   \n",
       "110663                  deus-ex-human-revolution   \n",
       "110664                                dishonored   \n",
       "110665                        dragon-age-origins   \n",
       "110666                                 far-cry-3   \n",
       "110667              kingdoms-of-amalur-reckoning   \n",
       "110668                               mass-effect   \n",
       "110669                             mass-effect-2   \n",
       "110670   mass-effect-2-lair-of-the-shadow-broker   \n",
       "110671                             mass-effect-3   \n",
       "110672                     mass-effect-3-citadel   \n",
       "110673                          metro-last-light   \n",
       "110674                                    portal   \n",
       "110675                 pro-evolution-soccer-2014   \n",
       "110676                               remember-me   \n",
       "110677             the-elder-scrolls-iv-oblivion   \n",
       "110678                the-elder-scrolls-v-skyrim   \n",
       "110679  the-walking-dead-a-telltale-games-series   \n",
       "110680                                     thief   \n",
       "\n",
       "                                                 title  norm_score  \\\n",
       "110661                          BioShock Infinite (PC)           9   \n",
       "110662                               Dead Space 3 (PC)           7   \n",
       "110663                  Deus Ex: Human Revolution (PC)          10   \n",
       "110664                                 Dishonored (PC)           8   \n",
       "110665                        Dragon Age: Origins (PC)           9   \n",
       "110666                                  Far Cry 3 (PC)           9   \n",
       "110667              Kingdoms of Amalur: Reckoning (PC)           7   \n",
       "110668                                Mass Effect (PC)           9   \n",
       "110669                              Mass Effect 2 (PC)          10   \n",
       "110670   Mass Effect 2: Lair of the Shadow Broker (PC)           9   \n",
       "110671                              Mass Effect 3 (PC)           8   \n",
       "110672                     Mass Effect 3: Citadel (PC)           7   \n",
       "110673                          Metro: Last Light (PC)           9   \n",
       "110674                                     Portal (PC)           9   \n",
       "110675                  Pro Evolution Soccer 2014 (PC)           8   \n",
       "110676                                Remember Me (PC)           6   \n",
       "110677             The Elder Scrolls IV: Oblivion (PC)           8   \n",
       "110678                The Elder Scrolls V: Skyrim (PC)           9   \n",
       "110679  The Walking Dead: A Telltale Games Series (PC)           8   \n",
       "110680                                      Thief (PC)           8   \n",
       "\n",
       "                                                    genre  avg_score  \\\n",
       "110661      Action, Shooter, First-Person, Sci-Fi, Arcade        8.5   \n",
       "110662  Action, Action Adventure, Shooter, Linear, Thi...        8.5   \n",
       "110663  Action, Action Adventure, Shooter, Sci-Fi, Gen...        8.5   \n",
       "110664          Action Adventure, Modern, General, Modern        8.5   \n",
       "110665          Role-Playing, PC-style RPG, Western-Style        8.5   \n",
       "110666      Action, Shooter, First-Person, Modern, Arcade        8.5   \n",
       "110667             Role-Playing, PC-style RPG, Action RPG        8.5   \n",
       "110668  Role-Playing, Action RPG, Console-style Japane...        8.5   \n",
       "110669                      Role-Playing, Action RPG, RPG        8.5   \n",
       "110670                      Role-Playing, Action RPG, RPG        8.5   \n",
       "110671                      Role-Playing, Action RPG, RPG        8.5   \n",
       "110672                      Role-Playing, Action RPG, RPG        8.5   \n",
       "110673      Action, Shooter, First-Person, Sci-Fi, Arcade        8.5   \n",
       "110674      Action, Shooter, First-Person, Sci-Fi, Arcade        8.5   \n",
       "110675        Sports, Traditional, Team, Soccer, Sim, Sim        8.5   \n",
       "110676                  Action Adventure, Sci-Fi, General        8.5   \n",
       "110677          Role-Playing, First-Person, Western-Style        8.5   \n",
       "110678          Role-Playing, First-Person, Western-Style        8.5   \n",
       "110679  Compilation, Miscellaneous, Adventure, Point-a...        8.5   \n",
       "110680        Fantasy, Action Adventure, General, Fantasy        8.5   \n",
       "\n",
       "        reviewer_id  \n",
       "110661         4240  \n",
       "110662         4240  \n",
       "110663         4240  \n",
       "110664         4240  \n",
       "110665         4240  \n",
       "110666         4240  \n",
       "110667         4240  \n",
       "110668         4240  \n",
       "110669         4240  \n",
       "110670         4240  \n",
       "110671         4240  \n",
       "110672         4240  \n",
       "110673         4240  \n",
       "110674         4240  \n",
       "110675         4240  \n",
       "110676         4240  \n",
       "110677         4240  \n",
       "110678         4240  \n",
       "110679         4240  \n",
       "110680         4240  "
      ]
     },
     "execution_count": 67,
     "metadata": {},
     "output_type": "execute_result"
    }
   ],
   "source": [
    "# gotta find the user...\n",
    "name = 'PStakhiv'\n",
    "df[df['reviewer_name'].str.contains(name)]"
   ]
  },
  {
   "cell_type": "markdown",
   "metadata": {},
   "source": [
    "## Running the Model"
   ]
  },
  {
   "cell_type": "code",
   "execution_count": 68,
   "metadata": {},
   "outputs": [
    {
     "name": "stdout",
     "output_type": "stream",
     "text": [
      "[[  0.          33.54101966  33.80828301  34.23448554  34.35112807\n",
      "   34.35112807]]\n",
      "--------------------\n",
      "[[4240 4793 4198 1851 3749 3813]]\n"
     ]
    }
   ],
   "source": [
    "# I set my 'X' value as my pivot table of the data.\n",
    "# I am planning to feed the 'y' or user input into the dataframe to be saved among the others.\n",
    "# This is so I can collect new reviews to be fed into the model.\n",
    "\n",
    "X = pivotsparse\n",
    "nbrs = NearestNeighbors(n_neighbors=6).fit(X)\n",
    "distances, indices = nbrs.kneighbors(pivotsparse[4240]) #Input the desired user id here\n",
    "print distances\n",
    "print \"-\"*20\n",
    "print indices"
   ]
  },
  {
   "cell_type": "markdown",
   "metadata": {},
   "source": [
    "## Cleaning up the output"
   ]
  },
  {
   "cell_type": "code",
   "execution_count": 69,
   "metadata": {},
   "outputs": [
    {
     "name": "stdout",
     "output_type": "stream",
     "text": [
      "[4240 4793 4198 1851 3749 3813]\n",
      "4240\n",
      "4198\n"
     ]
    }
   ],
   "source": [
    "#indices are displayed as a list within a list\n",
    "print indices[0]\n",
    "print indices[0][0]\n",
    "print indices[0][2]"
   ]
  },
  {
   "cell_type": "code",
   "execution_count": 70,
   "metadata": {},
   "outputs": [
    {
     "name": "stdout",
     "output_type": "stream",
     "text": [
      "4240\n",
      "[4793 4198 1851 3749 3813]\n"
     ]
    }
   ],
   "source": [
    "sample_reviewer = indices[0][0]\n",
    "suggested_reviewers = indices[0][1:]\n",
    "\n",
    "print sample_reviewer\n",
    "print suggested_reviewers"
   ]
  },
  {
   "cell_type": "code",
   "execution_count": 71,
   "metadata": {
    "collapsed": true
   },
   "outputs": [],
   "source": [
    "# Make a function to filter out titles already listed in our source reviewer...\n",
    "def user_suggestions(ur, sr):\n",
    "    usrTitles = []\n",
    "    for t in pivot.iloc[ur].dropna().index:\n",
    "        usrTitles.append(t)\n",
    "    sugTitles = []\n",
    "    for rec in sr:\n",
    "        for t in pivot.iloc[rec].dropna().index:\n",
    "            sugTitles.append(t)\n",
    "\n",
    "    recommendations = [x for x in sugTitles if x not in usrTitles]\n",
    "\n",
    "    return recommendations "
   ]
  },
  {
   "cell_type": "code",
   "execution_count": 72,
   "metadata": {
    "scrolled": false
   },
   "outputs": [
    {
     "name": "stdout",
     "output_type": "stream",
     "text": [
      "Here are your Reviews:\n",
      "----------------------------------------\n",
      "title\n",
      "Deus Ex: Human Revolution (PC)                    10.0\n",
      "Mass Effect 2 (PC)                                10.0\n",
      "Mass Effect 2: Lair of the Shadow Broker (PC)      9.0\n",
      "Metro: Last Light (PC)                             9.0\n",
      "Dragon Age: Origins (PC)                           9.0\n",
      "Far Cry 3 (PC)                                     9.0\n",
      "Mass Effect (PC)                                   9.0\n",
      "BioShock Infinite (PC)                             9.0\n",
      "Portal (PC)                                        9.0\n",
      "The Elder Scrolls V: Skyrim (PC)                   9.0\n",
      "Mass Effect 3 (PC)                                 8.0\n",
      "The Walking Dead: A Telltale Games Series (PC)     8.0\n",
      "Pro Evolution Soccer 2014 (PC)                     8.0\n",
      "The Elder Scrolls IV: Oblivion (PC)                8.0\n",
      "Dishonored (PC)                                    8.0\n",
      "Thief (PC)                                         8.0\n",
      "Mass Effect 3: Citadel (PC)                        7.0\n",
      "Kingdoms of Amalur: Reckoning (PC)                 7.0\n",
      "Dead Space 3 (PC)                                  7.0\n",
      "Remember Me (PC)                                   6.0\n",
      "Name: 4240, dtype: float64\n",
      "\n",
      "****************************************\n",
      "Here are recommendations from similar reviewers...\n",
      "****************************************\n",
      "\n",
      "Titanfall (PC)\n",
      "Assassin's Creed Unity (PC)\n",
      "Battlefield 4 (PC)\n",
      "Orion: Dino Horde (PC)\n",
      "Battleborn (PC)\n",
      "Battlefield 3 (PC)\n",
      "Battlefield 4 (PC)\n",
      "Borderlands 2 (PC)\n",
      "Kane & Lynch 2: Dog Days (PC)\n",
      "Path of Exile (PC)\n"
     ]
    }
   ],
   "source": [
    "print 'Here are your Reviews:'\n",
    "print \"-\"*40\n",
    "print pivot.iloc[sample_reviewer].dropna().sort_values(ascending=False)\n",
    "print\n",
    "print \"*\"*40\n",
    "print \"Here are recommendations from similar reviewers...\"\n",
    "print \"*\"*40\n",
    "print\n",
    "for i in user_suggestions(sample_reviewer, suggested_reviewers):\n",
    "    print i"
   ]
  },
  {
   "cell_type": "markdown",
   "metadata": {
    "collapsed": true
   },
   "source": [
    "### Checking the results...\n",
    "I've tested about 10-20 different entries, and we seem to be getting at least the same or better results than with the dropped reviewers from before. This is good because we get to keep many more reviewers on hand. For the next section I'll build a user input that allows people to feed in their own scores."
   ]
  }
 ],
 "metadata": {
  "kernelspec": {
   "display_name": "Python 2",
   "language": "python",
   "name": "python2"
  },
  "language_info": {
   "codemirror_mode": {
    "name": "ipython",
    "version": 2
   },
   "file_extension": ".py",
   "mimetype": "text/x-python",
   "name": "python",
   "nbconvert_exporter": "python",
   "pygments_lexer": "ipython2",
   "version": "2.7.13"
  }
 },
 "nbformat": 4,
 "nbformat_minor": 2
}
